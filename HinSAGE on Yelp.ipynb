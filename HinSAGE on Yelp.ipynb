{
 "cells": [
  {
   "cell_type": "code",
   "execution_count": 94,
   "metadata": {},
   "outputs": [],
   "source": [
    "# Load libraries\n",
    "import pandas as pd\n",
    "import numpy as np\n",
    "import json\n",
    "import tensorflow as tf\n",
    "from sklearn import model_selection\n",
    "import networkx as nx\n",
    "\n",
    "import sys\n",
    "import os\n",
    "import torch\n",
    "import argparse\n",
    "import random\n",
    "\n",
    "\n",
    "import stellargraph as sg\n",
    "from stellargraph.mapper import GraphSAGELinkGenerator, GraphSAGENodeGenerator\n",
    "from stellargraph.layer import GraphSAGE, link_classification\n",
    "from stellargraph.data import UnsupervisedSampler\n",
    "\n",
    "\n",
    "#Hindsage libraries\n",
    "from sklearn import preprocessing, feature_extraction, model_selection\n",
    "from sklearn.metrics import mean_absolute_error, mean_squared_error\n",
    "\n",
    "from stellargraph.mapper import HinSAGELinkGenerator\n",
    "from stellargraph.layer import HinSAGE, link_regression\n",
    "from tensorflow.keras import Model, optimizers, losses, metrics\n",
    "\n",
    "import multiprocessing\n",
    "from stellargraph import datasets\n",
    "from IPython.display import display, HTML\n",
    "import matplotlib.pyplot as plt\n",
    "%matplotlib inline"
   ]
  },
  {
   "cell_type": "code",
   "execution_count": 2,
   "metadata": {},
   "outputs": [],
   "source": [
    "with open('yelp_academic_dataset_review.json') as json_file:      \n",
    "    data = json_file.readlines()\n",
    "    # this line below may take at least 8-10 minutes of processing for 4-5 million rows. It converts all strings in list to actual json objects. \n",
    "    data = list(map(json.loads, data)) \n",
    "reviews_data = pd.DataFrame(data)"
   ]
  },
  {
   "cell_type": "code",
   "execution_count": 3,
   "metadata": {},
   "outputs": [],
   "source": [
    "with open('yelp_academic_dataset_user.json') as json_file_1:      \n",
    "    data_1 = json_file_1.readlines()\n",
    "    # this line below may take at least 8-10 minutes of processing for 4-5 million rows. It converts all strings in list to actual json objects. \n",
    "    data_1 = list(map(json.loads, data_1)) \n",
    "\n",
    "user_data = pd.DataFrame(data_1)"
   ]
  },
  {
   "cell_type": "code",
   "execution_count": 4,
   "metadata": {},
   "outputs": [],
   "source": [
    "with open('yelp_academic_dataset_business.json') as json_file_2:      \n",
    "    data_2 = json_file_2.readlines()\n",
    "    # this line below may take at least 8-10 minutes of processing for 4-5 million rows. It converts all strings in list to actual json objects. \n",
    "    data_2 = list(map(json.loads, data_2)) \n",
    "\n",
    "business_data = pd.DataFrame(data_2)"
   ]
  },
  {
   "cell_type": "code",
   "execution_count": null,
   "metadata": {},
   "outputs": [],
   "source": []
  },
  {
   "cell_type": "code",
   "execution_count": 5,
   "metadata": {},
   "outputs": [],
   "source": [
    "business_dataset = business_data[business_data.state == 'IL']"
   ]
  },
  {
   "cell_type": "code",
   "execution_count": 6,
   "metadata": {},
   "outputs": [],
   "source": [
    "business_dataset = business_dataset.loc[(business_dataset['review_count'] >= 15)]"
   ]
  },
  {
   "cell_type": "code",
   "execution_count": 7,
   "metadata": {},
   "outputs": [],
   "source": [
    "business_dataset.index = pd.Series(range(0,717))"
   ]
  },
  {
   "cell_type": "code",
   "execution_count": 8,
   "metadata": {},
   "outputs": [],
   "source": [
    "business_dataset[\"category\"] = 0"
   ]
  },
  {
   "cell_type": "code",
   "execution_count": 9,
   "metadata": {},
   "outputs": [
    {
     "data": {
      "text/html": [
       "<div>\n",
       "<style scoped>\n",
       "    .dataframe tbody tr th:only-of-type {\n",
       "        vertical-align: middle;\n",
       "    }\n",
       "\n",
       "    .dataframe tbody tr th {\n",
       "        vertical-align: top;\n",
       "    }\n",
       "\n",
       "    .dataframe thead th {\n",
       "        text-align: right;\n",
       "    }\n",
       "</style>\n",
       "<table border=\"1\" class=\"dataframe\">\n",
       "  <thead>\n",
       "    <tr style=\"text-align: right;\">\n",
       "      <th></th>\n",
       "      <th>stars</th>\n",
       "      <th>category</th>\n",
       "    </tr>\n",
       "    <tr>\n",
       "      <th>business_id</th>\n",
       "      <th></th>\n",
       "      <th></th>\n",
       "    </tr>\n",
       "  </thead>\n",
       "  <tbody>\n",
       "    <tr>\n",
       "      <th>UiyjUa8CQmygujhe-ZYlsw</th>\n",
       "      <td>3.0</td>\n",
       "      <td>0</td>\n",
       "    </tr>\n",
       "    <tr>\n",
       "      <th>-LfTBo0oa_uD454ScEW2XA</th>\n",
       "      <td>3.0</td>\n",
       "      <td>0</td>\n",
       "    </tr>\n",
       "    <tr>\n",
       "      <th>R32Yh0XxxanldkIp11fuRg</th>\n",
       "      <td>3.5</td>\n",
       "      <td>0</td>\n",
       "    </tr>\n",
       "    <tr>\n",
       "      <th>-1TUzO4XCmOeqi9eAGeDWA</th>\n",
       "      <td>4.5</td>\n",
       "      <td>0</td>\n",
       "    </tr>\n",
       "    <tr>\n",
       "      <th>WO2nNar_wIQ3fIAfF3MM1Q</th>\n",
       "      <td>4.0</td>\n",
       "      <td>0</td>\n",
       "    </tr>\n",
       "    <tr>\n",
       "      <th>...</th>\n",
       "      <td>...</td>\n",
       "      <td>...</td>\n",
       "    </tr>\n",
       "    <tr>\n",
       "      <th>ldKrUirpZZ6JDnNwOwLpvw</th>\n",
       "      <td>3.0</td>\n",
       "      <td>0</td>\n",
       "    </tr>\n",
       "    <tr>\n",
       "      <th>KCQNEIvtU48Mh07uS-_Gvw</th>\n",
       "      <td>2.5</td>\n",
       "      <td>0</td>\n",
       "    </tr>\n",
       "    <tr>\n",
       "      <th>nh1-ax9wPNCqskcJYIWogg</th>\n",
       "      <td>2.5</td>\n",
       "      <td>0</td>\n",
       "    </tr>\n",
       "    <tr>\n",
       "      <th>DTxj39kZVe3NUscJoPYUYA</th>\n",
       "      <td>3.0</td>\n",
       "      <td>0</td>\n",
       "    </tr>\n",
       "    <tr>\n",
       "      <th>Qtv6iGDAHBmAKBgl40JgLw</th>\n",
       "      <td>3.5</td>\n",
       "      <td>0</td>\n",
       "    </tr>\n",
       "  </tbody>\n",
       "</table>\n",
       "<p>717 rows × 2 columns</p>\n",
       "</div>"
      ],
      "text/plain": [
       "                        stars  category\n",
       "business_id                            \n",
       "UiyjUa8CQmygujhe-ZYlsw    3.0         0\n",
       "-LfTBo0oa_uD454ScEW2XA    3.0         0\n",
       "R32Yh0XxxanldkIp11fuRg    3.5         0\n",
       "-1TUzO4XCmOeqi9eAGeDWA    4.5         0\n",
       "WO2nNar_wIQ3fIAfF3MM1Q    4.0         0\n",
       "...                       ...       ...\n",
       "ldKrUirpZZ6JDnNwOwLpvw    3.0         0\n",
       "KCQNEIvtU48Mh07uS-_Gvw    2.5         0\n",
       "nh1-ax9wPNCqskcJYIWogg    2.5         0\n",
       "DTxj39kZVe3NUscJoPYUYA    3.0         0\n",
       "Qtv6iGDAHBmAKBgl40JgLw    3.5         0\n",
       "\n",
       "[717 rows x 2 columns]"
      ]
     },
     "execution_count": 9,
     "metadata": {},
     "output_type": "execute_result"
    }
   ],
   "source": [
    "node_data_business = pd.DataFrame(business_dataset)\n",
    "feature_names_business = ['business_id','stars', 'category']\n",
    "node_features_business = pd.DataFrame(node_data_business[feature_names_business],index = node_data_business.index)\n",
    "node_features_business.index =  node_data_business[\"business_id\"]\n",
    "node_features_business = node_features_business.drop(columns=['business_id'])\n",
    "node_features_business[0:]"
   ]
  },
  {
   "cell_type": "code",
   "execution_count": 10,
   "metadata": {},
   "outputs": [],
   "source": [
    "# Data cleaning for reviews dataset"
   ]
  },
  {
   "cell_type": "code",
   "execution_count": 11,
   "metadata": {},
   "outputs": [],
   "source": [
    "business_id_array = business_dataset['business_id'].values"
   ]
  },
  {
   "cell_type": "code",
   "execution_count": 12,
   "metadata": {},
   "outputs": [],
   "source": [
    "reviews_dataset = reviews_data.loc[reviews_data['business_id'].isin(business_id_array)]"
   ]
  },
  {
   "cell_type": "code",
   "execution_count": 13,
   "metadata": {},
   "outputs": [
    {
     "name": "stderr",
     "output_type": "stream",
     "text": [
      "<ipython-input-13-ba30f82d583b>:1: SettingWithCopyWarning: \n",
      "A value is trying to be set on a copy of a slice from a DataFrame.\n",
      "Try using .loc[row_indexer,col_indexer] = value instead\n",
      "\n",
      "See the caveats in the documentation: https://pandas.pydata.org/pandas-docs/stable/user_guide/indexing.html#returning-a-view-versus-a-copy\n",
      "  reviews_dataset[\"category\"] = 1\n"
     ]
    }
   ],
   "source": [
    "reviews_dataset[\"category\"] = 1"
   ]
  },
  {
   "cell_type": "code",
   "execution_count": 14,
   "metadata": {},
   "outputs": [
    {
     "data": {
      "text/html": [
       "<div>\n",
       "<style scoped>\n",
       "    .dataframe tbody tr th:only-of-type {\n",
       "        vertical-align: middle;\n",
       "    }\n",
       "\n",
       "    .dataframe tbody tr th {\n",
       "        vertical-align: top;\n",
       "    }\n",
       "\n",
       "    .dataframe thead th {\n",
       "        text-align: right;\n",
       "    }\n",
       "</style>\n",
       "<table border=\"1\" class=\"dataframe\">\n",
       "  <thead>\n",
       "    <tr style=\"text-align: right;\">\n",
       "      <th></th>\n",
       "      <th>stars</th>\n",
       "      <th>category</th>\n",
       "    </tr>\n",
       "    <tr>\n",
       "      <th>review_id</th>\n",
       "      <th></th>\n",
       "      <th></th>\n",
       "    </tr>\n",
       "  </thead>\n",
       "  <tbody>\n",
       "    <tr>\n",
       "      <th>qWHp2l2lysENZObh6MAulA</th>\n",
       "      <td>5.0</td>\n",
       "      <td>1</td>\n",
       "    </tr>\n",
       "    <tr>\n",
       "      <th>n2BEHit2SwqsRo6jlTagUA</th>\n",
       "      <td>2.0</td>\n",
       "      <td>1</td>\n",
       "    </tr>\n",
       "    <tr>\n",
       "      <th>m4AXzV9l14iFBd9DRdM82w</th>\n",
       "      <td>1.0</td>\n",
       "      <td>1</td>\n",
       "    </tr>\n",
       "    <tr>\n",
       "      <th>A-yKlSLEQQcoHR5q2lCyHg</th>\n",
       "      <td>5.0</td>\n",
       "      <td>1</td>\n",
       "    </tr>\n",
       "    <tr>\n",
       "      <th>asLnux3k2yqoVjcJcLuF0g</th>\n",
       "      <td>4.0</td>\n",
       "      <td>1</td>\n",
       "    </tr>\n",
       "    <tr>\n",
       "      <th>...</th>\n",
       "      <td>...</td>\n",
       "      <td>...</td>\n",
       "    </tr>\n",
       "    <tr>\n",
       "      <th>57cCUwZm4lsHum8aENC6Kg</th>\n",
       "      <td>1.0</td>\n",
       "      <td>1</td>\n",
       "    </tr>\n",
       "    <tr>\n",
       "      <th>ZnE93UGlk29kX0dfwMOGNw</th>\n",
       "      <td>5.0</td>\n",
       "      <td>1</td>\n",
       "    </tr>\n",
       "    <tr>\n",
       "      <th>fGgMD8npNcGyx_Fr91m_Dg</th>\n",
       "      <td>4.0</td>\n",
       "      <td>1</td>\n",
       "    </tr>\n",
       "    <tr>\n",
       "      <th>flX4YICNgGSs2QriJ2CgRw</th>\n",
       "      <td>4.0</td>\n",
       "      <td>1</td>\n",
       "    </tr>\n",
       "    <tr>\n",
       "      <th>J8hLMRbhy7JJgvg_rYn_AQ</th>\n",
       "      <td>1.0</td>\n",
       "      <td>1</td>\n",
       "    </tr>\n",
       "  </tbody>\n",
       "</table>\n",
       "<p>39138 rows × 2 columns</p>\n",
       "</div>"
      ],
      "text/plain": [
       "                        stars  category\n",
       "review_id                              \n",
       "qWHp2l2lysENZObh6MAulA    5.0         1\n",
       "n2BEHit2SwqsRo6jlTagUA    2.0         1\n",
       "m4AXzV9l14iFBd9DRdM82w    1.0         1\n",
       "A-yKlSLEQQcoHR5q2lCyHg    5.0         1\n",
       "asLnux3k2yqoVjcJcLuF0g    4.0         1\n",
       "...                       ...       ...\n",
       "57cCUwZm4lsHum8aENC6Kg    1.0         1\n",
       "ZnE93UGlk29kX0dfwMOGNw    5.0         1\n",
       "fGgMD8npNcGyx_Fr91m_Dg    4.0         1\n",
       "flX4YICNgGSs2QriJ2CgRw    4.0         1\n",
       "J8hLMRbhy7JJgvg_rYn_AQ    1.0         1\n",
       "\n",
       "[39138 rows x 2 columns]"
      ]
     },
     "execution_count": 14,
     "metadata": {},
     "output_type": "execute_result"
    }
   ],
   "source": [
    "reviews_dataset.index = pd.Series(range(0,39138))\n",
    "node_data_review = pd.DataFrame(reviews_dataset)\n",
    "feature_names_reviews = ['review_id','stars', 'category']\n",
    "node_features_reviews = pd.DataFrame(node_data_review[feature_names_reviews],index = node_data_review.index)\n",
    "node_features_reviews.index = node_data_review['review_id']\n",
    "node_features_reviews = node_features_reviews.drop(columns = ['review_id'])\n",
    "node_features_reviews[0:]"
   ]
  },
  {
   "cell_type": "code",
   "execution_count": 15,
   "metadata": {},
   "outputs": [],
   "source": [
    "#Data cleaning for user dataset"
   ]
  },
  {
   "cell_type": "code",
   "execution_count": 16,
   "metadata": {},
   "outputs": [],
   "source": [
    "user_id_array = reviews_dataset['user_id'].values"
   ]
  },
  {
   "cell_type": "code",
   "execution_count": 17,
   "metadata": {},
   "outputs": [],
   "source": [
    "user_dataset = user_data.loc[user_data['user_id'].isin(user_id_array)]"
   ]
  },
  {
   "cell_type": "code",
   "execution_count": 18,
   "metadata": {},
   "outputs": [
    {
     "name": "stderr",
     "output_type": "stream",
     "text": [
      "<ipython-input-18-cb744e0f1c93>:1: SettingWithCopyWarning: \n",
      "A value is trying to be set on a copy of a slice from a DataFrame.\n",
      "Try using .loc[row_indexer,col_indexer] = value instead\n",
      "\n",
      "See the caveats in the documentation: https://pandas.pydata.org/pandas-docs/stable/user_guide/indexing.html#returning-a-view-versus-a-copy\n",
      "  user_dataset[\"category\"] = 2\n",
      "<ipython-input-18-cb744e0f1c93>:2: SettingWithCopyWarning: \n",
      "A value is trying to be set on a copy of a slice from a DataFrame.\n",
      "Try using .loc[row_indexer,col_indexer] = value instead\n",
      "\n",
      "See the caveats in the documentation: https://pandas.pydata.org/pandas-docs/stable/user_guide/indexing.html#returning-a-view-versus-a-copy\n",
      "  user_dataset[\"stars\"] = 0\n"
     ]
    }
   ],
   "source": [
    "user_dataset[\"category\"] = 2\n",
    "user_dataset[\"stars\"] = 0"
   ]
  },
  {
   "cell_type": "code",
   "execution_count": 19,
   "metadata": {
    "scrolled": true
   },
   "outputs": [
    {
     "data": {
      "text/html": [
       "<div>\n",
       "<style scoped>\n",
       "    .dataframe tbody tr th:only-of-type {\n",
       "        vertical-align: middle;\n",
       "    }\n",
       "\n",
       "    .dataframe tbody tr th {\n",
       "        vertical-align: top;\n",
       "    }\n",
       "\n",
       "    .dataframe thead th {\n",
       "        text-align: right;\n",
       "    }\n",
       "</style>\n",
       "<table border=\"1\" class=\"dataframe\">\n",
       "  <thead>\n",
       "    <tr style=\"text-align: right;\">\n",
       "      <th></th>\n",
       "      <th>stars</th>\n",
       "      <th>category</th>\n",
       "    </tr>\n",
       "    <tr>\n",
       "      <th>user_id</th>\n",
       "      <th></th>\n",
       "      <th></th>\n",
       "    </tr>\n",
       "  </thead>\n",
       "  <tbody>\n",
       "    <tr>\n",
       "      <th>fcNU65OaCj7slBJ60VSQgw</th>\n",
       "      <td>0</td>\n",
       "      <td>2</td>\n",
       "    </tr>\n",
       "    <tr>\n",
       "      <th>4mjnkd8oJVCfBKN3i4rB-g</th>\n",
       "      <td>0</td>\n",
       "      <td>2</td>\n",
       "    </tr>\n",
       "    <tr>\n",
       "      <th>ZdYHJ-hctaaDeH1CpP7-EA</th>\n",
       "      <td>0</td>\n",
       "      <td>2</td>\n",
       "    </tr>\n",
       "    <tr>\n",
       "      <th>JWgti_adPZywG9SKUbnB-w</th>\n",
       "      <td>0</td>\n",
       "      <td>2</td>\n",
       "    </tr>\n",
       "    <tr>\n",
       "      <th>PIzmdHF7p9GwXhwt3b3JxQ</th>\n",
       "      <td>0</td>\n",
       "      <td>2</td>\n",
       "    </tr>\n",
       "    <tr>\n",
       "      <th>...</th>\n",
       "      <td>...</td>\n",
       "      <td>...</td>\n",
       "    </tr>\n",
       "    <tr>\n",
       "      <th>YfVGrr7SqPI1NY-mx9jfUw</th>\n",
       "      <td>0</td>\n",
       "      <td>2</td>\n",
       "    </tr>\n",
       "    <tr>\n",
       "      <th>lcd1uiaw4sZd7wGxpHbd0w</th>\n",
       "      <td>0</td>\n",
       "      <td>2</td>\n",
       "    </tr>\n",
       "    <tr>\n",
       "      <th>woRHA_rBPcg-KU8EJDG1Ig</th>\n",
       "      <td>0</td>\n",
       "      <td>2</td>\n",
       "    </tr>\n",
       "    <tr>\n",
       "      <th>3Xop9LVQDOWIVjFRj07QTw</th>\n",
       "      <td>0</td>\n",
       "      <td>2</td>\n",
       "    </tr>\n",
       "    <tr>\n",
       "      <th>GHb_NO0eeXpiwA5oJvI3rw</th>\n",
       "      <td>0</td>\n",
       "      <td>2</td>\n",
       "    </tr>\n",
       "  </tbody>\n",
       "</table>\n",
       "<p>14664 rows × 2 columns</p>\n",
       "</div>"
      ],
      "text/plain": [
       "                        stars  category\n",
       "user_id                                \n",
       "fcNU65OaCj7slBJ60VSQgw      0         2\n",
       "4mjnkd8oJVCfBKN3i4rB-g      0         2\n",
       "ZdYHJ-hctaaDeH1CpP7-EA      0         2\n",
       "JWgti_adPZywG9SKUbnB-w      0         2\n",
       "PIzmdHF7p9GwXhwt3b3JxQ      0         2\n",
       "...                       ...       ...\n",
       "YfVGrr7SqPI1NY-mx9jfUw      0         2\n",
       "lcd1uiaw4sZd7wGxpHbd0w      0         2\n",
       "woRHA_rBPcg-KU8EJDG1Ig      0         2\n",
       "3Xop9LVQDOWIVjFRj07QTw      0         2\n",
       "GHb_NO0eeXpiwA5oJvI3rw      0         2\n",
       "\n",
       "[14664 rows x 2 columns]"
      ]
     },
     "execution_count": 19,
     "metadata": {},
     "output_type": "execute_result"
    }
   ],
   "source": [
    "user_dataset.index = pd.Series(range(0,14664))\n",
    "node_data_user = pd.DataFrame(user_dataset)\n",
    "feature_names_user = ['user_id','stars', 'category']\n",
    "node_features_user = pd.DataFrame(node_data_user[feature_names_user],index = node_data_user.index)\n",
    "node_features_user.index = node_features_user['user_id']\n",
    "\n",
    "# duplicate_indices = ['Ig_kYiH5Jr3BmPy9QiUhcA','Ya5Rf9V_rt0CF5uSllo0-g','vrAMHb0pzDko9_kxOZMgVg','wlsl5O1f8AnOYg1S53bRhw']\n",
    "# dup_1 = node_features_user[ node_features_user['user_id'] == 'Ig_kYiH5Jr3BmPy9QiUhcA' ].index \n",
    "# dup_2 = node_features_user[ node_features_user['user_id'] == 'Ya5Rf9V_rt0CF5uSllo0-g' ].index\n",
    "# dup_3 = node_features_user[ node_features_user['user_id'] == 'vrAMHb0pzDko9_kxOZMgVg' ].index\n",
    "# dup_4 = node_features_user[ node_features_user['user_id'] == 'wlsl5O1f8AnOYg1S53bRhw' ].index\n",
    "\n",
    "  \n",
    "# # drop these row indexes \n",
    "# # from dataFrame \n",
    "# node_features_user.drop(dup_1, inplace = True)\n",
    "# node_features_user.drop(dup_2, inplace = True)\n",
    "# node_features_user.drop(dup_3, inplace = True)\n",
    "# node_features_user.drop(dup_4, inplace = True)\n",
    "\n",
    "\n",
    "node_features_user = node_features_user.drop(columns = ['user_id'])\n",
    "node_features_user[0:]"
   ]
  },
  {
   "cell_type": "code",
   "execution_count": null,
   "metadata": {},
   "outputs": [],
   "source": []
  },
  {
   "cell_type": "code",
   "execution_count": 20,
   "metadata": {},
   "outputs": [],
   "source": [
    "#Hindsage\n",
    "batch_size = 200\n",
    "epochs = 20\n",
    "# Use 70% of edges for training, the rest for testing:\n",
    "train_size = 0.7\n",
    "test_size = 0.3"
   ]
  },
  {
   "cell_type": "code",
   "execution_count": 21,
   "metadata": {},
   "outputs": [
    {
     "data": {
      "text/html": [
       "<div>\n",
       "<style scoped>\n",
       "    .dataframe tbody tr th:only-of-type {\n",
       "        vertical-align: middle;\n",
       "    }\n",
       "\n",
       "    .dataframe tbody tr th {\n",
       "        vertical-align: top;\n",
       "    }\n",
       "\n",
       "    .dataframe thead th {\n",
       "        text-align: right;\n",
       "    }\n",
       "</style>\n",
       "<table border=\"1\" class=\"dataframe\">\n",
       "  <thead>\n",
       "    <tr style=\"text-align: right;\">\n",
       "      <th></th>\n",
       "      <th>source</th>\n",
       "      <th>target</th>\n",
       "      <th>weight</th>\n",
       "    </tr>\n",
       "  </thead>\n",
       "  <tbody>\n",
       "    <tr>\n",
       "      <th>0</th>\n",
       "      <td>ZlCSsWS07JulSBIQlrbF5w</td>\n",
       "      <td>5lb0POg2t-AkMFx6603cYQ</td>\n",
       "      <td>5.0</td>\n",
       "    </tr>\n",
       "    <tr>\n",
       "      <th>1</th>\n",
       "      <td>2qLOnQtWSlTOtkfEFyWScg</td>\n",
       "      <td>abdw-Nf5xxWdi5wmUO7UYg</td>\n",
       "      <td>2.0</td>\n",
       "    </tr>\n",
       "    <tr>\n",
       "      <th>2</th>\n",
       "      <td>9A1C1f0m4nQltQrOOTl-Kw</td>\n",
       "      <td>6X0i-oGUbh5DZdTHzFuKfg</td>\n",
       "      <td>1.0</td>\n",
       "    </tr>\n",
       "    <tr>\n",
       "      <th>3</th>\n",
       "      <td>VHsNB3pdGVcRgs6C3jt6Zg</td>\n",
       "      <td>Yximlvn0cfb3yVDaLuXDxw</td>\n",
       "      <td>5.0</td>\n",
       "    </tr>\n",
       "    <tr>\n",
       "      <th>4</th>\n",
       "      <td>Ah4i15g8Ow_zphzcpulTxQ</td>\n",
       "      <td>Cz8l7JQ2I_RhtK0BosH-7Q</td>\n",
       "      <td>4.0</td>\n",
       "    </tr>\n",
       "    <tr>\n",
       "      <th>...</th>\n",
       "      <td>...</td>\n",
       "      <td>...</td>\n",
       "      <td>...</td>\n",
       "    </tr>\n",
       "    <tr>\n",
       "      <th>39133</th>\n",
       "      <td>IJ_1Hcuh89ETzDFK6pXOpg</td>\n",
       "      <td>R_VuCujoBAOFpUuqIYC_Gg</td>\n",
       "      <td>1.0</td>\n",
       "    </tr>\n",
       "    <tr>\n",
       "      <th>39134</th>\n",
       "      <td>PBmfdx-tC2D54FI3HtcKww</td>\n",
       "      <td>ViqyzZgObMSOwWBoQbLjSg</td>\n",
       "      <td>5.0</td>\n",
       "    </tr>\n",
       "    <tr>\n",
       "      <th>39135</th>\n",
       "      <td>dn9lwYUxmhs_mLKPu7L25Q</td>\n",
       "      <td>Nl9ouJ9EqcNCX7gdPw9ZCw</td>\n",
       "      <td>4.0</td>\n",
       "    </tr>\n",
       "    <tr>\n",
       "      <th>39136</th>\n",
       "      <td>l4x5FFzfiCFrGN0S-uZbBQ</td>\n",
       "      <td>x4XrrBXlKABQCyv1AMHHrA</td>\n",
       "      <td>4.0</td>\n",
       "    </tr>\n",
       "    <tr>\n",
       "      <th>39137</th>\n",
       "      <td>cF0WRk04GfH3iwvwQeXSdA</td>\n",
       "      <td>z3RyS0fkEoMzfg3u9ayiyA</td>\n",
       "      <td>1.0</td>\n",
       "    </tr>\n",
       "  </tbody>\n",
       "</table>\n",
       "<p>39138 rows × 3 columns</p>\n",
       "</div>"
      ],
      "text/plain": [
       "                       source                  target  weight\n",
       "0      ZlCSsWS07JulSBIQlrbF5w  5lb0POg2t-AkMFx6603cYQ     5.0\n",
       "1      2qLOnQtWSlTOtkfEFyWScg  abdw-Nf5xxWdi5wmUO7UYg     2.0\n",
       "2      9A1C1f0m4nQltQrOOTl-Kw  6X0i-oGUbh5DZdTHzFuKfg     1.0\n",
       "3      VHsNB3pdGVcRgs6C3jt6Zg  Yximlvn0cfb3yVDaLuXDxw     5.0\n",
       "4      Ah4i15g8Ow_zphzcpulTxQ  Cz8l7JQ2I_RhtK0BosH-7Q     4.0\n",
       "...                       ...                     ...     ...\n",
       "39133  IJ_1Hcuh89ETzDFK6pXOpg  R_VuCujoBAOFpUuqIYC_Gg     1.0\n",
       "39134  PBmfdx-tC2D54FI3HtcKww  ViqyzZgObMSOwWBoQbLjSg     5.0\n",
       "39135  dn9lwYUxmhs_mLKPu7L25Q  Nl9ouJ9EqcNCX7gdPw9ZCw     4.0\n",
       "39136  l4x5FFzfiCFrGN0S-uZbBQ  x4XrrBXlKABQCyv1AMHHrA     4.0\n",
       "39137  cF0WRk04GfH3iwvwQeXSdA  z3RyS0fkEoMzfg3u9ayiyA     1.0\n",
       "\n",
       "[39138 rows x 3 columns]"
      ]
     },
     "execution_count": 21,
     "metadata": {},
     "output_type": "execute_result"
    }
   ],
   "source": [
    "review_business_edges = pd.DataFrame({\"source\": reviews_dataset['review_id'],\n",
    "                                      \"target\": reviews_dataset['business_id'],\n",
    "                                      \"weight\":reviews_dataset['stars']})\n",
    "\n",
    "review_user_edges = pd.DataFrame({\"source\": reviews_dataset['user_id'],\n",
    "                                      \"target\": reviews_dataset['review_id'],\n",
    "                                      \"weight\":reviews_dataset['stars']})\n",
    "\n",
    "user_business_edges = pd.DataFrame({\"source\": reviews_dataset['business_id'],\n",
    "                                      \"target\": reviews_dataset['user_id'],\n",
    "                                      \"weight\":reviews_dataset['stars']})\n",
    "user_business_edges"
   ]
  },
  {
   "cell_type": "code",
   "execution_count": 22,
   "metadata": {},
   "outputs": [],
   "source": [
    "# edges.index = pd.Series(range(0,117414))\n",
    "# edges"
   ]
  },
  {
   "cell_type": "code",
   "execution_count": 23,
   "metadata": {},
   "outputs": [],
   "source": [
    "edges_train, edges_test = model_selection.train_test_split(\n",
    "    user_business_edges, train_size=train_size, test_size=test_size\n",
    ")\n",
    "\n",
    "edgelist_train = list(edges_train[[\"source\", \"target\"]].itertuples(index=False))\n",
    "edgelist_test = list(edges_test[[\"source\", \"target\"]].itertuples(index=False))\n",
    "\n",
    "labels_train = edges_train[\"weight\"]\n",
    "labels_test = edges_test[\"weight\"]"
   ]
  },
  {
   "cell_type": "code",
   "execution_count": 24,
   "metadata": {},
   "outputs": [],
   "source": [
    "num_samples = [8, 4]"
   ]
  },
  {
   "cell_type": "code",
   "execution_count": 25,
   "metadata": {},
   "outputs": [],
   "source": [
    "#To find the duplicates in features data frame\n",
    "# pics = features.index.unique()\n",
    "# len(pics)\n",
    "# for i in (pics):\n",
    "#     sub = features[features.index==i]\n",
    "#     if len(sub)>1:\n",
    "#         print(sub)  "
   ]
  },
  {
   "cell_type": "code",
   "execution_count": 26,
   "metadata": {},
   "outputs": [],
   "source": [
    "features = pd.concat([node_features_reviews,node_features_business,node_features_user])"
   ]
  },
  {
   "cell_type": "code",
   "execution_count": 27,
   "metadata": {},
   "outputs": [],
   "source": [
    "G = sg.StellarGraph(nodes = {\"user\": node_features_user,\"business\": node_features_business}, edges = user_business_edges)"
   ]
  },
  {
   "cell_type": "code",
   "execution_count": 28,
   "metadata": {},
   "outputs": [
    {
     "name": "stdout",
     "output_type": "stream",
     "text": [
      "StellarGraph: Undirected multigraph\n",
      " Nodes: 15381, Edges: 39138\n",
      "\n",
      " Node types:\n",
      "  user: [14664]\n",
      "    Features: float32 vector, length 2\n",
      "    Edge types: user-default->business\n",
      "  business: [717]\n",
      "    Features: float32 vector, length 2\n",
      "    Edge types: business-default->user\n",
      "\n",
      " Edge types:\n",
      "    business-default->user: [39138]\n",
      "        Weights: range=[1, 5], mean=3.58421, std=1.4602\n",
      "        Features: none\n"
     ]
    }
   ],
   "source": [
    "print(G.info())"
   ]
  },
  {
   "cell_type": "code",
   "execution_count": 29,
   "metadata": {},
   "outputs": [],
   "source": [
    "# generator_G = GraphSAGELinkGenerator(G, batch_size, num_samples)\n",
    "# train_gen_G = generator.flow(edgelist_train, labels_train, shuffle=True)\n",
    "# test_gen_G = generator.flow(edgelist_test, labels_test)"
   ]
  },
  {
   "cell_type": "code",
   "execution_count": 30,
   "metadata": {},
   "outputs": [],
   "source": [
    "nodes_user = list(node_features_user.index)\n",
    "nodes_business = list(node_features_business.index)\n",
    "nodes = nodes_user + nodes_business\n",
    "number_of_walks = 1\n",
    "length = 5\n"
   ]
  },
  {
   "cell_type": "code",
   "execution_count": 31,
   "metadata": {},
   "outputs": [],
   "source": [
    "generator = sg.mapper.HinSAGELinkGenerator(\n",
    "    G, batch_size, num_samples , head_node_types = ('business','user')\n",
    ")"
   ]
  },
  {
   "cell_type": "code",
   "execution_count": 32,
   "metadata": {},
   "outputs": [],
   "source": [
    "train_gen = generator.flow(edgelist_train, labels_train, shuffle=True)"
   ]
  },
  {
   "cell_type": "code",
   "execution_count": 33,
   "metadata": {},
   "outputs": [],
   "source": [
    "test_gen = generator.flow(edgelist_test, labels_test)"
   ]
  },
  {
   "cell_type": "code",
   "execution_count": 34,
   "metadata": {},
   "outputs": [
    {
     "data": {
      "text/plain": [
       "[('business', [2]),\n",
       " ('user', [3]),\n",
       " ('user', [4]),\n",
       " ('business', [5]),\n",
       " ('business', []),\n",
       " ('user', [])]"
      ]
     },
     "execution_count": 34,
     "metadata": {},
     "output_type": "execute_result"
    }
   ],
   "source": [
    "generator.schema.type_adjacency_list(generator.head_node_types, len(num_samples))"
   ]
  },
  {
   "cell_type": "code",
   "execution_count": 35,
   "metadata": {},
   "outputs": [
    {
     "data": {
      "text/plain": [
       "{'user': [EdgeType(n1='user', rel='default', n2='business')],\n",
       " 'business': [EdgeType(n1='business', rel='default', n2='user')]}"
      ]
     },
     "execution_count": 35,
     "metadata": {},
     "output_type": "execute_result"
    }
   ],
   "source": [
    "generator.schema.schema"
   ]
  },
  {
   "cell_type": "code",
   "execution_count": 36,
   "metadata": {},
   "outputs": [],
   "source": [
    "hinsage_layer_sizes = [32, 32]\n",
    "assert len(hinsage_layer_sizes) == len(num_samples)\n",
    "\n",
    "hinsage = HinSAGE(\n",
    "    layer_sizes=hinsage_layer_sizes, generator=generator, bias=True, dropout=0.0\n",
    ")"
   ]
  },
  {
   "cell_type": "code",
   "execution_count": 37,
   "metadata": {},
   "outputs": [],
   "source": [
    "x_inp, x_out = hinsage.in_out_tensors()"
   ]
  },
  {
   "cell_type": "code",
   "execution_count": 38,
   "metadata": {},
   "outputs": [
    {
     "name": "stdout",
     "output_type": "stream",
     "text": [
      "link_regression: using 'concat' method to combine node embeddings into edge embeddings\n"
     ]
    }
   ],
   "source": [
    "score_prediction = link_regression(edge_embedding_method=\"concat\")(x_out)"
   ]
  },
  {
   "cell_type": "code",
   "execution_count": 39,
   "metadata": {},
   "outputs": [
    {
     "data": {
      "text/plain": [
       "[<KerasTensor: shape=(None, 1, 2) dtype=float32 (created by layer 'input_1')>,\n",
       " <KerasTensor: shape=(None, 1, 2) dtype=float32 (created by layer 'input_2')>,\n",
       " <KerasTensor: shape=(None, 8, 2) dtype=float32 (created by layer 'input_3')>,\n",
       " <KerasTensor: shape=(None, 8, 2) dtype=float32 (created by layer 'input_4')>,\n",
       " <KerasTensor: shape=(None, 32, 2) dtype=float32 (created by layer 'input_5')>,\n",
       " <KerasTensor: shape=(None, 32, 2) dtype=float32 (created by layer 'input_6')>]"
      ]
     },
     "execution_count": 39,
     "metadata": {},
     "output_type": "execute_result"
    }
   ],
   "source": [
    "x_inp"
   ]
  },
  {
   "cell_type": "code",
   "execution_count": 40,
   "metadata": {},
   "outputs": [
    {
     "data": {
      "text/plain": [
       "[<KerasTensor: shape=(None, 32) dtype=float32 (created by layer 'lambda')>,\n",
       " <KerasTensor: shape=(None, 32) dtype=float32 (created by layer 'lambda')>]"
      ]
     },
     "execution_count": 40,
     "metadata": {},
     "output_type": "execute_result"
    }
   ],
   "source": [
    "x_out"
   ]
  },
  {
   "cell_type": "code",
   "execution_count": 41,
   "metadata": {},
   "outputs": [
    {
     "data": {
      "text/plain": [
       "<KerasTensor: shape=(None, 1) dtype=float32 (created by layer 'reshape_8')>"
      ]
     },
     "execution_count": 41,
     "metadata": {},
     "output_type": "execute_result"
    }
   ],
   "source": [
    "score_prediction"
   ]
  },
  {
   "cell_type": "code",
   "execution_count": 43,
   "metadata": {},
   "outputs": [],
   "source": [
    "import tensorflow.keras.backend as K\n",
    "\n",
    "\n",
    "def root_mean_square_error(s_true, s_pred):\n",
    "    return K.sqrt(K.mean(K.pow(s_true - s_pred, 2)))\n",
    "\n",
    "\n",
    "model = Model(inputs=x_inp, outputs=score_prediction)\n",
    "model.compile(\n",
    "    optimizer=optimizers.Adam(lr=1e-2),\n",
    "    loss=losses.mean_squared_error,\n",
    "    metrics=[root_mean_square_error, metrics.mae],\n",
    ")"
   ]
  },
  {
   "cell_type": "code",
   "execution_count": 44,
   "metadata": {},
   "outputs": [
    {
     "name": "stdout",
     "output_type": "stream",
     "text": [
      "Model: \"model\"\n",
      "__________________________________________________________________________________________________\n",
      "Layer (type)                    Output Shape         Param #     Connected to                     \n",
      "==================================================================================================\n",
      "input_3 (InputLayer)            [(None, 8, 2)]       0                                            \n",
      "__________________________________________________________________________________________________\n",
      "input_5 (InputLayer)            [(None, 32, 2)]      0                                            \n",
      "__________________________________________________________________________________________________\n",
      "input_6 (InputLayer)            [(None, 32, 2)]      0                                            \n",
      "__________________________________________________________________________________________________\n",
      "input_1 (InputLayer)            [(None, 1, 2)]       0                                            \n",
      "__________________________________________________________________________________________________\n",
      "reshape (Reshape)               (None, 1, 8, 2)      0           input_3[0][0]                    \n",
      "__________________________________________________________________________________________________\n",
      "reshape_2 (Reshape)             (None, 8, 4, 2)      0           input_5[0][0]                    \n",
      "__________________________________________________________________________________________________\n",
      "input_4 (InputLayer)            [(None, 8, 2)]       0                                            \n",
      "__________________________________________________________________________________________________\n",
      "reshape_3 (Reshape)             (None, 8, 4, 2)      0           input_6[0][0]                    \n",
      "__________________________________________________________________________________________________\n",
      "dropout_1 (Dropout)             (None, 1, 2)         0           input_1[0][0]                    \n",
      "__________________________________________________________________________________________________\n",
      "dropout (Dropout)               (None, 1, 8, 2)      0           reshape[0][0]                    \n",
      "__________________________________________________________________________________________________\n",
      "dropout_5 (Dropout)             (None, 8, 2)         0           input_3[0][0]                    \n",
      "__________________________________________________________________________________________________\n",
      "dropout_4 (Dropout)             (None, 8, 4, 2)      0           reshape_2[0][0]                  \n",
      "__________________________________________________________________________________________________\n",
      "input_2 (InputLayer)            [(None, 1, 2)]       0                                            \n",
      "__________________________________________________________________________________________________\n",
      "reshape_1 (Reshape)             (None, 1, 8, 2)      0           input_4[0][0]                    \n",
      "__________________________________________________________________________________________________\n",
      "dropout_7 (Dropout)             (None, 8, 2)         0           input_4[0][0]                    \n",
      "__________________________________________________________________________________________________\n",
      "dropout_6 (Dropout)             (None, 8, 4, 2)      0           reshape_3[0][0]                  \n",
      "__________________________________________________________________________________________________\n",
      "mean_hin_aggregator (MeanHinAgg multiple             96          dropout_1[0][0]                  \n",
      "                                                                 dropout[0][0]                    \n",
      "                                                                 dropout_7[0][0]                  \n",
      "                                                                 dropout_6[0][0]                  \n",
      "__________________________________________________________________________________________________\n",
      "mean_hin_aggregator_1 (MeanHinA multiple             96          dropout_3[0][0]                  \n",
      "                                                                 dropout_2[0][0]                  \n",
      "                                                                 dropout_5[0][0]                  \n",
      "                                                                 dropout_4[0][0]                  \n",
      "__________________________________________________________________________________________________\n",
      "dropout_3 (Dropout)             (None, 1, 2)         0           input_2[0][0]                    \n",
      "__________________________________________________________________________________________________\n",
      "dropout_2 (Dropout)             (None, 1, 8, 2)      0           reshape_1[0][0]                  \n",
      "__________________________________________________________________________________________________\n",
      "reshape_4 (Reshape)             (None, 1, 8, 32)     0           mean_hin_aggregator_1[1][0]      \n",
      "__________________________________________________________________________________________________\n",
      "reshape_5 (Reshape)             (None, 1, 8, 32)     0           mean_hin_aggregator[1][0]        \n",
      "__________________________________________________________________________________________________\n",
      "dropout_9 (Dropout)             (None, 1, 32)        0           mean_hin_aggregator[0][0]        \n",
      "__________________________________________________________________________________________________\n",
      "dropout_8 (Dropout)             (None, 1, 8, 32)     0           reshape_4[0][0]                  \n",
      "__________________________________________________________________________________________________\n",
      "dropout_11 (Dropout)            (None, 1, 32)        0           mean_hin_aggregator_1[0][0]      \n",
      "__________________________________________________________________________________________________\n",
      "dropout_10 (Dropout)            (None, 1, 8, 32)     0           reshape_5[0][0]                  \n",
      "__________________________________________________________________________________________________\n",
      "mean_hin_aggregator_2 (MeanHinA (None, 1, 32)        1056        dropout_9[0][0]                  \n",
      "                                                                 dropout_8[0][0]                  \n",
      "__________________________________________________________________________________________________\n",
      "mean_hin_aggregator_3 (MeanHinA (None, 1, 32)        1056        dropout_11[0][0]                 \n",
      "                                                                 dropout_10[0][0]                 \n",
      "__________________________________________________________________________________________________\n",
      "reshape_6 (Reshape)             (None, 32)           0           mean_hin_aggregator_2[0][0]      \n",
      "__________________________________________________________________________________________________\n",
      "reshape_7 (Reshape)             (None, 32)           0           mean_hin_aggregator_3[0][0]      \n",
      "__________________________________________________________________________________________________\n",
      "lambda (Lambda)                 (None, 32)           0           reshape_6[0][0]                  \n",
      "                                                                 reshape_7[0][0]                  \n",
      "__________________________________________________________________________________________________\n",
      "link_embedding (LinkEmbedding)  (None, 64)           0           lambda[0][0]                     \n",
      "                                                                 lambda[1][0]                     \n",
      "__________________________________________________________________________________________________\n",
      "dense (Dense)                   (None, 1)            65          link_embedding[0][0]             \n",
      "__________________________________________________________________________________________________\n",
      "reshape_8 (Reshape)             (None, 1)            0           dense[0][0]                      \n",
      "==================================================================================================\n",
      "Total params: 2,369\n",
      "Trainable params: 2,369\n",
      "Non-trainable params: 0\n",
      "__________________________________________________________________________________________________\n"
     ]
    }
   ],
   "source": [
    "model.summary()"
   ]
  },
  {
   "cell_type": "code",
   "execution_count": 45,
   "metadata": {},
   "outputs": [],
   "source": [
    "num_workers = 4"
   ]
  },
  {
   "cell_type": "code",
   "execution_count": 46,
   "metadata": {},
   "outputs": [
    {
     "name": "stdout",
     "output_type": "stream",
     "text": [
      "59/59 [==============================] - 24s 241ms/step - loss: 17.3959 - root_mean_square_error: 4.1698 - mean_absolute_error: 3.90778s - loss: 17.0939 - root_mean_square_error: 4.1335 - mean_absolute_error: 3.867 - ETA: 7s - loss: 17.1419 - root_mean_square_error: 4.1393 - mean_absolute_error: 3.8 - ETA: 6s - loss: 17.2216 - root_mean_square_error: 4.1489 - mean_absolute_err - ETA: 3s - loss: 17.3128 - root_mean_square_error: 4.1599 - mean_absolute_error: 3.89 - ETA: 3s - loss: 17.3189 - root_mean_square_error: 4.1606 - mean_abs\n",
      "Untrained model's Test Evaluation:\n",
      "\tloss: 17.4351\n",
      "\troot_mean_square_error: 4.1735\n",
      "\tmean_absolute_error: 3.9119\n"
     ]
    }
   ],
   "source": [
    "test_metrics = model.evaluate(\n",
    "    test_gen, verbose=1, use_multiprocessing=False, workers=num_workers\n",
    ")\n",
    "\n",
    "print(\"Untrained model's Test Evaluation:\")\n",
    "for name, val in zip(model.metrics_names, test_metrics):\n",
    "    print(\"\\t{}: {:0.4f}\".format(name, val))"
   ]
  },
  {
   "cell_type": "code",
   "execution_count": 47,
   "metadata": {},
   "outputs": [
    {
     "name": "stdout",
     "output_type": "stream",
     "text": [
      "Epoch 1/20\n",
      "137/137 [==============================] - 37s 156ms/step - loss: 2.5306 - root_mean_square_error: 1.5382 - mean_absolute_error: 1.3492 - val_loss: 1.8363 - val_root_mean_square_error: 1.3548 - val_mean_absolute_error: 1.1752s - loss: 5.9008 - root_mean_square_error: 2.3190 - mean_absolute - ETA: 25s - loss: 4.1235 - root_mean_square_error: 1.9195 - mean  - ETA: 1s - loss: 2.6046 - root_mean_square_error: 1.5580 - mean_absolute_error: \n",
      "Epoch 2/20\n",
      "137/137 [==============================] - 15s 105ms/step - loss: 1.7094 - root_mean_square_error: 1.3061 - mean_absolute_error: 1.0781 - val_loss: 1.6878 - val_root_mean_square_error: 1.2983 - val_mean_absolute_error: 1.0598ean_square_error: 1.3171 - mean_absolute_e - ETA: 7s - loss: 1.7322 - root_mean_square_error: 1.3147 - mea - ETA: 6s - loss: 1.7285 - root_mean_square_error: 1.3134 - ETA: 4s - loss: 1.7201 - root_mean_square_e - ETA: 2s - loss: 1.7219 - root_mean_square\n",
      "Epoch 3/20\n",
      "137/137 [==============================] - 15s 106ms/step - loss: 1.6939 - root_mean_square_error: 1.3003 - mean_absolute_error: 1.0666 - val_loss: 1.7642 - val_root_mean_square_error: 1.3274 - val_mean_absolute_error: 1.0584\n",
      "Epoch 4/20\n",
      "137/137 [==============================] - 15s 110ms/step - loss: 1.6901 - root_mean_square_error: 1.2986 - mean_absolute_error: 1.0653 - val_loss: 1.6892 - val_root_mean_square_error: 1.2990 - val_mean_absolute_error: 1.0681922 - root_mean_square_error: 1.3001 - me - ETA: 8s - loss: 1.6953 - ro - ETA: 4s - loss:\n",
      "Epoch 5/20\n",
      "137/137 [==============================] - 23s 163ms/step - loss: 1.6917 - root_mean_square_error: 1.2996 - mean_absolute_error: 1.0675 - val_loss: 1.7025 - val_root_mean_square_error: 1.3040 - val_mean_absolute_error: 1.0898n_square_error: 1.2994 - mean_absolute_error:  - ETA: 10s - loss: 1.6946 - root_mean_square_error: 1.3008 - mean_absolute_error: 1.068 - ETA: - ETA: 2s - loss: 1.6962 - root_mean_square_error: 1.3013 - mean_absolute\n",
      "Epoch 6/20\n",
      "137/137 [==============================] - 16s 108ms/step - loss: 1.6871 - root_mean_square_error: 1.2976 - mean_absolute_error: 1.0629 - val_loss: 1.7094 - val_root_mean_square_error: 1.3066 - val_mean_absolute_error: 1.0936\n",
      "Epoch 7/20\n",
      "137/137 [==============================] - 15s 108ms/step - loss: 1.6914 - root_mean_square_error: 1.2992 - mean_absolute_error: 1.0662 - val_loss: 1.7035 - val_root_mean_square_error: 1.3043 - val_mean_absolute_error: 1.0809\n",
      "Epoch 8/20\n",
      "137/137 [==============================] - 15s 111ms/step - loss: 1.6946 - root_mean_square_error: 1.3004 - mean_absolute_error: 1.0661 - val_loss: 1.6876 - val_root_mean_square_error: 1.2983 - val_mean_absolute_error: 1.0600m\n",
      "Epoch 9/20\n",
      "137/137 [==============================] - 15s 104ms/step - loss: 1.6864 - root_mean_square_error: 1.2973 - mean_absolute_error: 1.0643 - val_loss: 1.6892 - val_root_mean_square_error: 1.2989 - val_mean_absolute_error: 1.0605: 1.6744 - root_mean_square_error: 1.2923 - mean_absolute - ETA: 3s - loss: 1.6710 - root_mean_square_error: 1.2911 - mean_absolute_err - ETA: 2s - loss: 1.6742 - root_mean_square_e\n",
      "Epoch 10/20\n",
      "137/137 [==============================] - 23s 167ms/step - loss: 1.6877 - root_mean_square_error: 1.2976 - mean_absolute_error: 1.0635 - val_loss: 1.6885 - val_root_mean_square_error: 1.2986 - val_mean_absolute_error: 1.0593\n",
      "Epoch 11/20\n",
      "137/137 [==============================] - 52s 377ms/step - loss: 1.6957 - root_mean_square_error: 1.3006 - mean_absolute_error: 1.0681 - val_loss: 1.6923 - val_root_mean_square_error: 1.3000 - val_mean_absolute_error: 1.0540absolute_error:  - ETA: 8s - loss: 1.6968 - root_mean_square_error\n",
      "Epoch 12/20\n",
      "137/137 [==============================] - 17s 123ms/step - loss: 1.6827 - root_mean_square_error: 1.2959 - mean_absolute_error: 1.0597 - val_loss: 1.6906 - val_root_mean_square_error: 1.2996 - val_mean_absolute_error: 1.0778\n",
      "Epoch 13/20\n",
      "137/137 [==============================] - 17s 124ms/step - loss: 1.6894 - root_mean_square_error: 1.2985 - mean_absolute_error: 1.0647 - val_loss: 1.6873 - val_root_mean_square_error: 1.2981 - val_mean_absolute_error: 1.0545: 1.6854 - root_mean_square_error: 1.2970 - mean_ab - ETA: 3s - loss: 1.6890 - root_mean_\n",
      "Epoch 14/20\n",
      "137/137 [==============================] - 16s 112ms/step - loss: 1.6943 - root_mean_square_error: 1.3004 - mean_absolute_error: 1.0673 - val_loss: 1.6874 - val_root_mean_square_error: 1.2982 - val_mean_absolute_error: 1.0698an_square_error: 1.2990 - mean_absolute_error\n",
      "Epoch 15/20\n",
      "137/137 [==============================] - 15s 105ms/step - loss: 1.6879 - root_mean_square_error: 1.2980 - mean_absolute_error: 1.0650 - val_loss: 1.6911 - val_root_mean_square_error: 1.2996 - val_mean_absolute_error: 1.0606\n",
      "Epoch 16/20\n",
      "137/137 [==============================] - 15s 105ms/step - loss: 1.6900 - root_mean_square_error: 1.2985 - mean_absolute_error: 1.0652 - val_loss: 1.6947 - val_root_mean_square_error: 1.3010 - val_mean_absolute_error: 1.0554ss: 1.6909 - root_mean_square_error: 1.2988 - m\n",
      "Epoch 17/20\n",
      "137/137 [==============================] - 16s 108ms/step - loss: 1.6878 - root_mean_square_error: 1.2978 - mean_absolute_error: 1.0643 - val_loss: 1.6998 - val_root_mean_square_error: 1.3030 - val_mean_absolute_error: 1.0913: 1.7123 - root_mean_square_error - ETA: 2s - loss: 1.6739 - root_mean_square_error: 1.2925 - mean_ab - ETA: 1s - loss: 1.6778 - root_mean_square_error: 1.2939 - mean_absolute_error:  - ETA: 1s - loss: 1.6821 - root_mean_square_error: 1.2956 - mean_\n",
      "Epoch 18/20\n",
      "137/137 [==============================] - 15s 109ms/step - loss: 1.6807 - root_mean_square_error: 1.2953 - mean_absolute_error: 1.0606 - val_loss: 1.7035 - val_root_mean_square_error: 1.3045 - val_mean_absolute_error: 1.0950\n",
      "Epoch 19/20\n",
      "137/137 [==============================] - 17s 114ms/step - loss: 1.6841 - root_mean_square_error: 1.2965 - mean_absolute_error: 1.0626 - val_loss: 1.7011 - val_root_mean_square_error: 1.3034 - val_mean_absolute_error: 1.0488r: 1.2937 - mean_absolute_error:  - ETA: 1s - loss: 1.6773 - root_mean_square_error: 1.2938 -\n",
      "Epoch 20/20\n",
      "137/137 [==============================] - 16s 113ms/step - loss: 1.6905 - root_mean_square_error: 1.2992 - mean_absolute_error: 1.0638 - val_loss: 1.6896 - val_root_mean_square_error: 1.2991 - val_mean_absolute_error: 1.0768106 - root_mean_square_error: 1. - ETA: 2s - loss: 1.6852 - root_mean_square_error: 1.\n"
     ]
    }
   ],
   "source": [
    "history = model.fit(\n",
    "    train_gen,\n",
    "    validation_data=test_gen,\n",
    "    epochs=epochs,\n",
    "    verbose=1,\n",
    "    shuffle=False,\n",
    "    use_multiprocessing=False,\n",
    "    workers=num_workers,\n",
    ")"
   ]
  },
  {
   "cell_type": "code",
   "execution_count": 48,
   "metadata": {},
   "outputs": [
    {
     "data": {
      "image/png": "[encoded data removed]",
      "text/plain": [
       "<Figure size 504x864 with 3 Axes>"
      ]
     },
     "metadata": {
      "needs_background": "light"
     },
     "output_type": "display_data"
    }
   ],
   "source": [
    "sg.utils.plot_history(history)"
   ]
  },
  {
   "cell_type": "code",
   "execution_count": 49,
   "metadata": {},
   "outputs": [
    {
     "name": "stdout",
     "output_type": "stream",
     "text": [
      "59/59 [==============================] - 4s 55ms/step - loss: 1.6892 - root_mean_square_error: 1.2990 - mean_absolute_error: 1.0761\n",
      "Test Evaluation:\n",
      "\tloss: 1.6892\n",
      "\troot_mean_square_error: 1.2990\n",
      "\tmean_absolute_error: 1.0761\n"
     ]
    }
   ],
   "source": [
    "test_metrics = model.evaluate(\n",
    "    test_gen, use_multiprocessing=False, workers=num_workers, verbose=1\n",
    ")\n",
    "\n",
    "print(\"Test Evaluation:\")\n",
    "for name, val in zip(model.metrics_names, test_metrics):\n",
    "    print(\"\\t{}: {:0.4f}\".format(name, val))"
   ]
  },
  {
   "cell_type": "code",
   "execution_count": 50,
   "metadata": {},
   "outputs": [
    {
     "name": "stdout",
     "output_type": "stream",
     "text": [
      "Mean Baseline Test set metrics:\n",
      "\troot_mean_square_error =  1.463703040241648\n",
      "\tmean_absolute_error =  1.2744868861169023\n",
      "\n",
      "Model Test set metrics:\n",
      "\troot_mean_square_error =  1.300184869129778\n",
      "\tmean_absolute_error =  1.076975766742601\n"
     ]
    }
   ],
   "source": [
    "y_true = labels_test\n",
    "# Predict the rankings using the model:\n",
    "y_pred = model.predict(test_gen)\n",
    "# Mean baseline rankings = mean movie ranking:\n",
    "y_pred_baseline = np.full_like(y_pred, np.mean(y_true))\n",
    "\n",
    "rmse = np.sqrt(mean_squared_error(y_true, y_pred_baseline))\n",
    "mae = mean_absolute_error(y_true, y_pred_baseline)\n",
    "print(\"Mean Baseline Test set metrics:\")\n",
    "print(\"\\troot_mean_square_error = \", rmse)\n",
    "print(\"\\tmean_absolute_error = \", mae)\n",
    "\n",
    "rmse = np.sqrt(mean_squared_error(y_true, y_pred))\n",
    "mae = mean_absolute_error(y_true, y_pred)\n",
    "print(\"\\nModel Test set metrics:\")\n",
    "print(\"\\troot_mean_square_error = \", rmse)\n",
    "print(\"\\tmean_absolute_error = \", mae)"
   ]
  },
  {
   "cell_type": "code",
   "execution_count": 51,
   "metadata": {},
   "outputs": [
    {
     "data": {
      "image/png": "[encoded data removed]",
      "text/plain": [
       "<Figure size 432x288 with 1 Axes>"
      ]
     },
     "metadata": {
      "needs_background": "light"
     },
     "output_type": "display_data"
    }
   ],
   "source": [
    "h_true = plt.hist(y_true, bins=30, facecolor=\"green\", alpha=0.5)\n",
    "h_pred = plt.hist(y_pred, bins=30, facecolor=\"blue\", alpha=0.5)\n",
    "plt.xlabel(\"ranking\")\n",
    "plt.ylabel(\"count\")\n",
    "plt.legend((\"True\", \"Predicted\"))\n",
    "plt.show()"
   ]
  },
  {
   "cell_type": "code",
   "execution_count": null,
   "metadata": {},
   "outputs": [],
   "source": []
  },
  {
   "cell_type": "code",
   "execution_count": 52,
   "metadata": {},
   "outputs": [],
   "source": [
    "#Implementation of SVM"
   ]
  },
  {
   "cell_type": "code",
   "execution_count": 53,
   "metadata": {},
   "outputs": [],
   "source": [
    "from sklearn import svm"
   ]
  },
  {
   "cell_type": "code",
   "execution_count": 54,
   "metadata": {},
   "outputs": [
    {
     "data": {
      "text/html": [
       "<div>\n",
       "<style scoped>\n",
       "    .dataframe tbody tr th:only-of-type {\n",
       "        vertical-align: middle;\n",
       "    }\n",
       "\n",
       "    .dataframe tbody tr th {\n",
       "        vertical-align: top;\n",
       "    }\n",
       "\n",
       "    .dataframe thead th {\n",
       "        text-align: right;\n",
       "    }\n",
       "</style>\n",
       "<table border=\"1\" class=\"dataframe\">\n",
       "  <thead>\n",
       "    <tr style=\"text-align: right;\">\n",
       "      <th></th>\n",
       "      <th>review_id</th>\n",
       "      <th>user_id</th>\n",
       "      <th>business_id</th>\n",
       "      <th>stars</th>\n",
       "      <th>useful</th>\n",
       "      <th>funny</th>\n",
       "      <th>cool</th>\n",
       "      <th>text</th>\n",
       "      <th>date</th>\n",
       "      <th>category</th>\n",
       "    </tr>\n",
       "  </thead>\n",
       "  <tbody>\n",
       "    <tr>\n",
       "      <th>0</th>\n",
       "      <td>qWHp2l2lysENZObh6MAulA</td>\n",
       "      <td>5lb0POg2t-AkMFx6603cYQ</td>\n",
       "      <td>ZlCSsWS07JulSBIQlrbF5w</td>\n",
       "      <td>5.0</td>\n",
       "      <td>1</td>\n",
       "      <td>0</td>\n",
       "      <td>0</td>\n",
       "      <td>Called for a 5:15 morning reservation. The dri...</td>\n",
       "      <td>2015-05-26 10:36:47</td>\n",
       "      <td>1</td>\n",
       "    </tr>\n",
       "    <tr>\n",
       "      <th>1</th>\n",
       "      <td>n2BEHit2SwqsRo6jlTagUA</td>\n",
       "      <td>abdw-Nf5xxWdi5wmUO7UYg</td>\n",
       "      <td>2qLOnQtWSlTOtkfEFyWScg</td>\n",
       "      <td>2.0</td>\n",
       "      <td>2</td>\n",
       "      <td>0</td>\n",
       "      <td>0</td>\n",
       "      <td>There are good things, and bad things about th...</td>\n",
       "      <td>2013-04-10 19:26:54</td>\n",
       "      <td>1</td>\n",
       "    </tr>\n",
       "    <tr>\n",
       "      <th>2</th>\n",
       "      <td>m4AXzV9l14iFBd9DRdM82w</td>\n",
       "      <td>6X0i-oGUbh5DZdTHzFuKfg</td>\n",
       "      <td>9A1C1f0m4nQltQrOOTl-Kw</td>\n",
       "      <td>1.0</td>\n",
       "      <td>11</td>\n",
       "      <td>1</td>\n",
       "      <td>0</td>\n",
       "      <td>The building is lovely.  The remodel after But...</td>\n",
       "      <td>2013-12-07 02:26:13</td>\n",
       "      <td>1</td>\n",
       "    </tr>\n",
       "    <tr>\n",
       "      <th>3</th>\n",
       "      <td>A-yKlSLEQQcoHR5q2lCyHg</td>\n",
       "      <td>Yximlvn0cfb3yVDaLuXDxw</td>\n",
       "      <td>VHsNB3pdGVcRgs6C3jt6Zg</td>\n",
       "      <td>5.0</td>\n",
       "      <td>1</td>\n",
       "      <td>0</td>\n",
       "      <td>0</td>\n",
       "      <td>LOVE LOVE LOVE this place! I'm a bit of a suck...</td>\n",
       "      <td>2013-08-03 19:59:56</td>\n",
       "      <td>1</td>\n",
       "    </tr>\n",
       "    <tr>\n",
       "      <th>4</th>\n",
       "      <td>asLnux3k2yqoVjcJcLuF0g</td>\n",
       "      <td>Cz8l7JQ2I_RhtK0BosH-7Q</td>\n",
       "      <td>Ah4i15g8Ow_zphzcpulTxQ</td>\n",
       "      <td>4.0</td>\n",
       "      <td>0</td>\n",
       "      <td>0</td>\n",
       "      <td>0</td>\n",
       "      <td>The bread company is perfect for lunch. The pr...</td>\n",
       "      <td>2015-12-05 05:38:55</td>\n",
       "      <td>1</td>\n",
       "    </tr>\n",
       "    <tr>\n",
       "      <th>...</th>\n",
       "      <td>...</td>\n",
       "      <td>...</td>\n",
       "      <td>...</td>\n",
       "      <td>...</td>\n",
       "      <td>...</td>\n",
       "      <td>...</td>\n",
       "      <td>...</td>\n",
       "      <td>...</td>\n",
       "      <td>...</td>\n",
       "      <td>...</td>\n",
       "    </tr>\n",
       "    <tr>\n",
       "      <th>39133</th>\n",
       "      <td>57cCUwZm4lsHum8aENC6Kg</td>\n",
       "      <td>R_VuCujoBAOFpUuqIYC_Gg</td>\n",
       "      <td>IJ_1Hcuh89ETzDFK6pXOpg</td>\n",
       "      <td>1.0</td>\n",
       "      <td>0</td>\n",
       "      <td>0</td>\n",
       "      <td>0</td>\n",
       "      <td>Came here to do my laundry at 8:00 on a Sunday...</td>\n",
       "      <td>2019-12-09 02:38:18</td>\n",
       "      <td>1</td>\n",
       "    </tr>\n",
       "    <tr>\n",
       "      <th>39134</th>\n",
       "      <td>ZnE93UGlk29kX0dfwMOGNw</td>\n",
       "      <td>ViqyzZgObMSOwWBoQbLjSg</td>\n",
       "      <td>PBmfdx-tC2D54FI3HtcKww</td>\n",
       "      <td>5.0</td>\n",
       "      <td>0</td>\n",
       "      <td>0</td>\n",
       "      <td>0</td>\n",
       "      <td>Have always loved The Ribeye.  The best salad ...</td>\n",
       "      <td>2019-11-26 00:20:28</td>\n",
       "      <td>1</td>\n",
       "    </tr>\n",
       "    <tr>\n",
       "      <th>39135</th>\n",
       "      <td>fGgMD8npNcGyx_Fr91m_Dg</td>\n",
       "      <td>Nl9ouJ9EqcNCX7gdPw9ZCw</td>\n",
       "      <td>dn9lwYUxmhs_mLKPu7L25Q</td>\n",
       "      <td>4.0</td>\n",
       "      <td>0</td>\n",
       "      <td>0</td>\n",
       "      <td>0</td>\n",
       "      <td>The appetizers and my seared tuna were awesome!</td>\n",
       "      <td>2014-02-17 12:39:26</td>\n",
       "      <td>1</td>\n",
       "    </tr>\n",
       "    <tr>\n",
       "      <th>39136</th>\n",
       "      <td>flX4YICNgGSs2QriJ2CgRw</td>\n",
       "      <td>x4XrrBXlKABQCyv1AMHHrA</td>\n",
       "      <td>l4x5FFzfiCFrGN0S-uZbBQ</td>\n",
       "      <td>4.0</td>\n",
       "      <td>0</td>\n",
       "      <td>0</td>\n",
       "      <td>0</td>\n",
       "      <td>Came to dinner on a Tuesday night and, granted...</td>\n",
       "      <td>2019-10-23 15:04:57</td>\n",
       "      <td>1</td>\n",
       "    </tr>\n",
       "    <tr>\n",
       "      <th>39137</th>\n",
       "      <td>J8hLMRbhy7JJgvg_rYn_AQ</td>\n",
       "      <td>z3RyS0fkEoMzfg3u9ayiyA</td>\n",
       "      <td>cF0WRk04GfH3iwvwQeXSdA</td>\n",
       "      <td>1.0</td>\n",
       "      <td>0</td>\n",
       "      <td>0</td>\n",
       "      <td>0</td>\n",
       "      <td>We had been going to Dr. Jacob's at SportsVet ...</td>\n",
       "      <td>2019-06-22 06:23:34</td>\n",
       "      <td>1</td>\n",
       "    </tr>\n",
       "  </tbody>\n",
       "</table>\n",
       "<p>39138 rows × 10 columns</p>\n",
       "</div>"
      ],
      "text/plain": [
       "                    review_id                 user_id             business_id  \\\n",
       "0      qWHp2l2lysENZObh6MAulA  5lb0POg2t-AkMFx6603cYQ  ZlCSsWS07JulSBIQlrbF5w   \n",
       "1      n2BEHit2SwqsRo6jlTagUA  abdw-Nf5xxWdi5wmUO7UYg  2qLOnQtWSlTOtkfEFyWScg   \n",
       "2      m4AXzV9l14iFBd9DRdM82w  6X0i-oGUbh5DZdTHzFuKfg  9A1C1f0m4nQltQrOOTl-Kw   \n",
       "3      A-yKlSLEQQcoHR5q2lCyHg  Yximlvn0cfb3yVDaLuXDxw  VHsNB3pdGVcRgs6C3jt6Zg   \n",
       "4      asLnux3k2yqoVjcJcLuF0g  Cz8l7JQ2I_RhtK0BosH-7Q  Ah4i15g8Ow_zphzcpulTxQ   \n",
       "...                       ...                     ...                     ...   \n",
       "39133  57cCUwZm4lsHum8aENC6Kg  R_VuCujoBAOFpUuqIYC_Gg  IJ_1Hcuh89ETzDFK6pXOpg   \n",
       "39134  ZnE93UGlk29kX0dfwMOGNw  ViqyzZgObMSOwWBoQbLjSg  PBmfdx-tC2D54FI3HtcKww   \n",
       "39135  fGgMD8npNcGyx_Fr91m_Dg  Nl9ouJ9EqcNCX7gdPw9ZCw  dn9lwYUxmhs_mLKPu7L25Q   \n",
       "39136  flX4YICNgGSs2QriJ2CgRw  x4XrrBXlKABQCyv1AMHHrA  l4x5FFzfiCFrGN0S-uZbBQ   \n",
       "39137  J8hLMRbhy7JJgvg_rYn_AQ  z3RyS0fkEoMzfg3u9ayiyA  cF0WRk04GfH3iwvwQeXSdA   \n",
       "\n",
       "       stars  useful  funny  cool  \\\n",
       "0        5.0       1      0     0   \n",
       "1        2.0       2      0     0   \n",
       "2        1.0      11      1     0   \n",
       "3        5.0       1      0     0   \n",
       "4        4.0       0      0     0   \n",
       "...      ...     ...    ...   ...   \n",
       "39133    1.0       0      0     0   \n",
       "39134    5.0       0      0     0   \n",
       "39135    4.0       0      0     0   \n",
       "39136    4.0       0      0     0   \n",
       "39137    1.0       0      0     0   \n",
       "\n",
       "                                                    text                 date  \\\n",
       "0      Called for a 5:15 morning reservation. The dri...  2015-05-26 10:36:47   \n",
       "1      There are good things, and bad things about th...  2013-04-10 19:26:54   \n",
       "2      The building is lovely.  The remodel after But...  2013-12-07 02:26:13   \n",
       "3      LOVE LOVE LOVE this place! I'm a bit of a suck...  2013-08-03 19:59:56   \n",
       "4      The bread company is perfect for lunch. The pr...  2015-12-05 05:38:55   \n",
       "...                                                  ...                  ...   \n",
       "39133  Came here to do my laundry at 8:00 on a Sunday...  2019-12-09 02:38:18   \n",
       "39134  Have always loved The Ribeye.  The best salad ...  2019-11-26 00:20:28   \n",
       "39135    The appetizers and my seared tuna were awesome!  2014-02-17 12:39:26   \n",
       "39136  Came to dinner on a Tuesday night and, granted...  2019-10-23 15:04:57   \n",
       "39137  We had been going to Dr. Jacob's at SportsVet ...  2019-06-22 06:23:34   \n",
       "\n",
       "       category  \n",
       "0             1  \n",
       "1             1  \n",
       "2             1  \n",
       "3             1  \n",
       "4             1  \n",
       "...         ...  \n",
       "39133         1  \n",
       "39134         1  \n",
       "39135         1  \n",
       "39136         1  \n",
       "39137         1  \n",
       "\n",
       "[39138 rows x 10 columns]"
      ]
     },
     "execution_count": 54,
     "metadata": {},
     "output_type": "execute_result"
    }
   ],
   "source": [
    "reviews_dataset"
   ]
  },
  {
   "cell_type": "code",
   "execution_count": 55,
   "metadata": {},
   "outputs": [
    {
     "data": {
      "text/html": [
       "<div>\n",
       "<style scoped>\n",
       "    .dataframe tbody tr th:only-of-type {\n",
       "        vertical-align: middle;\n",
       "    }\n",
       "\n",
       "    .dataframe tbody tr th {\n",
       "        vertical-align: top;\n",
       "    }\n",
       "\n",
       "    .dataframe thead th {\n",
       "        text-align: right;\n",
       "    }\n",
       "</style>\n",
       "<table border=\"1\" class=\"dataframe\">\n",
       "  <thead>\n",
       "    <tr style=\"text-align: right;\">\n",
       "      <th></th>\n",
       "      <th>user_id</th>\n",
       "      <th>name</th>\n",
       "      <th>review_count</th>\n",
       "      <th>yelping_since</th>\n",
       "      <th>useful</th>\n",
       "      <th>funny</th>\n",
       "      <th>cool</th>\n",
       "      <th>elite</th>\n",
       "      <th>friends</th>\n",
       "      <th>fans</th>\n",
       "      <th>...</th>\n",
       "      <th>compliment_cute</th>\n",
       "      <th>compliment_list</th>\n",
       "      <th>compliment_note</th>\n",
       "      <th>compliment_plain</th>\n",
       "      <th>compliment_cool</th>\n",
       "      <th>compliment_funny</th>\n",
       "      <th>compliment_writer</th>\n",
       "      <th>compliment_photos</th>\n",
       "      <th>category</th>\n",
       "      <th>stars</th>\n",
       "    </tr>\n",
       "  </thead>\n",
       "  <tbody>\n",
       "    <tr>\n",
       "      <th>0</th>\n",
       "      <td>fcNU65OaCj7slBJ60VSQgw</td>\n",
       "      <td>Steven</td>\n",
       "      <td>1204</td>\n",
       "      <td>2007-07-08 16:56:40</td>\n",
       "      <td>4907</td>\n",
       "      <td>2674</td>\n",
       "      <td>2718</td>\n",
       "      <td>2007,2008,2009,2010,2011,2012,2013,2014,2015,2016</td>\n",
       "      <td>T-CVPEYAAJFWGzXaxSt8eg, zyhHd6AeavKVdOAXAPz-DQ...</td>\n",
       "      <td>89</td>\n",
       "      <td>...</td>\n",
       "      <td>6</td>\n",
       "      <td>4</td>\n",
       "      <td>79</td>\n",
       "      <td>141</td>\n",
       "      <td>183</td>\n",
       "      <td>183</td>\n",
       "      <td>57</td>\n",
       "      <td>12</td>\n",
       "      <td>2</td>\n",
       "      <td>0</td>\n",
       "    </tr>\n",
       "    <tr>\n",
       "      <th>1</th>\n",
       "      <td>4mjnkd8oJVCfBKN3i4rB-g</td>\n",
       "      <td>Tricia</td>\n",
       "      <td>1247</td>\n",
       "      <td>2008-11-27 02:24:47</td>\n",
       "      <td>3967</td>\n",
       "      <td>2631</td>\n",
       "      <td>2491</td>\n",
       "      <td>2009,2010,2011,2012,2013,2014,2015,2016,2017,2018</td>\n",
       "      <td>RO3vznPVVw5NWcgfP3k17A, azPMZoWkxdyjpnFul3aBQw...</td>\n",
       "      <td>141</td>\n",
       "      <td>...</td>\n",
       "      <td>15</td>\n",
       "      <td>10</td>\n",
       "      <td>127</td>\n",
       "      <td>236</td>\n",
       "      <td>227</td>\n",
       "      <td>227</td>\n",
       "      <td>124</td>\n",
       "      <td>102</td>\n",
       "      <td>2</td>\n",
       "      <td>0</td>\n",
       "    </tr>\n",
       "    <tr>\n",
       "      <th>2</th>\n",
       "      <td>ZdYHJ-hctaaDeH1CpP7-EA</td>\n",
       "      <td>Colleen</td>\n",
       "      <td>266</td>\n",
       "      <td>2009-08-08 16:46:46</td>\n",
       "      <td>491</td>\n",
       "      <td>103</td>\n",
       "      <td>152</td>\n",
       "      <td>2010,2011,2012,2013,2014</td>\n",
       "      <td>ouODopBKF3AqfCkuQEnrDg, QowYhZNL0T3UOi1FLG5VYQ...</td>\n",
       "      <td>11</td>\n",
       "      <td>...</td>\n",
       "      <td>3</td>\n",
       "      <td>0</td>\n",
       "      <td>14</td>\n",
       "      <td>16</td>\n",
       "      <td>17</td>\n",
       "      <td>17</td>\n",
       "      <td>5</td>\n",
       "      <td>3</td>\n",
       "      <td>2</td>\n",
       "      <td>0</td>\n",
       "    </tr>\n",
       "    <tr>\n",
       "      <th>3</th>\n",
       "      <td>JWgti_adPZywG9SKUbnB-w</td>\n",
       "      <td>Sarah</td>\n",
       "      <td>141</td>\n",
       "      <td>2007-11-12 02:56:43</td>\n",
       "      <td>227</td>\n",
       "      <td>76</td>\n",
       "      <td>42</td>\n",
       "      <td>2015</td>\n",
       "      <td>-X2qJ65I4Gz3UznpJqqS7Q, XrrXU5whFrQo_3wpiKhpaw...</td>\n",
       "      <td>1</td>\n",
       "      <td>...</td>\n",
       "      <td>0</td>\n",
       "      <td>0</td>\n",
       "      <td>5</td>\n",
       "      <td>3</td>\n",
       "      <td>5</td>\n",
       "      <td>5</td>\n",
       "      <td>2</td>\n",
       "      <td>1</td>\n",
       "      <td>2</td>\n",
       "      <td>0</td>\n",
       "    </tr>\n",
       "    <tr>\n",
       "      <th>4</th>\n",
       "      <td>PIzmdHF7p9GwXhwt3b3JxQ</td>\n",
       "      <td>Sasuke</td>\n",
       "      <td>112</td>\n",
       "      <td>2008-07-15 19:06:06</td>\n",
       "      <td>154</td>\n",
       "      <td>57</td>\n",
       "      <td>35</td>\n",
       "      <td></td>\n",
       "      <td>wPkrThYsvs-pii7Ac1Hk9w, nO4bSABjYmR3MVvVjC0EeQ...</td>\n",
       "      <td>7</td>\n",
       "      <td>...</td>\n",
       "      <td>0</td>\n",
       "      <td>0</td>\n",
       "      <td>3</td>\n",
       "      <td>4</td>\n",
       "      <td>1</td>\n",
       "      <td>1</td>\n",
       "      <td>4</td>\n",
       "      <td>0</td>\n",
       "      <td>2</td>\n",
       "      <td>0</td>\n",
       "    </tr>\n",
       "    <tr>\n",
       "      <th>...</th>\n",
       "      <td>...</td>\n",
       "      <td>...</td>\n",
       "      <td>...</td>\n",
       "      <td>...</td>\n",
       "      <td>...</td>\n",
       "      <td>...</td>\n",
       "      <td>...</td>\n",
       "      <td>...</td>\n",
       "      <td>...</td>\n",
       "      <td>...</td>\n",
       "      <td>...</td>\n",
       "      <td>...</td>\n",
       "      <td>...</td>\n",
       "      <td>...</td>\n",
       "      <td>...</td>\n",
       "      <td>...</td>\n",
       "      <td>...</td>\n",
       "      <td>...</td>\n",
       "      <td>...</td>\n",
       "      <td>...</td>\n",
       "      <td>...</td>\n",
       "    </tr>\n",
       "    <tr>\n",
       "      <th>14659</th>\n",
       "      <td>YfVGrr7SqPI1NY-mx9jfUw</td>\n",
       "      <td>Liz</td>\n",
       "      <td>2</td>\n",
       "      <td>2018-03-19 22:18:34</td>\n",
       "      <td>0</td>\n",
       "      <td>0</td>\n",
       "      <td>0</td>\n",
       "      <td></td>\n",
       "      <td>None</td>\n",
       "      <td>0</td>\n",
       "      <td>...</td>\n",
       "      <td>0</td>\n",
       "      <td>0</td>\n",
       "      <td>0</td>\n",
       "      <td>0</td>\n",
       "      <td>0</td>\n",
       "      <td>0</td>\n",
       "      <td>0</td>\n",
       "      <td>0</td>\n",
       "      <td>2</td>\n",
       "      <td>0</td>\n",
       "    </tr>\n",
       "    <tr>\n",
       "      <th>14660</th>\n",
       "      <td>lcd1uiaw4sZd7wGxpHbd0w</td>\n",
       "      <td>Lisa</td>\n",
       "      <td>3</td>\n",
       "      <td>2014-08-03 22:23:27</td>\n",
       "      <td>4</td>\n",
       "      <td>1</td>\n",
       "      <td>0</td>\n",
       "      <td></td>\n",
       "      <td>None</td>\n",
       "      <td>0</td>\n",
       "      <td>...</td>\n",
       "      <td>0</td>\n",
       "      <td>0</td>\n",
       "      <td>0</td>\n",
       "      <td>0</td>\n",
       "      <td>0</td>\n",
       "      <td>0</td>\n",
       "      <td>0</td>\n",
       "      <td>0</td>\n",
       "      <td>2</td>\n",
       "      <td>0</td>\n",
       "    </tr>\n",
       "    <tr>\n",
       "      <th>14661</th>\n",
       "      <td>woRHA_rBPcg-KU8EJDG1Ig</td>\n",
       "      <td>Gloria</td>\n",
       "      <td>17</td>\n",
       "      <td>2016-03-05 03:55:54</td>\n",
       "      <td>0</td>\n",
       "      <td>0</td>\n",
       "      <td>0</td>\n",
       "      <td></td>\n",
       "      <td>None</td>\n",
       "      <td>0</td>\n",
       "      <td>...</td>\n",
       "      <td>0</td>\n",
       "      <td>0</td>\n",
       "      <td>0</td>\n",
       "      <td>0</td>\n",
       "      <td>0</td>\n",
       "      <td>0</td>\n",
       "      <td>0</td>\n",
       "      <td>0</td>\n",
       "      <td>2</td>\n",
       "      <td>0</td>\n",
       "    </tr>\n",
       "    <tr>\n",
       "      <th>14662</th>\n",
       "      <td>3Xop9LVQDOWIVjFRj07QTw</td>\n",
       "      <td>Boom Your Place Sucks</td>\n",
       "      <td>2</td>\n",
       "      <td>2014-10-09 07:16:34</td>\n",
       "      <td>5</td>\n",
       "      <td>5</td>\n",
       "      <td>2</td>\n",
       "      <td></td>\n",
       "      <td>None</td>\n",
       "      <td>0</td>\n",
       "      <td>...</td>\n",
       "      <td>0</td>\n",
       "      <td>0</td>\n",
       "      <td>0</td>\n",
       "      <td>0</td>\n",
       "      <td>0</td>\n",
       "      <td>0</td>\n",
       "      <td>0</td>\n",
       "      <td>0</td>\n",
       "      <td>2</td>\n",
       "      <td>0</td>\n",
       "    </tr>\n",
       "    <tr>\n",
       "      <th>14663</th>\n",
       "      <td>GHb_NO0eeXpiwA5oJvI3rw</td>\n",
       "      <td>Sheila</td>\n",
       "      <td>1</td>\n",
       "      <td>2015-08-11 02:33:52</td>\n",
       "      <td>1</td>\n",
       "      <td>0</td>\n",
       "      <td>0</td>\n",
       "      <td></td>\n",
       "      <td>None</td>\n",
       "      <td>0</td>\n",
       "      <td>...</td>\n",
       "      <td>0</td>\n",
       "      <td>0</td>\n",
       "      <td>0</td>\n",
       "      <td>0</td>\n",
       "      <td>0</td>\n",
       "      <td>0</td>\n",
       "      <td>1</td>\n",
       "      <td>0</td>\n",
       "      <td>2</td>\n",
       "      <td>0</td>\n",
       "    </tr>\n",
       "  </tbody>\n",
       "</table>\n",
       "<p>14664 rows × 24 columns</p>\n",
       "</div>"
      ],
      "text/plain": [
       "                      user_id                   name  review_count  \\\n",
       "0      fcNU65OaCj7slBJ60VSQgw                 Steven          1204   \n",
       "1      4mjnkd8oJVCfBKN3i4rB-g                 Tricia          1247   \n",
       "2      ZdYHJ-hctaaDeH1CpP7-EA                Colleen           266   \n",
       "3      JWgti_adPZywG9SKUbnB-w                  Sarah           141   \n",
       "4      PIzmdHF7p9GwXhwt3b3JxQ                 Sasuke           112   \n",
       "...                       ...                    ...           ...   \n",
       "14659  YfVGrr7SqPI1NY-mx9jfUw                    Liz             2   \n",
       "14660  lcd1uiaw4sZd7wGxpHbd0w                   Lisa             3   \n",
       "14661  woRHA_rBPcg-KU8EJDG1Ig                 Gloria            17   \n",
       "14662  3Xop9LVQDOWIVjFRj07QTw  Boom Your Place Sucks             2   \n",
       "14663  GHb_NO0eeXpiwA5oJvI3rw                 Sheila             1   \n",
       "\n",
       "             yelping_since  useful  funny  cool  \\\n",
       "0      2007-07-08 16:56:40    4907   2674  2718   \n",
       "1      2008-11-27 02:24:47    3967   2631  2491   \n",
       "2      2009-08-08 16:46:46     491    103   152   \n",
       "3      2007-11-12 02:56:43     227     76    42   \n",
       "4      2008-07-15 19:06:06     154     57    35   \n",
       "...                    ...     ...    ...   ...   \n",
       "14659  2018-03-19 22:18:34       0      0     0   \n",
       "14660  2014-08-03 22:23:27       4      1     0   \n",
       "14661  2016-03-05 03:55:54       0      0     0   \n",
       "14662  2014-10-09 07:16:34       5      5     2   \n",
       "14663  2015-08-11 02:33:52       1      0     0   \n",
       "\n",
       "                                                   elite  \\\n",
       "0      2007,2008,2009,2010,2011,2012,2013,2014,2015,2016   \n",
       "1      2009,2010,2011,2012,2013,2014,2015,2016,2017,2018   \n",
       "2                               2010,2011,2012,2013,2014   \n",
       "3                                                   2015   \n",
       "4                                                          \n",
       "...                                                  ...   \n",
       "14659                                                      \n",
       "14660                                                      \n",
       "14661                                                      \n",
       "14662                                                      \n",
       "14663                                                      \n",
       "\n",
       "                                                 friends  fans  ...  \\\n",
       "0      T-CVPEYAAJFWGzXaxSt8eg, zyhHd6AeavKVdOAXAPz-DQ...    89  ...   \n",
       "1      RO3vznPVVw5NWcgfP3k17A, azPMZoWkxdyjpnFul3aBQw...   141  ...   \n",
       "2      ouODopBKF3AqfCkuQEnrDg, QowYhZNL0T3UOi1FLG5VYQ...    11  ...   \n",
       "3      -X2qJ65I4Gz3UznpJqqS7Q, XrrXU5whFrQo_3wpiKhpaw...     1  ...   \n",
       "4      wPkrThYsvs-pii7Ac1Hk9w, nO4bSABjYmR3MVvVjC0EeQ...     7  ...   \n",
       "...                                                  ...   ...  ...   \n",
       "14659                                               None     0  ...   \n",
       "14660                                               None     0  ...   \n",
       "14661                                               None     0  ...   \n",
       "14662                                               None     0  ...   \n",
       "14663                                               None     0  ...   \n",
       "\n",
       "       compliment_cute  compliment_list  compliment_note  compliment_plain  \\\n",
       "0                    6                4               79               141   \n",
       "1                   15               10              127               236   \n",
       "2                    3                0               14                16   \n",
       "3                    0                0                5                 3   \n",
       "4                    0                0                3                 4   \n",
       "...                ...              ...              ...               ...   \n",
       "14659                0                0                0                 0   \n",
       "14660                0                0                0                 0   \n",
       "14661                0                0                0                 0   \n",
       "14662                0                0                0                 0   \n",
       "14663                0                0                0                 0   \n",
       "\n",
       "       compliment_cool  compliment_funny  compliment_writer  \\\n",
       "0                  183               183                 57   \n",
       "1                  227               227                124   \n",
       "2                   17                17                  5   \n",
       "3                    5                 5                  2   \n",
       "4                    1                 1                  4   \n",
       "...                ...               ...                ...   \n",
       "14659                0                 0                  0   \n",
       "14660                0                 0                  0   \n",
       "14661                0                 0                  0   \n",
       "14662                0                 0                  0   \n",
       "14663                0                 0                  1   \n",
       "\n",
       "       compliment_photos  category  stars  \n",
       "0                     12         2      0  \n",
       "1                    102         2      0  \n",
       "2                      3         2      0  \n",
       "3                      1         2      0  \n",
       "4                      0         2      0  \n",
       "...                  ...       ...    ...  \n",
       "14659                  0         2      0  \n",
       "14660                  0         2      0  \n",
       "14661                  0         2      0  \n",
       "14662                  0         2      0  \n",
       "14663                  0         2      0  \n",
       "\n",
       "[14664 rows x 24 columns]"
      ]
     },
     "execution_count": 55,
     "metadata": {},
     "output_type": "execute_result"
    }
   ],
   "source": [
    "user_dataset"
   ]
  },
  {
   "cell_type": "code",
   "execution_count": 56,
   "metadata": {},
   "outputs": [
    {
     "data": {
      "text/html": [
       "<div>\n",
       "<style scoped>\n",
       "    .dataframe tbody tr th:only-of-type {\n",
       "        vertical-align: middle;\n",
       "    }\n",
       "\n",
       "    .dataframe tbody tr th {\n",
       "        vertical-align: top;\n",
       "    }\n",
       "\n",
       "    .dataframe thead th {\n",
       "        text-align: right;\n",
       "    }\n",
       "</style>\n",
       "<table border=\"1\" class=\"dataframe\">\n",
       "  <thead>\n",
       "    <tr style=\"text-align: right;\">\n",
       "      <th></th>\n",
       "      <th>business_id</th>\n",
       "      <th>name</th>\n",
       "      <th>address</th>\n",
       "      <th>city</th>\n",
       "      <th>state</th>\n",
       "      <th>postal_code</th>\n",
       "      <th>latitude</th>\n",
       "      <th>longitude</th>\n",
       "      <th>stars</th>\n",
       "      <th>review_count</th>\n",
       "      <th>is_open</th>\n",
       "      <th>attributes</th>\n",
       "      <th>categories</th>\n",
       "      <th>hours</th>\n",
       "      <th>category</th>\n",
       "    </tr>\n",
       "  </thead>\n",
       "  <tbody>\n",
       "    <tr>\n",
       "      <th>0</th>\n",
       "      <td>UiyjUa8CQmygujhe-ZYlsw</td>\n",
       "      <td>Movers 4 Less Inc</td>\n",
       "      <td></td>\n",
       "      <td>Champaign</td>\n",
       "      <td>IL</td>\n",
       "      <td>61822</td>\n",
       "      <td>40.127030</td>\n",
       "      <td>-88.241699</td>\n",
       "      <td>3.0</td>\n",
       "      <td>15</td>\n",
       "      <td>1</td>\n",
       "      <td>{'BusinessAcceptsCreditCards': 'True', 'Busine...</td>\n",
       "      <td>Home Services, Movers</td>\n",
       "      <td>{'Monday': '8:0-20:0', 'Tuesday': '8:0-20:0', ...</td>\n",
       "      <td>0</td>\n",
       "    </tr>\n",
       "    <tr>\n",
       "      <th>1</th>\n",
       "      <td>-LfTBo0oa_uD454ScEW2XA</td>\n",
       "      <td>Merry Ann's Diner</td>\n",
       "      <td>1 E Main St</td>\n",
       "      <td>Champaign</td>\n",
       "      <td>IL</td>\n",
       "      <td>61820</td>\n",
       "      <td>40.118133</td>\n",
       "      <td>-88.242900</td>\n",
       "      <td>3.0</td>\n",
       "      <td>47</td>\n",
       "      <td>0</td>\n",
       "      <td>{'RestaurantsDelivery': 'True', 'WiFi': 'u'fre...</td>\n",
       "      <td>Restaurants, Diners, Sandwiches, Breakfast &amp; B...</td>\n",
       "      <td>{'Monday': '0:0-0:0', 'Tuesday': '0:0-0:0', 'W...</td>\n",
       "      <td>0</td>\n",
       "    </tr>\n",
       "    <tr>\n",
       "      <th>2</th>\n",
       "      <td>R32Yh0XxxanldkIp11fuRg</td>\n",
       "      <td>BoBo's BBQ</td>\n",
       "      <td>1511 W Springfield Ave</td>\n",
       "      <td>Champaign</td>\n",
       "      <td>IL</td>\n",
       "      <td>61821</td>\n",
       "      <td>40.112515</td>\n",
       "      <td>-88.271575</td>\n",
       "      <td>3.5</td>\n",
       "      <td>45</td>\n",
       "      <td>1</td>\n",
       "      <td>{'RestaurantsAttire': 'u'casual'', 'Restaurant...</td>\n",
       "      <td>Hot Dogs, Restaurants, Barbeque</td>\n",
       "      <td>{'Monday': '11:0-20:0', 'Tuesday': '11:0-20:0'...</td>\n",
       "      <td>0</td>\n",
       "    </tr>\n",
       "    <tr>\n",
       "      <th>3</th>\n",
       "      <td>-1TUzO4XCmOeqi9eAGeDWA</td>\n",
       "      <td>Beaumont Tire &amp; Auto Repair</td>\n",
       "      <td>1202 W Bloomington Rd</td>\n",
       "      <td>Champaign</td>\n",
       "      <td>IL</td>\n",
       "      <td>61821</td>\n",
       "      <td>40.136060</td>\n",
       "      <td>-88.266079</td>\n",
       "      <td>4.5</td>\n",
       "      <td>15</td>\n",
       "      <td>1</td>\n",
       "      <td>{'BusinessAcceptsCreditCards': 'True'}</td>\n",
       "      <td>Auto Repair, Automotive, Tires</td>\n",
       "      <td>{'Monday': '8:0-17:30', 'Tuesday': '8:0-17:30'...</td>\n",
       "      <td>0</td>\n",
       "    </tr>\n",
       "    <tr>\n",
       "      <th>4</th>\n",
       "      <td>WO2nNar_wIQ3fIAfF3MM1Q</td>\n",
       "      <td>Exile on Main Street</td>\n",
       "      <td>116 N Chestnut St, Ste 120</td>\n",
       "      <td>Champaign</td>\n",
       "      <td>IL</td>\n",
       "      <td>61820</td>\n",
       "      <td>40.116715</td>\n",
       "      <td>-88.240606</td>\n",
       "      <td>4.0</td>\n",
       "      <td>24</td>\n",
       "      <td>1</td>\n",
       "      <td>{'BusinessAcceptsBitcoin': 'False', 'BusinessP...</td>\n",
       "      <td>Newspapers &amp; Magazines, Books, Mags, Music &amp; V...</td>\n",
       "      <td>{'Monday': '10:0-21:0', 'Tuesday': '10:0-21:0'...</td>\n",
       "      <td>0</td>\n",
       "    </tr>\n",
       "    <tr>\n",
       "      <th>...</th>\n",
       "      <td>...</td>\n",
       "      <td>...</td>\n",
       "      <td>...</td>\n",
       "      <td>...</td>\n",
       "      <td>...</td>\n",
       "      <td>...</td>\n",
       "      <td>...</td>\n",
       "      <td>...</td>\n",
       "      <td>...</td>\n",
       "      <td>...</td>\n",
       "      <td>...</td>\n",
       "      <td>...</td>\n",
       "      <td>...</td>\n",
       "      <td>...</td>\n",
       "      <td>...</td>\n",
       "    </tr>\n",
       "    <tr>\n",
       "      <th>712</th>\n",
       "      <td>ldKrUirpZZ6JDnNwOwLpvw</td>\n",
       "      <td>Ichiban Buffet</td>\n",
       "      <td>105 N Mattis Ave</td>\n",
       "      <td>Champaign</td>\n",
       "      <td>IL</td>\n",
       "      <td>61821</td>\n",
       "      <td>40.117048</td>\n",
       "      <td>-88.278364</td>\n",
       "      <td>3.0</td>\n",
       "      <td>35</td>\n",
       "      <td>0</td>\n",
       "      <td>{'GoodForKids': 'True', 'RestaurantsReservatio...</td>\n",
       "      <td>Sushi Bars, Chinese, Buffets, Restaurants</td>\n",
       "      <td>{'Monday': '11:0-21:30', 'Tuesday': '11:0-21:3...</td>\n",
       "      <td>0</td>\n",
       "    </tr>\n",
       "    <tr>\n",
       "      <th>713</th>\n",
       "      <td>KCQNEIvtU48Mh07uS-_Gvw</td>\n",
       "      <td>Taco Bell</td>\n",
       "      <td>1003 University</td>\n",
       "      <td>Urbana</td>\n",
       "      <td>IL</td>\n",
       "      <td>61801</td>\n",
       "      <td>40.116340</td>\n",
       "      <td>-88.220850</td>\n",
       "      <td>2.5</td>\n",
       "      <td>34</td>\n",
       "      <td>1</td>\n",
       "      <td>{'RestaurantsPriceRange2': '1', 'GoodForKids':...</td>\n",
       "      <td>Fast Food, Restaurants, Tex-Mex, Mexican, Tacos</td>\n",
       "      <td>{'Monday': '7:0-3:0', 'Tuesday': '7:0-3:0', 'W...</td>\n",
       "      <td>0</td>\n",
       "    </tr>\n",
       "    <tr>\n",
       "      <th>714</th>\n",
       "      <td>nh1-ax9wPNCqskcJYIWogg</td>\n",
       "      <td>Buttitta's</td>\n",
       "      <td>1201 S Neil St</td>\n",
       "      <td>Champaign</td>\n",
       "      <td>IL</td>\n",
       "      <td>61820</td>\n",
       "      <td>40.103246</td>\n",
       "      <td>-88.244236</td>\n",
       "      <td>2.5</td>\n",
       "      <td>27</td>\n",
       "      <td>0</td>\n",
       "      <td>{'RestaurantsTakeOut': 'True', 'BusinessParkin...</td>\n",
       "      <td>Italian, Restaurants</td>\n",
       "      <td>None</td>\n",
       "      <td>0</td>\n",
       "    </tr>\n",
       "    <tr>\n",
       "      <th>715</th>\n",
       "      <td>DTxj39kZVe3NUscJoPYUYA</td>\n",
       "      <td>Car-X Tire &amp; Auto</td>\n",
       "      <td>2216 S Neil St</td>\n",
       "      <td>Champaign</td>\n",
       "      <td>IL</td>\n",
       "      <td>61820</td>\n",
       "      <td>40.086725</td>\n",
       "      <td>-88.246067</td>\n",
       "      <td>3.0</td>\n",
       "      <td>22</td>\n",
       "      <td>1</td>\n",
       "      <td>{'BusinessAcceptsCreditCards': 'True'}</td>\n",
       "      <td>Oil Change Stations, Tires, Automotive, Auto R...</td>\n",
       "      <td>{'Monday': '7:30-18:0', 'Tuesday': '7:30-18:0'...</td>\n",
       "      <td>0</td>\n",
       "    </tr>\n",
       "    <tr>\n",
       "      <th>716</th>\n",
       "      <td>Qtv6iGDAHBmAKBgl40JgLw</td>\n",
       "      <td>Blaze Fast-Fire'd Pizza</td>\n",
       "      <td>2610 N Prospect Ave</td>\n",
       "      <td>Champaign</td>\n",
       "      <td>IL</td>\n",
       "      <td>61822</td>\n",
       "      <td>40.147209</td>\n",
       "      <td>-88.254940</td>\n",
       "      <td>3.5</td>\n",
       "      <td>55</td>\n",
       "      <td>1</td>\n",
       "      <td>{'DriveThru': 'False', 'RestaurantsTakeOut': '...</td>\n",
       "      <td>Fast Food, Restaurants, Pizza, Salad</td>\n",
       "      <td>None</td>\n",
       "      <td>0</td>\n",
       "    </tr>\n",
       "  </tbody>\n",
       "</table>\n",
       "<p>717 rows × 15 columns</p>\n",
       "</div>"
      ],
      "text/plain": [
       "                business_id                         name  \\\n",
       "0    UiyjUa8CQmygujhe-ZYlsw            Movers 4 Less Inc   \n",
       "1    -LfTBo0oa_uD454ScEW2XA            Merry Ann's Diner   \n",
       "2    R32Yh0XxxanldkIp11fuRg                   BoBo's BBQ   \n",
       "3    -1TUzO4XCmOeqi9eAGeDWA  Beaumont Tire & Auto Repair   \n",
       "4    WO2nNar_wIQ3fIAfF3MM1Q         Exile on Main Street   \n",
       "..                      ...                          ...   \n",
       "712  ldKrUirpZZ6JDnNwOwLpvw               Ichiban Buffet   \n",
       "713  KCQNEIvtU48Mh07uS-_Gvw                    Taco Bell   \n",
       "714  nh1-ax9wPNCqskcJYIWogg                   Buttitta's   \n",
       "715  DTxj39kZVe3NUscJoPYUYA            Car-X Tire & Auto   \n",
       "716  Qtv6iGDAHBmAKBgl40JgLw      Blaze Fast-Fire'd Pizza   \n",
       "\n",
       "                        address       city state postal_code   latitude  \\\n",
       "0                                Champaign    IL       61822  40.127030   \n",
       "1                   1 E Main St  Champaign    IL       61820  40.118133   \n",
       "2        1511 W Springfield Ave  Champaign    IL       61821  40.112515   \n",
       "3         1202 W Bloomington Rd  Champaign    IL       61821  40.136060   \n",
       "4    116 N Chestnut St, Ste 120  Champaign    IL       61820  40.116715   \n",
       "..                          ...        ...   ...         ...        ...   \n",
       "712            105 N Mattis Ave  Champaign    IL       61821  40.117048   \n",
       "713             1003 University     Urbana    IL       61801  40.116340   \n",
       "714              1201 S Neil St  Champaign    IL       61820  40.103246   \n",
       "715              2216 S Neil St  Champaign    IL       61820  40.086725   \n",
       "716         2610 N Prospect Ave  Champaign    IL       61822  40.147209   \n",
       "\n",
       "     longitude  stars  review_count  is_open  \\\n",
       "0   -88.241699    3.0            15        1   \n",
       "1   -88.242900    3.0            47        0   \n",
       "2   -88.271575    3.5            45        1   \n",
       "3   -88.266079    4.5            15        1   \n",
       "4   -88.240606    4.0            24        1   \n",
       "..         ...    ...           ...      ...   \n",
       "712 -88.278364    3.0            35        0   \n",
       "713 -88.220850    2.5            34        1   \n",
       "714 -88.244236    2.5            27        0   \n",
       "715 -88.246067    3.0            22        1   \n",
       "716 -88.254940    3.5            55        1   \n",
       "\n",
       "                                            attributes  \\\n",
       "0    {'BusinessAcceptsCreditCards': 'True', 'Busine...   \n",
       "1    {'RestaurantsDelivery': 'True', 'WiFi': 'u'fre...   \n",
       "2    {'RestaurantsAttire': 'u'casual'', 'Restaurant...   \n",
       "3               {'BusinessAcceptsCreditCards': 'True'}   \n",
       "4    {'BusinessAcceptsBitcoin': 'False', 'BusinessP...   \n",
       "..                                                 ...   \n",
       "712  {'GoodForKids': 'True', 'RestaurantsReservatio...   \n",
       "713  {'RestaurantsPriceRange2': '1', 'GoodForKids':...   \n",
       "714  {'RestaurantsTakeOut': 'True', 'BusinessParkin...   \n",
       "715             {'BusinessAcceptsCreditCards': 'True'}   \n",
       "716  {'DriveThru': 'False', 'RestaurantsTakeOut': '...   \n",
       "\n",
       "                                            categories  \\\n",
       "0                                Home Services, Movers   \n",
       "1    Restaurants, Diners, Sandwiches, Breakfast & B...   \n",
       "2                      Hot Dogs, Restaurants, Barbeque   \n",
       "3                       Auto Repair, Automotive, Tires   \n",
       "4    Newspapers & Magazines, Books, Mags, Music & V...   \n",
       "..                                                 ...   \n",
       "712          Sushi Bars, Chinese, Buffets, Restaurants   \n",
       "713    Fast Food, Restaurants, Tex-Mex, Mexican, Tacos   \n",
       "714                               Italian, Restaurants   \n",
       "715  Oil Change Stations, Tires, Automotive, Auto R...   \n",
       "716               Fast Food, Restaurants, Pizza, Salad   \n",
       "\n",
       "                                                 hours  category  \n",
       "0    {'Monday': '8:0-20:0', 'Tuesday': '8:0-20:0', ...         0  \n",
       "1    {'Monday': '0:0-0:0', 'Tuesday': '0:0-0:0', 'W...         0  \n",
       "2    {'Monday': '11:0-20:0', 'Tuesday': '11:0-20:0'...         0  \n",
       "3    {'Monday': '8:0-17:30', 'Tuesday': '8:0-17:30'...         0  \n",
       "4    {'Monday': '10:0-21:0', 'Tuesday': '10:0-21:0'...         0  \n",
       "..                                                 ...       ...  \n",
       "712  {'Monday': '11:0-21:30', 'Tuesday': '11:0-21:3...         0  \n",
       "713  {'Monday': '7:0-3:0', 'Tuesday': '7:0-3:0', 'W...         0  \n",
       "714                                               None         0  \n",
       "715  {'Monday': '7:30-18:0', 'Tuesday': '7:30-18:0'...         0  \n",
       "716                                               None         0  \n",
       "\n",
       "[717 rows x 15 columns]"
      ]
     },
     "execution_count": 56,
     "metadata": {},
     "output_type": "execute_result"
    }
   ],
   "source": [
    "business_dataset"
   ]
  },
  {
   "cell_type": "code",
   "execution_count": 57,
   "metadata": {},
   "outputs": [
    {
     "data": {
      "text/html": [
       "<div>\n",
       "<style scoped>\n",
       "    .dataframe tbody tr th:only-of-type {\n",
       "        vertical-align: middle;\n",
       "    }\n",
       "\n",
       "    .dataframe tbody tr th {\n",
       "        vertical-align: top;\n",
       "    }\n",
       "\n",
       "    .dataframe thead th {\n",
       "        text-align: right;\n",
       "    }\n",
       "</style>\n",
       "<table border=\"1\" class=\"dataframe\">\n",
       "  <thead>\n",
       "    <tr style=\"text-align: right;\">\n",
       "      <th></th>\n",
       "      <th>stars</th>\n",
       "      <th>useful</th>\n",
       "      <th>funny</th>\n",
       "      <th>cool</th>\n",
       "    </tr>\n",
       "    <tr>\n",
       "      <th>review_id</th>\n",
       "      <th></th>\n",
       "      <th></th>\n",
       "      <th></th>\n",
       "      <th></th>\n",
       "    </tr>\n",
       "  </thead>\n",
       "  <tbody>\n",
       "    <tr>\n",
       "      <th>qWHp2l2lysENZObh6MAulA</th>\n",
       "      <td>5.0</td>\n",
       "      <td>1</td>\n",
       "      <td>0</td>\n",
       "      <td>0</td>\n",
       "    </tr>\n",
       "    <tr>\n",
       "      <th>n2BEHit2SwqsRo6jlTagUA</th>\n",
       "      <td>2.0</td>\n",
       "      <td>2</td>\n",
       "      <td>0</td>\n",
       "      <td>0</td>\n",
       "    </tr>\n",
       "    <tr>\n",
       "      <th>m4AXzV9l14iFBd9DRdM82w</th>\n",
       "      <td>1.0</td>\n",
       "      <td>11</td>\n",
       "      <td>1</td>\n",
       "      <td>0</td>\n",
       "    </tr>\n",
       "    <tr>\n",
       "      <th>A-yKlSLEQQcoHR5q2lCyHg</th>\n",
       "      <td>5.0</td>\n",
       "      <td>1</td>\n",
       "      <td>0</td>\n",
       "      <td>0</td>\n",
       "    </tr>\n",
       "    <tr>\n",
       "      <th>asLnux3k2yqoVjcJcLuF0g</th>\n",
       "      <td>4.0</td>\n",
       "      <td>0</td>\n",
       "      <td>0</td>\n",
       "      <td>0</td>\n",
       "    </tr>\n",
       "    <tr>\n",
       "      <th>...</th>\n",
       "      <td>...</td>\n",
       "      <td>...</td>\n",
       "      <td>...</td>\n",
       "      <td>...</td>\n",
       "    </tr>\n",
       "    <tr>\n",
       "      <th>57cCUwZm4lsHum8aENC6Kg</th>\n",
       "      <td>1.0</td>\n",
       "      <td>0</td>\n",
       "      <td>0</td>\n",
       "      <td>0</td>\n",
       "    </tr>\n",
       "    <tr>\n",
       "      <th>ZnE93UGlk29kX0dfwMOGNw</th>\n",
       "      <td>5.0</td>\n",
       "      <td>0</td>\n",
       "      <td>0</td>\n",
       "      <td>0</td>\n",
       "    </tr>\n",
       "    <tr>\n",
       "      <th>fGgMD8npNcGyx_Fr91m_Dg</th>\n",
       "      <td>4.0</td>\n",
       "      <td>0</td>\n",
       "      <td>0</td>\n",
       "      <td>0</td>\n",
       "    </tr>\n",
       "    <tr>\n",
       "      <th>flX4YICNgGSs2QriJ2CgRw</th>\n",
       "      <td>4.0</td>\n",
       "      <td>0</td>\n",
       "      <td>0</td>\n",
       "      <td>0</td>\n",
       "    </tr>\n",
       "    <tr>\n",
       "      <th>J8hLMRbhy7JJgvg_rYn_AQ</th>\n",
       "      <td>1.0</td>\n",
       "      <td>0</td>\n",
       "      <td>0</td>\n",
       "      <td>0</td>\n",
       "    </tr>\n",
       "  </tbody>\n",
       "</table>\n",
       "<p>39138 rows × 4 columns</p>\n",
       "</div>"
      ],
      "text/plain": [
       "                        stars  useful  funny  cool\n",
       "review_id                                         \n",
       "qWHp2l2lysENZObh6MAulA    5.0       1      0     0\n",
       "n2BEHit2SwqsRo6jlTagUA    2.0       2      0     0\n",
       "m4AXzV9l14iFBd9DRdM82w    1.0      11      1     0\n",
       "A-yKlSLEQQcoHR5q2lCyHg    5.0       1      0     0\n",
       "asLnux3k2yqoVjcJcLuF0g    4.0       0      0     0\n",
       "...                       ...     ...    ...   ...\n",
       "57cCUwZm4lsHum8aENC6Kg    1.0       0      0     0\n",
       "ZnE93UGlk29kX0dfwMOGNw    5.0       0      0     0\n",
       "fGgMD8npNcGyx_Fr91m_Dg    4.0       0      0     0\n",
       "flX4YICNgGSs2QriJ2CgRw    4.0       0      0     0\n",
       "J8hLMRbhy7JJgvg_rYn_AQ    1.0       0      0     0\n",
       "\n",
       "[39138 rows x 4 columns]"
      ]
     },
     "execution_count": 57,
     "metadata": {},
     "output_type": "execute_result"
    }
   ],
   "source": [
    "svm_features_reviews = ['review_id','stars', 'useful','funny','cool']\n",
    "svm_reviews = pd.DataFrame(reviews_dataset[svm_features_reviews])\n",
    "svm_reviews.index = svm_reviews['review_id']\n",
    "svm_reviews = svm_reviews.drop(columns = ['review_id'])\n",
    "svm_reviews[0:]"
   ]
  },
  {
   "cell_type": "code",
   "execution_count": 58,
   "metadata": {},
   "outputs": [
    {
     "data": {
      "text/html": [
       "<div>\n",
       "<style scoped>\n",
       "    .dataframe tbody tr th:only-of-type {\n",
       "        vertical-align: middle;\n",
       "    }\n",
       "\n",
       "    .dataframe tbody tr th {\n",
       "        vertical-align: top;\n",
       "    }\n",
       "\n",
       "    .dataframe thead th {\n",
       "        text-align: right;\n",
       "    }\n",
       "</style>\n",
       "<table border=\"1\" class=\"dataframe\">\n",
       "  <thead>\n",
       "    <tr style=\"text-align: right;\">\n",
       "      <th></th>\n",
       "      <th>review_count</th>\n",
       "      <th>useful</th>\n",
       "      <th>funny</th>\n",
       "      <th>cool</th>\n",
       "    </tr>\n",
       "    <tr>\n",
       "      <th>user_id</th>\n",
       "      <th></th>\n",
       "      <th></th>\n",
       "      <th></th>\n",
       "      <th></th>\n",
       "    </tr>\n",
       "  </thead>\n",
       "  <tbody>\n",
       "    <tr>\n",
       "      <th>fcNU65OaCj7slBJ60VSQgw</th>\n",
       "      <td>1204</td>\n",
       "      <td>4907</td>\n",
       "      <td>2674</td>\n",
       "      <td>2718</td>\n",
       "    </tr>\n",
       "    <tr>\n",
       "      <th>4mjnkd8oJVCfBKN3i4rB-g</th>\n",
       "      <td>1247</td>\n",
       "      <td>3967</td>\n",
       "      <td>2631</td>\n",
       "      <td>2491</td>\n",
       "    </tr>\n",
       "    <tr>\n",
       "      <th>ZdYHJ-hctaaDeH1CpP7-EA</th>\n",
       "      <td>266</td>\n",
       "      <td>491</td>\n",
       "      <td>103</td>\n",
       "      <td>152</td>\n",
       "    </tr>\n",
       "    <tr>\n",
       "      <th>JWgti_adPZywG9SKUbnB-w</th>\n",
       "      <td>141</td>\n",
       "      <td>227</td>\n",
       "      <td>76</td>\n",
       "      <td>42</td>\n",
       "    </tr>\n",
       "    <tr>\n",
       "      <th>PIzmdHF7p9GwXhwt3b3JxQ</th>\n",
       "      <td>112</td>\n",
       "      <td>154</td>\n",
       "      <td>57</td>\n",
       "      <td>35</td>\n",
       "    </tr>\n",
       "    <tr>\n",
       "      <th>...</th>\n",
       "      <td>...</td>\n",
       "      <td>...</td>\n",
       "      <td>...</td>\n",
       "      <td>...</td>\n",
       "    </tr>\n",
       "    <tr>\n",
       "      <th>YfVGrr7SqPI1NY-mx9jfUw</th>\n",
       "      <td>2</td>\n",
       "      <td>0</td>\n",
       "      <td>0</td>\n",
       "      <td>0</td>\n",
       "    </tr>\n",
       "    <tr>\n",
       "      <th>lcd1uiaw4sZd7wGxpHbd0w</th>\n",
       "      <td>3</td>\n",
       "      <td>4</td>\n",
       "      <td>1</td>\n",
       "      <td>0</td>\n",
       "    </tr>\n",
       "    <tr>\n",
       "      <th>woRHA_rBPcg-KU8EJDG1Ig</th>\n",
       "      <td>17</td>\n",
       "      <td>0</td>\n",
       "      <td>0</td>\n",
       "      <td>0</td>\n",
       "    </tr>\n",
       "    <tr>\n",
       "      <th>3Xop9LVQDOWIVjFRj07QTw</th>\n",
       "      <td>2</td>\n",
       "      <td>5</td>\n",
       "      <td>5</td>\n",
       "      <td>2</td>\n",
       "    </tr>\n",
       "    <tr>\n",
       "      <th>GHb_NO0eeXpiwA5oJvI3rw</th>\n",
       "      <td>1</td>\n",
       "      <td>1</td>\n",
       "      <td>0</td>\n",
       "      <td>0</td>\n",
       "    </tr>\n",
       "  </tbody>\n",
       "</table>\n",
       "<p>14664 rows × 4 columns</p>\n",
       "</div>"
      ],
      "text/plain": [
       "                        review_count  useful  funny  cool\n",
       "user_id                                                  \n",
       "fcNU65OaCj7slBJ60VSQgw          1204    4907   2674  2718\n",
       "4mjnkd8oJVCfBKN3i4rB-g          1247    3967   2631  2491\n",
       "ZdYHJ-hctaaDeH1CpP7-EA           266     491    103   152\n",
       "JWgti_adPZywG9SKUbnB-w           141     227     76    42\n",
       "PIzmdHF7p9GwXhwt3b3JxQ           112     154     57    35\n",
       "...                              ...     ...    ...   ...\n",
       "YfVGrr7SqPI1NY-mx9jfUw             2       0      0     0\n",
       "lcd1uiaw4sZd7wGxpHbd0w             3       4      1     0\n",
       "woRHA_rBPcg-KU8EJDG1Ig            17       0      0     0\n",
       "3Xop9LVQDOWIVjFRj07QTw             2       5      5     2\n",
       "GHb_NO0eeXpiwA5oJvI3rw             1       1      0     0\n",
       "\n",
       "[14664 rows x 4 columns]"
      ]
     },
     "execution_count": 58,
     "metadata": {},
     "output_type": "execute_result"
    }
   ],
   "source": [
    "svm_features_user = ['user_id','review_count','useful','funny','cool']\n",
    "svm_user = pd.DataFrame(user_dataset[svm_features_user])\n",
    "svm_user.index = svm_user['user_id']\n",
    "svm_user = svm_user.drop(columns = ['user_id'])\n",
    "svm_user[0:]"
   ]
  },
  {
   "cell_type": "code",
   "execution_count": 59,
   "metadata": {},
   "outputs": [
    {
     "data": {
      "text/html": [
       "<div>\n",
       "<style scoped>\n",
       "    .dataframe tbody tr th:only-of-type {\n",
       "        vertical-align: middle;\n",
       "    }\n",
       "\n",
       "    .dataframe tbody tr th {\n",
       "        vertical-align: top;\n",
       "    }\n",
       "\n",
       "    .dataframe thead th {\n",
       "        text-align: right;\n",
       "    }\n",
       "</style>\n",
       "<table border=\"1\" class=\"dataframe\">\n",
       "  <thead>\n",
       "    <tr style=\"text-align: right;\">\n",
       "      <th></th>\n",
       "      <th>latitude</th>\n",
       "      <th>longitude</th>\n",
       "      <th>stars</th>\n",
       "      <th>review_count</th>\n",
       "    </tr>\n",
       "    <tr>\n",
       "      <th>business_id</th>\n",
       "      <th></th>\n",
       "      <th></th>\n",
       "      <th></th>\n",
       "      <th></th>\n",
       "    </tr>\n",
       "  </thead>\n",
       "  <tbody>\n",
       "    <tr>\n",
       "      <th>UiyjUa8CQmygujhe-ZYlsw</th>\n",
       "      <td>40.127030</td>\n",
       "      <td>-88.241699</td>\n",
       "      <td>3.0</td>\n",
       "      <td>15</td>\n",
       "    </tr>\n",
       "    <tr>\n",
       "      <th>-LfTBo0oa_uD454ScEW2XA</th>\n",
       "      <td>40.118133</td>\n",
       "      <td>-88.242900</td>\n",
       "      <td>3.0</td>\n",
       "      <td>47</td>\n",
       "    </tr>\n",
       "    <tr>\n",
       "      <th>R32Yh0XxxanldkIp11fuRg</th>\n",
       "      <td>40.112515</td>\n",
       "      <td>-88.271575</td>\n",
       "      <td>3.5</td>\n",
       "      <td>45</td>\n",
       "    </tr>\n",
       "    <tr>\n",
       "      <th>-1TUzO4XCmOeqi9eAGeDWA</th>\n",
       "      <td>40.136060</td>\n",
       "      <td>-88.266079</td>\n",
       "      <td>4.5</td>\n",
       "      <td>15</td>\n",
       "    </tr>\n",
       "    <tr>\n",
       "      <th>WO2nNar_wIQ3fIAfF3MM1Q</th>\n",
       "      <td>40.116715</td>\n",
       "      <td>-88.240606</td>\n",
       "      <td>4.0</td>\n",
       "      <td>24</td>\n",
       "    </tr>\n",
       "    <tr>\n",
       "      <th>...</th>\n",
       "      <td>...</td>\n",
       "      <td>...</td>\n",
       "      <td>...</td>\n",
       "      <td>...</td>\n",
       "    </tr>\n",
       "    <tr>\n",
       "      <th>ldKrUirpZZ6JDnNwOwLpvw</th>\n",
       "      <td>40.117048</td>\n",
       "      <td>-88.278364</td>\n",
       "      <td>3.0</td>\n",
       "      <td>35</td>\n",
       "    </tr>\n",
       "    <tr>\n",
       "      <th>KCQNEIvtU48Mh07uS-_Gvw</th>\n",
       "      <td>40.116340</td>\n",
       "      <td>-88.220850</td>\n",
       "      <td>2.5</td>\n",
       "      <td>34</td>\n",
       "    </tr>\n",
       "    <tr>\n",
       "      <th>nh1-ax9wPNCqskcJYIWogg</th>\n",
       "      <td>40.103246</td>\n",
       "      <td>-88.244236</td>\n",
       "      <td>2.5</td>\n",
       "      <td>27</td>\n",
       "    </tr>\n",
       "    <tr>\n",
       "      <th>DTxj39kZVe3NUscJoPYUYA</th>\n",
       "      <td>40.086725</td>\n",
       "      <td>-88.246067</td>\n",
       "      <td>3.0</td>\n",
       "      <td>22</td>\n",
       "    </tr>\n",
       "    <tr>\n",
       "      <th>Qtv6iGDAHBmAKBgl40JgLw</th>\n",
       "      <td>40.147209</td>\n",
       "      <td>-88.254940</td>\n",
       "      <td>3.5</td>\n",
       "      <td>55</td>\n",
       "    </tr>\n",
       "  </tbody>\n",
       "</table>\n",
       "<p>717 rows × 4 columns</p>\n",
       "</div>"
      ],
      "text/plain": [
       "                         latitude  longitude  stars  review_count\n",
       "business_id                                                      \n",
       "UiyjUa8CQmygujhe-ZYlsw  40.127030 -88.241699    3.0            15\n",
       "-LfTBo0oa_uD454ScEW2XA  40.118133 -88.242900    3.0            47\n",
       "R32Yh0XxxanldkIp11fuRg  40.112515 -88.271575    3.5            45\n",
       "-1TUzO4XCmOeqi9eAGeDWA  40.136060 -88.266079    4.5            15\n",
       "WO2nNar_wIQ3fIAfF3MM1Q  40.116715 -88.240606    4.0            24\n",
       "...                           ...        ...    ...           ...\n",
       "ldKrUirpZZ6JDnNwOwLpvw  40.117048 -88.278364    3.0            35\n",
       "KCQNEIvtU48Mh07uS-_Gvw  40.116340 -88.220850    2.5            34\n",
       "nh1-ax9wPNCqskcJYIWogg  40.103246 -88.244236    2.5            27\n",
       "DTxj39kZVe3NUscJoPYUYA  40.086725 -88.246067    3.0            22\n",
       "Qtv6iGDAHBmAKBgl40JgLw  40.147209 -88.254940    3.5            55\n",
       "\n",
       "[717 rows x 4 columns]"
      ]
     },
     "execution_count": 59,
     "metadata": {},
     "output_type": "execute_result"
    }
   ],
   "source": [
    "svm_features_business = [\"business_id\",'latitude','longitude', 'stars','review_count']\n",
    "svm_business = pd.DataFrame(business_dataset[svm_features_business])\n",
    "svm_business.index = svm_business['business_id']\n",
    "svm_business = svm_business.drop(columns = ['business_id'])\n",
    "svm_business[0:]"
   ]
  },
  {
   "cell_type": "code",
   "execution_count": 60,
   "metadata": {},
   "outputs": [],
   "source": [
    "svm_data = []\n",
    "for i in range(reviews_dataset.shape[0]):\n",
    "    rowData_user = np.asarray(svm_user.loc[ reviews_dataset['user_id'][i] , : ])\n",
    "    rowData_review = np.asarray(svm_reviews.loc[ reviews_dataset['review_id'][i] , : ])\n",
    "    rowData_business = np.asarray(svm_business.loc[ reviews_dataset['business_id'][i] , : ])\n",
    "    data = np.hstack((rowData_review , rowData_user, rowData_business))\n",
    "    svm_data.append(data)\n"
   ]
  },
  {
   "cell_type": "code",
   "execution_count": 61,
   "metadata": {},
   "outputs": [],
   "source": [
    "from sklearn.model_selection import train_test_split"
   ]
  },
  {
   "cell_type": "code",
   "execution_count": 62,
   "metadata": {},
   "outputs": [
    {
     "name": "stdout",
     "output_type": "stream",
     "text": [
      "[array([  5.       ,   1.       ,   0.       ,   0.       ,   3.       ,\n",
      "         6.       ,   1.       ,   1.       ,  40.1164204, -88.2433829,\n",
      "         4.5      ,  28.       ]), array([  2.       ,   2.       ,   0.       ,   0.       ,  67.       ,\n",
      "       158.       ,  57.       ,  37.       ,  40.0364887, -88.263988 ,\n",
      "         4.       ,  38.       ]), array([  1.        ,  11.        ,   1.        ,   0.        ,\n",
      "        22.        ,  74.        ,  14.        ,   6.        ,\n",
      "        40.10314717, -88.2442199 ,   2.5       ,  42.        ]), array([  5.       ,   1.       ,   0.       ,   0.       , 155.       ,\n",
      "       240.       ,  59.       ,  83.       ,  40.1190386, -88.2438816,\n",
      "         3.5      , 130.       ]), array([  4.       ,   0.       ,   0.       ,   0.       ,  24.       ,\n",
      "        18.       ,   5.       ,   2.       ,  40.1067362, -88.2236159,\n",
      "         4.       , 166.       ])]\n"
     ]
    }
   ],
   "source": [
    "print(svm_data[0:5])"
   ]
  },
  {
   "cell_type": "code",
   "execution_count": 63,
   "metadata": {},
   "outputs": [],
   "source": [
    "svm_df = pd.DataFrame(svm_data, columns =['review_stars', 'review_useful','review_funny','review_cool','user_review_count','user_useful','user_funny','user_cool','business_latitude','business_longitude', 'business_stars','business_review_count']) "
   ]
  },
  {
   "cell_type": "code",
   "execution_count": 64,
   "metadata": {},
   "outputs": [
    {
     "data": {
      "text/html": [
       "<div>\n",
       "<style scoped>\n",
       "    .dataframe tbody tr th:only-of-type {\n",
       "        vertical-align: middle;\n",
       "    }\n",
       "\n",
       "    .dataframe tbody tr th {\n",
       "        vertical-align: top;\n",
       "    }\n",
       "\n",
       "    .dataframe thead th {\n",
       "        text-align: right;\n",
       "    }\n",
       "</style>\n",
       "<table border=\"1\" class=\"dataframe\">\n",
       "  <thead>\n",
       "    <tr style=\"text-align: right;\">\n",
       "      <th></th>\n",
       "      <th>review_stars</th>\n",
       "      <th>review_useful</th>\n",
       "      <th>review_funny</th>\n",
       "      <th>review_cool</th>\n",
       "      <th>user_review_count</th>\n",
       "      <th>user_useful</th>\n",
       "      <th>user_funny</th>\n",
       "      <th>user_cool</th>\n",
       "      <th>business_latitude</th>\n",
       "      <th>business_longitude</th>\n",
       "      <th>business_stars</th>\n",
       "      <th>business_review_count</th>\n",
       "    </tr>\n",
       "  </thead>\n",
       "  <tbody>\n",
       "    <tr>\n",
       "      <th>0</th>\n",
       "      <td>5.0</td>\n",
       "      <td>1.0</td>\n",
       "      <td>0.0</td>\n",
       "      <td>0.0</td>\n",
       "      <td>3.0</td>\n",
       "      <td>6.0</td>\n",
       "      <td>1.0</td>\n",
       "      <td>1.0</td>\n",
       "      <td>40.116420</td>\n",
       "      <td>-88.243383</td>\n",
       "      <td>4.5</td>\n",
       "      <td>28.0</td>\n",
       "    </tr>\n",
       "    <tr>\n",
       "      <th>1</th>\n",
       "      <td>2.0</td>\n",
       "      <td>2.0</td>\n",
       "      <td>0.0</td>\n",
       "      <td>0.0</td>\n",
       "      <td>67.0</td>\n",
       "      <td>158.0</td>\n",
       "      <td>57.0</td>\n",
       "      <td>37.0</td>\n",
       "      <td>40.036489</td>\n",
       "      <td>-88.263988</td>\n",
       "      <td>4.0</td>\n",
       "      <td>38.0</td>\n",
       "    </tr>\n",
       "    <tr>\n",
       "      <th>2</th>\n",
       "      <td>1.0</td>\n",
       "      <td>11.0</td>\n",
       "      <td>1.0</td>\n",
       "      <td>0.0</td>\n",
       "      <td>22.0</td>\n",
       "      <td>74.0</td>\n",
       "      <td>14.0</td>\n",
       "      <td>6.0</td>\n",
       "      <td>40.103147</td>\n",
       "      <td>-88.244220</td>\n",
       "      <td>2.5</td>\n",
       "      <td>42.0</td>\n",
       "    </tr>\n",
       "    <tr>\n",
       "      <th>3</th>\n",
       "      <td>5.0</td>\n",
       "      <td>1.0</td>\n",
       "      <td>0.0</td>\n",
       "      <td>0.0</td>\n",
       "      <td>155.0</td>\n",
       "      <td>240.0</td>\n",
       "      <td>59.0</td>\n",
       "      <td>83.0</td>\n",
       "      <td>40.119039</td>\n",
       "      <td>-88.243882</td>\n",
       "      <td>3.5</td>\n",
       "      <td>130.0</td>\n",
       "    </tr>\n",
       "    <tr>\n",
       "      <th>4</th>\n",
       "      <td>4.0</td>\n",
       "      <td>0.0</td>\n",
       "      <td>0.0</td>\n",
       "      <td>0.0</td>\n",
       "      <td>24.0</td>\n",
       "      <td>18.0</td>\n",
       "      <td>5.0</td>\n",
       "      <td>2.0</td>\n",
       "      <td>40.106736</td>\n",
       "      <td>-88.223616</td>\n",
       "      <td>4.0</td>\n",
       "      <td>166.0</td>\n",
       "    </tr>\n",
       "    <tr>\n",
       "      <th>...</th>\n",
       "      <td>...</td>\n",
       "      <td>...</td>\n",
       "      <td>...</td>\n",
       "      <td>...</td>\n",
       "      <td>...</td>\n",
       "      <td>...</td>\n",
       "      <td>...</td>\n",
       "      <td>...</td>\n",
       "      <td>...</td>\n",
       "      <td>...</td>\n",
       "      <td>...</td>\n",
       "      <td>...</td>\n",
       "    </tr>\n",
       "    <tr>\n",
       "      <th>39133</th>\n",
       "      <td>1.0</td>\n",
       "      <td>0.0</td>\n",
       "      <td>0.0</td>\n",
       "      <td>0.0</td>\n",
       "      <td>22.0</td>\n",
       "      <td>4.0</td>\n",
       "      <td>0.0</td>\n",
       "      <td>0.0</td>\n",
       "      <td>40.109278</td>\n",
       "      <td>-88.244036</td>\n",
       "      <td>2.5</td>\n",
       "      <td>29.0</td>\n",
       "    </tr>\n",
       "    <tr>\n",
       "      <th>39134</th>\n",
       "      <td>5.0</td>\n",
       "      <td>0.0</td>\n",
       "      <td>0.0</td>\n",
       "      <td>0.0</td>\n",
       "      <td>49.0</td>\n",
       "      <td>25.0</td>\n",
       "      <td>2.0</td>\n",
       "      <td>2.0</td>\n",
       "      <td>40.096149</td>\n",
       "      <td>-88.245396</td>\n",
       "      <td>3.5</td>\n",
       "      <td>80.0</td>\n",
       "    </tr>\n",
       "    <tr>\n",
       "      <th>39135</th>\n",
       "      <td>4.0</td>\n",
       "      <td>0.0</td>\n",
       "      <td>0.0</td>\n",
       "      <td>0.0</td>\n",
       "      <td>31.0</td>\n",
       "      <td>21.0</td>\n",
       "      <td>3.0</td>\n",
       "      <td>7.0</td>\n",
       "      <td>40.118381</td>\n",
       "      <td>-88.242996</td>\n",
       "      <td>3.5</td>\n",
       "      <td>365.0</td>\n",
       "    </tr>\n",
       "    <tr>\n",
       "      <th>39136</th>\n",
       "      <td>4.0</td>\n",
       "      <td>0.0</td>\n",
       "      <td>0.0</td>\n",
       "      <td>0.0</td>\n",
       "      <td>6.0</td>\n",
       "      <td>6.0</td>\n",
       "      <td>1.0</td>\n",
       "      <td>1.0</td>\n",
       "      <td>40.117572</td>\n",
       "      <td>-88.243357</td>\n",
       "      <td>4.0</td>\n",
       "      <td>222.0</td>\n",
       "    </tr>\n",
       "    <tr>\n",
       "      <th>39137</th>\n",
       "      <td>1.0</td>\n",
       "      <td>0.0</td>\n",
       "      <td>0.0</td>\n",
       "      <td>0.0</td>\n",
       "      <td>1.0</td>\n",
       "      <td>0.0</td>\n",
       "      <td>0.0</td>\n",
       "      <td>0.0</td>\n",
       "      <td>40.068866</td>\n",
       "      <td>-88.249195</td>\n",
       "      <td>3.5</td>\n",
       "      <td>21.0</td>\n",
       "    </tr>\n",
       "  </tbody>\n",
       "</table>\n",
       "<p>39138 rows × 12 columns</p>\n",
       "</div>"
      ],
      "text/plain": [
       "       review_stars  review_useful  review_funny  review_cool  \\\n",
       "0               5.0            1.0           0.0          0.0   \n",
       "1               2.0            2.0           0.0          0.0   \n",
       "2               1.0           11.0           1.0          0.0   \n",
       "3               5.0            1.0           0.0          0.0   \n",
       "4               4.0            0.0           0.0          0.0   \n",
       "...             ...            ...           ...          ...   \n",
       "39133           1.0            0.0           0.0          0.0   \n",
       "39134           5.0            0.0           0.0          0.0   \n",
       "39135           4.0            0.0           0.0          0.0   \n",
       "39136           4.0            0.0           0.0          0.0   \n",
       "39137           1.0            0.0           0.0          0.0   \n",
       "\n",
       "       user_review_count  user_useful  user_funny  user_cool  \\\n",
       "0                    3.0          6.0         1.0        1.0   \n",
       "1                   67.0        158.0        57.0       37.0   \n",
       "2                   22.0         74.0        14.0        6.0   \n",
       "3                  155.0        240.0        59.0       83.0   \n",
       "4                   24.0         18.0         5.0        2.0   \n",
       "...                  ...          ...         ...        ...   \n",
       "39133               22.0          4.0         0.0        0.0   \n",
       "39134               49.0         25.0         2.0        2.0   \n",
       "39135               31.0         21.0         3.0        7.0   \n",
       "39136                6.0          6.0         1.0        1.0   \n",
       "39137                1.0          0.0         0.0        0.0   \n",
       "\n",
       "       business_latitude  business_longitude  business_stars  \\\n",
       "0              40.116420          -88.243383             4.5   \n",
       "1              40.036489          -88.263988             4.0   \n",
       "2              40.103147          -88.244220             2.5   \n",
       "3              40.119039          -88.243882             3.5   \n",
       "4              40.106736          -88.223616             4.0   \n",
       "...                  ...                 ...             ...   \n",
       "39133          40.109278          -88.244036             2.5   \n",
       "39134          40.096149          -88.245396             3.5   \n",
       "39135          40.118381          -88.242996             3.5   \n",
       "39136          40.117572          -88.243357             4.0   \n",
       "39137          40.068866          -88.249195             3.5   \n",
       "\n",
       "       business_review_count  \n",
       "0                       28.0  \n",
       "1                       38.0  \n",
       "2                       42.0  \n",
       "3                      130.0  \n",
       "4                      166.0  \n",
       "...                      ...  \n",
       "39133                   29.0  \n",
       "39134                   80.0  \n",
       "39135                  365.0  \n",
       "39136                  222.0  \n",
       "39137                   21.0  \n",
       "\n",
       "[39138 rows x 12 columns]"
      ]
     },
     "execution_count": 64,
     "metadata": {},
     "output_type": "execute_result"
    }
   ],
   "source": [
    "svm_df"
   ]
  },
  {
   "cell_type": "code",
   "execution_count": 65,
   "metadata": {},
   "outputs": [],
   "source": [
    "SVM_x_train, SVM_x_val, SVM_y_train, SVM_y_val = train_test_split(svm_df.drop(['review_stars'], axis=1), svm_df[['review_stars']], test_size=0.2, random_state=0)"
   ]
  },
  {
   "cell_type": "code",
   "execution_count": 66,
   "metadata": {},
   "outputs": [
    {
     "name": "stdout",
     "output_type": "stream",
     "text": [
      "(31310, 11)\n",
      "(31310, 1)\n",
      "(7828, 11)\n",
      "(7828, 1)\n"
     ]
    }
   ],
   "source": [
    "print(SVM_x_train.shape)\n",
    "print(SVM_y_train.shape)\n",
    "print(SVM_x_val.shape)\n",
    "print(SVM_y_val.shape)"
   ]
  },
  {
   "cell_type": "code",
   "execution_count": 67,
   "metadata": {},
   "outputs": [],
   "source": [
    "from sklearn.preprocessing import StandardScaler\n",
    "\n",
    "\n",
    "scaler = StandardScaler()\n",
    "scaler.fit(SVM_x_train)\n",
    "SVM_x_train_scaled = scaler.transform(SVM_x_train)\n",
    "SVM_x_val_scaled = scaler.transform(SVM_x_val)"
   ]
  },
  {
   "cell_type": "code",
   "execution_count": 68,
   "metadata": {},
   "outputs": [],
   "source": [
    "from sklearn.svm import SVC\n",
    "from sklearn import metrics\n",
    "import matplotlib.pyplot as plt \n",
    "import seaborn as sns"
   ]
  },
  {
   "cell_type": "code",
   "execution_count": 69,
   "metadata": {},
   "outputs": [
    {
     "data": {
      "image/png": "[encoded data removed]",
      "text/plain": [
       "<Figure size 432x288 with 2 Axes>"
      ]
     },
     "metadata": {
      "needs_background": "light"
     },
     "output_type": "display_data"
    }
   ],
   "source": [
    "#Svm for float dataset\n",
    "#Try to find the best kernel\n",
    "classifier = SVC(kernel = 'linear')\n",
    "classifier.fit(SVM_x_train_scaled,SVM_y_train.values.ravel())\n",
    "SVM_y_pred = classifier.predict(SVM_x_val_scaled)\n",
    "\n",
    "conf_matrix = metrics.confusion_matrix(SVM_y_val,SVM_y_pred) \n",
    "sns.heatmap(conf_matrix,annot=True,fmt=\".3f\",square = True, cmap = plt.cm.Blues)\n",
    "plt.ylabel('Actual')\n",
    "plt.xlabel('Predicted')\n",
    "plt.title('SVM') \n",
    "plt.tight_layout()"
   ]
  },
  {
   "cell_type": "code",
   "execution_count": 70,
   "metadata": {},
   "outputs": [
    {
     "name": "stdout",
     "output_type": "stream",
     "text": [
      "['accuracy:', 0.4416198262646909, 'error:', 0.5583801737353091, 'precision:', array([0.50085911, 0.5       , 1.        , 0.44215938, 0.43032918]), 'recall:', array([0.47786885, 0.0098401 , 0.00102145, 0.0903836 , 0.92447648]), 'F1_score', array([0.48909396, 0.01930036, 0.00204082, 0.15008726, 0.58728601])]\n"
     ]
    }
   ],
   "source": [
    "accuracy = metrics.accuracy_score(SVM_y_val,SVM_y_pred)\n",
    "error = 1 - accuracy\n",
    "precision = metrics.precision_score(SVM_y_val,SVM_y_pred,average = None)\n",
    "recall = metrics.recall_score(SVM_y_val,SVM_y_pred,average=None)\n",
    "F1_score = metrics.f1_score(SVM_y_val,SVM_y_pred,average = None)\n",
    "print([\"accuracy:\",accuracy,\"error:\",error, \"precision:\", precision,\"recall:\",recall,\"F1_score\",F1_score])"
   ]
  },
  {
   "cell_type": "code",
   "execution_count": 71,
   "metadata": {},
   "outputs": [
    {
     "data": {
      "image/png": "[encoded data removed]",
      "text/plain": [
       "<Figure size 432x288 with 2 Axes>"
      ]
     },
     "metadata": {
      "needs_background": "light"
     },
     "output_type": "display_data"
    }
   ],
   "source": [
    "classifier = SVC(kernel = 'poly')\n",
    "classifier.fit(SVM_x_train_scaled,SVM_y_train.values.ravel())\n",
    "SVM_y_pred = classifier.predict(SVM_x_val_scaled)\n",
    "conf_matrix = metrics.confusion_matrix(SVM_y_val,SVM_y_pred)\n",
    "sns.heatmap(conf_matrix,annot=True,fmt=\".3f\",square = True, cmap = plt.cm.Blues)\n",
    "plt.ylabel('Actual')\n",
    "plt.xlabel('Predicted')\n",
    "plt.title('SVM Poly kernel')\n",
    "plt.tight_layout()"
   ]
  },
  {
   "cell_type": "code",
   "execution_count": 72,
   "metadata": {},
   "outputs": [
    {
     "name": "stdout",
     "output_type": "stream",
     "text": [
      "['accuracy:', 0.42092488502810427, 'error:', 0.5790751149718958, 'precision:', array([0.60269865, 0.1875    , 0.34782609, 0.53333333, 0.40291679]), 'recall:', array([0.3295082 , 0.00369004, 0.01634321, 0.02942722, 0.96738757]), 'F1_score', array([0.42607313, 0.00723764, 0.03121951, 0.05577689, 0.56889068])]\n"
     ]
    }
   ],
   "source": [
    "accuracy = metrics.accuracy_score(SVM_y_val,SVM_y_pred)\n",
    "error = 1 - accuracy\n",
    "precision = metrics.precision_score(SVM_y_val,SVM_y_pred,average = None)\n",
    "recall = metrics.recall_score(SVM_y_val,SVM_y_pred,average=None)\n",
    "F1_score = metrics.f1_score(SVM_y_val,SVM_y_pred,average = None)\n",
    "print([\"accuracy:\",accuracy,\"error:\",error, \"precision:\", precision,\"recall:\",recall,\"F1_score\",F1_score])"
   ]
  },
  {
   "cell_type": "code",
   "execution_count": 73,
   "metadata": {},
   "outputs": [
    {
     "data": {
      "image/png": "[encoded data removed]",
      "text/plain": [
       "<Figure size 432x288 with 2 Axes>"
      ]
     },
     "metadata": {
      "needs_background": "light"
     },
     "output_type": "display_data"
    }
   ],
   "source": [
    "classifier = SVC(kernel = 'rbf')\n",
    "classifier.fit(SVM_x_train_scaled,SVM_y_train.values.ravel())\n",
    "SVM_y_pred = classifier.predict(SVM_x_val_scaled)\n",
    "conf_matrix = metrics.confusion_matrix(SVM_y_val,SVM_y_pred)\n",
    "sns.heatmap(conf_matrix,annot=True,fmt=\".3f\",square = True, cmap = plt.cm.Blues)\n",
    "plt.ylabel('Actual')\n",
    "plt.xlabel('Predicted')\n",
    "plt.title('SVM RBF kernel')\n",
    "plt.tight_layout()"
   ]
  },
  {
   "cell_type": "code",
   "execution_count": 74,
   "metadata": {},
   "outputs": [
    {
     "name": "stdout",
     "output_type": "stream",
     "text": [
      "['accuracy:', 0.4630812468063362, 'error:', 0.5369187531936638, 'precision:', array([0.51093117, 0.35714286, 0.33823529, 0.4217348 , 0.46222628]), 'recall:', array([0.51721311, 0.01845018, 0.02349336, 0.22228061, 0.86955029]), 'F1_score', array([0.51405295, 0.03508772, 0.04393505, 0.29112182, 0.60359824])]\n"
     ]
    }
   ],
   "source": [
    "accuracy = metrics.accuracy_score(SVM_y_val,SVM_y_pred)\n",
    "error = 1 - accuracy\n",
    "precision = metrics.precision_score(SVM_y_val,SVM_y_pred,average = None)\n",
    "recall = metrics.recall_score(SVM_y_val,SVM_y_pred,average=None)\n",
    "F1_score = metrics.f1_score(SVM_y_val,SVM_y_pred,average = None)\n",
    "print([\"accuracy:\",accuracy,\"error:\",error, \"precision:\", precision,\"recall:\",recall,\"F1_score\",F1_score])"
   ]
  },
  {
   "cell_type": "code",
   "execution_count": 75,
   "metadata": {},
   "outputs": [
    {
     "data": {
      "image/png": "[encoded data removed]",
      "text/plain": [
       "<Figure size 432x288 with 2 Axes>"
      ]
     },
     "metadata": {
      "needs_background": "light"
     },
     "output_type": "display_data"
    }
   ],
   "source": [
    "classifier = SVC(kernel = 'sigmoid')\n",
    "classifier.fit(SVM_x_train_scaled,SVM_y_train.values.ravel())\n",
    "SVM_y_pred = classifier.predict(SVM_x_val_scaled)\n",
    "conf_matrix = metrics.confusion_matrix(SVM_y_val,SVM_y_pred)\n",
    "sns.heatmap(conf_matrix,annot=True,fmt=\".3f\",square = True, cmap = plt.cm.Blues)\n",
    "plt.ylabel('Actual')\n",
    "plt.xlabel('Predicted')\n",
    "plt.title('SVM Sigmoid kernel')\n",
    "plt.tight_layout()"
   ]
  },
  {
   "cell_type": "code",
   "execution_count": 76,
   "metadata": {},
   "outputs": [
    {
     "name": "stdout",
     "output_type": "stream",
     "text": [
      "['accuracy:', 0.35628513030148184, 'error:', 0.6437148696985182, 'precision:', array([0.35360603, 0.08545918, 0.19778481, 0.30381471, 0.49937265]), 'recall:', array([0.53852459, 0.08241082, 0.25536261, 0.11718339, 0.54651562]), 'F1_score', array([0.42690058, 0.08390733, 0.22291574, 0.16913159, 0.52188166])]\n"
     ]
    }
   ],
   "source": [
    "accuracy = metrics.accuracy_score(SVM_y_val,SVM_y_pred)\n",
    "error = 1 - accuracy\n",
    "precision = metrics.precision_score(SVM_y_val,SVM_y_pred,average = None)\n",
    "recall = metrics.recall_score(SVM_y_val,SVM_y_pred,average=None)\n",
    "F1_score = metrics.f1_score(SVM_y_val,SVM_y_pred,average = None)\n",
    "print([\"accuracy:\",accuracy,\"error:\",error, \"precision:\", precision,\"recall:\",recall,\"F1_score\",F1_score])"
   ]
  },
  {
   "cell_type": "code",
   "execution_count": 79,
   "metadata": {},
   "outputs": [
    {
     "name": "stdout",
     "output_type": "stream",
     "text": [
      "Mean Baseline Test set metrics:\n",
      "\troot_mean_square_error =  1.8079764221288783\n",
      "\tmean_absolute_error =  1.2756770567194686\n"
     ]
    }
   ],
   "source": [
    "rmse = np.sqrt(mean_squared_error(SVM_y_val, SVM_y_pred))\n",
    "mae = mean_absolute_error(SVM_y_val, SVM_y_pred)\n",
    "print(\"Mean Baseline Test set metrics:\")\n",
    "print(\"\\troot_mean_square_error = \", rmse)\n",
    "print(\"\\tmean_absolute_error = \", mae)"
   ]
  },
  {
   "cell_type": "code",
   "execution_count": null,
   "metadata": {},
   "outputs": [],
   "source": []
  },
  {
   "cell_type": "code",
   "execution_count": null,
   "metadata": {},
   "outputs": [],
   "source": [
    "#Implementation of the HinSAGE by changing the number of you can try increasing the number of training epochs,\n",
    "#change the dropout rate, change the sample sizes for subgraph sampling num_samples, hidden layer sizes \n",
    "#layer_sizes of the HinSAGE part of the model, or try increasing the number of HinSAGE layers.\n",
    "\n",
    "#Case 1\n",
    "# Increase layer size\n"
   ]
  },
  {
   "cell_type": "code",
   "execution_count": 83,
   "metadata": {},
   "outputs": [],
   "source": [
    "num_samples_2 = [8, 4]"
   ]
  },
  {
   "cell_type": "code",
   "execution_count": 84,
   "metadata": {},
   "outputs": [],
   "source": [
    "hinsage_layer_sizes_2 = [52, 52]\n",
    "assert len(hinsage_layer_sizes_2) == len(num_samples_2)\n",
    "\n",
    "hinsage_2 = HinSAGE(\n",
    "    layer_sizes=hinsage_layer_sizes_2, generator=generator, bias=True, dropout=0.0\n",
    ")"
   ]
  },
  {
   "cell_type": "code",
   "execution_count": 87,
   "metadata": {},
   "outputs": [],
   "source": [
    "x_inp_2, x_out_2 = hinsage_2.in_out_tensors()"
   ]
  },
  {
   "cell_type": "code",
   "execution_count": 88,
   "metadata": {},
   "outputs": [
    {
     "name": "stdout",
     "output_type": "stream",
     "text": [
      "link_regression: using 'concat' method to combine node embeddings into edge embeddings\n"
     ]
    }
   ],
   "source": [
    "score_prediction_2 = link_regression(edge_embedding_method=\"concat\")(x_out_2)"
   ]
  },
  {
   "cell_type": "code",
   "execution_count": 98,
   "metadata": {},
   "outputs": [],
   "source": [
    "model_2 = Model(inputs=x_inp_2, outputs=score_prediction_2)\n",
    "model_2.compile(\n",
    "    optimizer=optimizers.Adam(lr=1e-2),\n",
    "    loss=losses.mean_squared_error,\n",
    "    metrics=[root_mean_square_error, metrics.mae],\n",
    ")"
   ]
  },
  {
   "cell_type": "code",
   "execution_count": 99,
   "metadata": {},
   "outputs": [
    {
     "name": "stdout",
     "output_type": "stream",
     "text": [
      "Model: \"model_9\"\n",
      "__________________________________________________________________________________________________\n",
      "Layer (type)                    Output Shape         Param #     Connected to                     \n",
      "==================================================================================================\n",
      "input_15 (InputLayer)           [(None, 8, 2)]       0                                            \n",
      "__________________________________________________________________________________________________\n",
      "input_17 (InputLayer)           [(None, 32, 2)]      0                                            \n",
      "__________________________________________________________________________________________________\n",
      "input_18 (InputLayer)           [(None, 32, 2)]      0                                            \n",
      "__________________________________________________________________________________________________\n",
      "input_13 (InputLayer)           [(None, 1, 2)]       0                                            \n",
      "__________________________________________________________________________________________________\n",
      "reshape_18 (Reshape)            (None, 1, 8, 2)      0           input_15[0][0]                   \n",
      "__________________________________________________________________________________________________\n",
      "reshape_20 (Reshape)            (None, 8, 4, 2)      0           input_17[0][0]                   \n",
      "__________________________________________________________________________________________________\n",
      "input_16 (InputLayer)           [(None, 8, 2)]       0                                            \n",
      "__________________________________________________________________________________________________\n",
      "reshape_21 (Reshape)            (None, 8, 4, 2)      0           input_18[0][0]                   \n",
      "__________________________________________________________________________________________________\n",
      "dropout_25 (Dropout)            (None, 1, 2)         0           input_13[0][0]                   \n",
      "__________________________________________________________________________________________________\n",
      "dropout_24 (Dropout)            (None, 1, 8, 2)      0           reshape_18[0][0]                 \n",
      "__________________________________________________________________________________________________\n",
      "dropout_29 (Dropout)            (None, 8, 2)         0           input_15[0][0]                   \n",
      "__________________________________________________________________________________________________\n",
      "dropout_28 (Dropout)            (None, 8, 4, 2)      0           reshape_20[0][0]                 \n",
      "__________________________________________________________________________________________________\n",
      "input_14 (InputLayer)           [(None, 1, 2)]       0                                            \n",
      "__________________________________________________________________________________________________\n",
      "reshape_19 (Reshape)            (None, 1, 8, 2)      0           input_16[0][0]                   \n",
      "__________________________________________________________________________________________________\n",
      "dropout_31 (Dropout)            (None, 8, 2)         0           input_16[0][0]                   \n",
      "__________________________________________________________________________________________________\n",
      "dropout_30 (Dropout)            (None, 8, 4, 2)      0           reshape_21[0][0]                 \n",
      "__________________________________________________________________________________________________\n",
      "mean_hin_aggregator_12 (MeanHin multiple             156         dropout_25[0][0]                 \n",
      "                                                                 dropout_24[0][0]                 \n",
      "                                                                 dropout_31[0][0]                 \n",
      "                                                                 dropout_30[0][0]                 \n",
      "__________________________________________________________________________________________________\n",
      "mean_hin_aggregator_13 (MeanHin multiple             156         dropout_27[0][0]                 \n",
      "                                                                 dropout_26[0][0]                 \n",
      "                                                                 dropout_29[0][0]                 \n",
      "                                                                 dropout_28[0][0]                 \n",
      "__________________________________________________________________________________________________\n",
      "dropout_27 (Dropout)            (None, 1, 2)         0           input_14[0][0]                   \n",
      "__________________________________________________________________________________________________\n",
      "dropout_26 (Dropout)            (None, 1, 8, 2)      0           reshape_19[0][0]                 \n",
      "__________________________________________________________________________________________________\n",
      "reshape_22 (Reshape)            (None, 1, 8, 52)     0           mean_hin_aggregator_13[3][0]     \n",
      "__________________________________________________________________________________________________\n",
      "reshape_23 (Reshape)            (None, 1, 8, 52)     0           mean_hin_aggregator_12[3][0]     \n",
      "__________________________________________________________________________________________________\n",
      "dropout_33 (Dropout)            (None, 1, 52)        0           mean_hin_aggregator_12[2][0]     \n",
      "__________________________________________________________________________________________________\n",
      "dropout_32 (Dropout)            (None, 1, 8, 52)     0           reshape_22[0][0]                 \n",
      "__________________________________________________________________________________________________\n",
      "dropout_35 (Dropout)            (None, 1, 52)        0           mean_hin_aggregator_13[2][0]     \n",
      "__________________________________________________________________________________________________\n",
      "dropout_34 (Dropout)            (None, 1, 8, 52)     0           reshape_23[0][0]                 \n",
      "__________________________________________________________________________________________________\n",
      "mean_hin_aggregator_14 (MeanHin (None, 1, 52)        2756        dropout_33[0][0]                 \n",
      "                                                                 dropout_32[0][0]                 \n",
      "__________________________________________________________________________________________________\n",
      "mean_hin_aggregator_15 (MeanHin (None, 1, 52)        2756        dropout_35[0][0]                 \n",
      "                                                                 dropout_34[0][0]                 \n",
      "__________________________________________________________________________________________________\n",
      "reshape_24 (Reshape)            (None, 52)           0           mean_hin_aggregator_14[1][0]     \n",
      "__________________________________________________________________________________________________\n",
      "reshape_25 (Reshape)            (None, 52)           0           mean_hin_aggregator_15[1][0]     \n",
      "__________________________________________________________________________________________________\n",
      "lambda_3 (Lambda)               (None, 52)           0           reshape_24[0][0]                 \n",
      "                                                                 reshape_25[0][0]                 \n",
      "__________________________________________________________________________________________________\n",
      "link_embedding_2 (LinkEmbedding (None, 104)          0           lambda_3[2][0]                   \n",
      "                                                                 lambda_3[3][0]                   \n",
      "__________________________________________________________________________________________________\n",
      "dense_2 (Dense)                 (None, 1)            105         link_embedding_2[0][0]           \n",
      "__________________________________________________________________________________________________\n",
      "reshape_26 (Reshape)            (None, 1)            0           dense_2[0][0]                    \n",
      "==================================================================================================\n",
      "Total params: 5,929\n",
      "Trainable params: 5,929\n",
      "Non-trainable params: 0\n",
      "__________________________________________________________________________________________________\n"
     ]
    }
   ],
   "source": [
    "model_2.summary()"
   ]
  },
  {
   "cell_type": "code",
   "execution_count": 100,
   "metadata": {},
   "outputs": [],
   "source": [
    "num_workers = 4"
   ]
  },
  {
   "cell_type": "code",
   "execution_count": 108,
   "metadata": {},
   "outputs": [
    {
     "name": "stdout",
     "output_type": "stream",
     "text": [
      "59/59 [==============================] - 5s 73ms/step - loss: 1.6912 - root_mean_square_error: 1.2997 - mean_absolute_error: 1.0607\n",
      "Untrained model's Test Evaluation:\n",
      "\tloss: 1.6912\n",
      "\troot_mean_square_error: 1.2997\n",
      "\tmean_absolute_error: 1.0607\n"
     ]
    }
   ],
   "source": [
    "test_metrics_2 = model_2.evaluate(\n",
    "    test_gen, verbose=1, use_multiprocessing=False, workers=num_workers\n",
    ")\n",
    "\n",
    "print(\"Untrained model's Test Evaluation:\")\n",
    "for name, val in zip(model_2.metrics_names, test_metrics_2):\n",
    "    print(\"\\t{}: {:0.4f}\".format(name, val))"
   ]
  },
  {
   "cell_type": "code",
   "execution_count": 109,
   "metadata": {},
   "outputs": [
    {
     "name": "stdout",
     "output_type": "stream",
     "text": [
      "Epoch 1/20\n",
      "137/137 [==============================] - 16s 118ms/step - loss: 1.6888 - root_mean_square_error: 1.2983 - mean_absolute_error: 1.0649 - val_loss: 1.6857 - val_root_mean_square_error: 1.2975 - val_mean_absolute_error: 1.0608- mean_absolute_e - ETA: 5s - loss: 1.6818 - root_mean_square_error: 1.2957 - mean_absolute_e - ETA: 4s - loss: 1.6793 - root_mean_square_error: 1.2946 - mean_absolute_error: 1.06 - ETA: 4s - loss: 1.6793 - root_mean_square_err - ETA: 2s - loss: 1.6874 - root_mean_square_error: 1.2977 - mean_absolute_error: 1. - ETA: 2s - loss: 1.6901 - root_mean_square_error: 1.2988 -\n",
      "Epoch 2/20\n",
      "137/137 [==============================] - 14s 103ms/step - loss: 1.6886 - root_mean_square_error: 1.2980 - mean_absolute_error: 1.0620 - val_loss: 1.7278 - val_root_mean_square_error: 1.3139 - val_mean_absolute_error: 1.1214\n",
      "Epoch 3/20\n",
      "137/137 [==============================] - 17s 121ms/step - loss: 1.7081 - root_mean_square_error: 1.3056 - mean_absolute_error: 1.0739 - val_loss: 1.7250 - val_root_mean_square_error: 1.3125 - val_mean_absolute_error: 1.0946loss: 1.8169 - root_mean_square_error: 1.3458 - ETA: 8s - loss: 1.7419 - root_mean_square_error: 1.3179 - mean_absolute_e - ETA: 7s - loss: 1.7240 - root_mean_square_error: 1.3112 - mean_absolute_err - ETA: 7s - loss: 1.7216 - root_mean_square_error: 1. - ETA: 4s - loss: 1.7062 - root_mean_square_error: 1.3046 - mean_absolute - ETA: 4s - loss: 1.7044  - ETA: 1s - loss: 1.7077 - root_mean_square_error: 1.3053 - mean_absolute_error: 1. - ETA: 1s - loss: 1.7054 - root_mean_square_error: 1.3045 - mean_absolute_error - ETA: 1s - loss: 1.7084 - root_mean_square_error: 1.3057 - mean_absolute\n",
      "Epoch 4/20\n",
      "137/137 [==============================] - 15s 108ms/step - loss: 1.7003 - root_mean_square_error: 1.3027 - mean_absolute_error: 1.0703 - val_loss: 1.6879 - val_root_mean_square_error: 1.2984 - val_mean_absolute_error: 1.0585\n",
      "Epoch 5/20\n",
      "137/137 [==============================] - 15s 106ms/step - loss: 1.6836 - root_mean_square_error: 1.2962 - mean_absolute_error: 1.0607 - val_loss: 1.7037 - val_root_mean_square_error: 1.3044 - val_mean_absolute_error: 1.0832: 5s - loss: 1.6856 - root_mean_square_error - ETA: 3s - loss: 1.6775 - root_mean_square_error: 1.2938 - - ETA: 1s - loss: 1.6811 - root_mean_square_error: 1.2952 - mean_absolu\n",
      "Epoch 6/20\n",
      "137/137 [==============================] - 14s 99ms/step - loss: 1.6848 - root_mean_square_error: 1.2967 - mean_absolute_error: 1.0625 - val_loss: 1.6859 - val_root_mean_square_error: 1.2977 - val_mean_absolute_error: 1.0663\n",
      "Epoch 7/20\n",
      "137/137 [==============================] - 14s 99ms/step - loss: 1.6839 - root_mean_square_error: 1.2964 - mean_absolute_error: 1.0625 - val_loss: 1.6874 - val_root_mean_square_error: 1.2982 - val_mean_absolute_error: 1.0563\n",
      "Epoch 8/20\n",
      "137/137 [==============================] - 16s 117ms/step - loss: 1.6818 - root_mean_square_error: 1.2952 - mean_absolute_error: 1.0584 - val_loss: 1.7223 - val_root_mean_square_error: 1.3116 - val_mean_absolute_error: 1.1100\n",
      "Epoch 9/20\n",
      "137/137 [==============================] - 19s 135ms/step - loss: 1.6915 - root_mean_square_error: 1.2993 - mean_absolute_error: 1.0669 - val_loss: 1.7251 - val_root_mean_square_error: 1.3129 - val_mean_absolute_error: 1.1214- loss: 1.6806 - root_mean_square_error: 1.2953 - mean_absolute_error: 1.066 - ETA: 10s - loss: 1.6692 - root_mean_square_error: 1.2907 - mean_absolute - ETA: 8s - loss: 1.6836 - root_mean_square_e - ETA: 6s - loss: 1.6744 - root_mean_square_error: 1.29 - ETA: 4s - loss: 1.6794 - root_mean_squa - ETA: 1s - loss: 1.6832 - root_mean_square_error: 1.2962 - mean_ab\n",
      "Epoch 10/20\n",
      "137/137 [==============================] - 15s 108ms/step - loss: 1.6849 - root_mean_square_error: 1.2965 - mean_absolute_error: 1.0622 - val_loss: 1.6991 - val_root_mean_square_error: 1.3029 - val_mean_absolute_error: 1.0919absolute - ETA: 5s - loss: 1.6503 - root_mean_square_error: 1.2832 - mean_absolute_error - ETA: 5s - loss: 1.6523 - root_mean_square_error: 1.2839 - mean_absolute_error: 1. - ETA: 5s - loss: 1.6589 - root_mean_square_error: 1.2863 - mean_absolute_error: 1. - ETA: 5s - loss: 1.6608 - root_mean_square_error: 1.2870 - mean_absolute_error: 1. - ETA: 5s - loss: 1.6580 - root_mean_square_err - ETA: 3s - loss: 1.6642 - root_m\n",
      "Epoch 11/20\n",
      "137/137 [==============================] - 15s 107ms/step - loss: 1.6860 - root_mean_square_error: 1.2970 - mean_absolute_error: 1.0626 - val_loss: 1.6886 - val_root_mean_square_error: 1.2986 - val_mean_absolute_error: 1.053181 - root_mean_square_error: 1.2979 - mean_absolute_error: 1.06 - ETA: 2s - loss: 1.6881 - root_mean_square_error: 1.2980 - mean_absolute_error: 1.06 - ETA: 2s - loss: 1.6880 - root_mean_sq\n",
      "Epoch 12/20\n",
      "137/137 [==============================] - 21s 152ms/step - loss: 1.6844 - root_mean_square_error: 1.2967 - mean_absolute_error: 1.0614 - val_loss: 1.7143 - val_root_mean_square_error: 1.3087 - val_mean_absolute_error: 1.1108loss: 1.6726 - root_mean_square_error: 1.2923 - mean_absolute_er - ETA: 12s - loss: 1.6731 - root_mean_square_error: 1.2926 - mean_absolute_error: 1.0 - ETA: 10s - loss: 1.6772 - root_mean_square_error: 1.2943 - mean_a - ETA: 8s - loss: 1.6752 - root_mean_square_error: 1.2933 - mean_absolute - ETA: 7s - loss: 1.6758 - root_mean_square_error: 1.2936 - mean_absolute_error:  - ETA: 7s - loss: 1.6699 - root_mean_square_error: 1.2913 - mean_absolute_err - ETA: 6s - loss: 1.6735 - root_mean_square_error: 1.2927 - mean_\n",
      "Epoch 13/20\n",
      "137/137 [==============================] - 16s 116ms/step - loss: 1.6904 - root_mean_square_error: 1.2990 - mean_absolute_error: 1.0656 - val_loss: 1.7006 - val_root_mean_square_error: 1.3033 - val_mean_absolute_error: 1.0558s: 1.6998 - root_mean_square_error: 1.3024 - mean_absolute_e - ETA: 3s - loss: 1.6980 - root_m\n",
      "Epoch 14/20\n",
      "137/137 [==============================] - 16s 111ms/step - loss: 1.6914 - root_mean_square_error: 1.2992 - mean_absolute_error: 1.0653 - val_loss: 1.6878 - val_root_mean_square_error: 1.2984 - val_mean_absolute_error: 1.0569\n",
      "Epoch 15/20\n",
      "137/137 [==============================] - 15s 105ms/step - loss: 1.6810 - root_mean_square_error: 1.2953 - mean_absolute_error: 1.0596 - val_loss: 1.6850 - val_root_mean_square_error: 1.2973 - val_mean_absolute_error: 1.060015 - root_mean_square_error - ETA: 6s - loss: 1.6729 - root_mean_square_err - ETA: 5s - loss: 1.6891 - root_mean_square_error: 1.2983 - mean_absolute_error: 1.06 - ETA: 5s - loss: 1.6899 - root_mean_square_error: 1.2986 - m - ETA: 3s - loss: 1.6814 - root_mean_square_error: 1.2954 - mean_ab - ETA: 3s - loss: 1.6780 - root_m\n",
      "Epoch 16/20\n",
      "137/137 [==============================] - 14s 100ms/step - loss: 1.6820 - root_mean_square_error: 1.2955 - mean_absolute_error: 1.0607 - val_loss: 1.7016 - val_root_mean_square_error: 1.3036 - val_mean_absolute_error: 1.0511\n",
      "Epoch 17/20\n",
      "137/137 [==============================] - 16s 114ms/step - loss: 1.6846 - root_mean_square_error: 1.2966 - mean_absolute_error: 1.0618 - val_loss: 1.6901 - val_root_mean_square_error: 1.2992 - val_mean_absolute_error: 1.0514loss:\n",
      "Epoch 18/20\n",
      "137/137 [==============================] - 14s 101ms/step - loss: 1.6876 - root_mean_square_error: 1.2977 - mean_absolute_error: 1.0629 - val_loss: 1.6960 - val_root_mean_square_error: 1.3017 - val_mean_absolute_error: 1.0904\n",
      "Epoch 19/20\n",
      "137/137 [==============================] - 16s 115ms/step - loss: 1.6838 - root_mean_square_error: 1.2962 - mean_absolute_error: 1.0628 - val_loss: 1.6884 - val_root_mean_square_error: 1.2986 - val_mean_absolute_error: 1.0525an_absolute_error - ETA: 3s - loss: 1.6752 - root_mean_\n",
      "Epoch 20/20\n",
      "137/137 [==============================] - 15s 104ms/step - loss: 1.6879 - root_mean_square_error: 1.2979 - mean_absolute_error: 1.0631 - val_loss: 1.7111 - val_root_mean_square_error: 1.3073 - val_mean_absolute_error: 1.0553\n"
     ]
    }
   ],
   "source": [
    "history_2 = model_2.fit(\n",
    "    train_gen,\n",
    "    validation_data=test_gen,\n",
    "    epochs=epochs,\n",
    "    verbose=1,\n",
    "    shuffle=False,\n",
    "    use_multiprocessing=False,\n",
    "    workers=num_workers,\n",
    ")"
   ]
  },
  {
   "cell_type": "code",
   "execution_count": 110,
   "metadata": {},
   "outputs": [
    {
     "data": {
      "image/png": "[encoded data removed]",
      "text/plain": [
       "<Figure size 504x864 with 3 Axes>"
      ]
     },
     "metadata": {
      "needs_background": "light"
     },
     "output_type": "display_data"
    }
   ],
   "source": [
    "sg.utils.plot_history(history_2)"
   ]
  },
  {
   "cell_type": "code",
   "execution_count": 111,
   "metadata": {},
   "outputs": [
    {
     "name": "stdout",
     "output_type": "stream",
     "text": [
      "59/59 [==============================] - 4s 62ms/step - loss: 1.7106 - root_mean_square_error: 1.3071 - mean_absolute_error: 1.0548 4s - loss: 1.7112 - root_mean_square_error: 1.3077 - mean_ab - ETA: 2s - loss: 1.6866 - root_mean_square_error: 1.29\n",
      "Test Evaluation:\n",
      "\tloss: 1.7106\n",
      "\troot_mean_square_error: 1.3071\n",
      "\tmean_absolute_error: 1.0548\n"
     ]
    }
   ],
   "source": [
    "test_metrics_2 = model_2.evaluate(\n",
    "    test_gen, use_multiprocessing=False, workers=num_workers, verbose=1\n",
    ")\n",
    "\n",
    "print(\"Test Evaluation:\")\n",
    "for name, val in zip(model_2.metrics_names, test_metrics_2):\n",
    "    print(\"\\t{}: {:0.4f}\".format(name, val))"
   ]
  },
  {
   "cell_type": "code",
   "execution_count": 197,
   "metadata": {},
   "outputs": [
    {
     "name": "stdout",
     "output_type": "stream",
     "text": [
      "Mean Baseline Test set metrics:\n",
      "\troot_mean_square_error =  1.463703040241648\n",
      "\tmean_absolute_error =  1.2744868861169023\n",
      "\n",
      "Model Test set metrics:\n",
      "\troot_mean_square_error =  1.3078420150094225\n",
      "\tmean_absolute_error =  1.055087144909675\n"
     ]
    }
   ],
   "source": [
    "y_true = labels_test\n",
    "# Predict the rankings using the model:\n",
    "y_pred = model_2.predict(test_gen)\n",
    "# Mean baseline rankings = mean movie ranking:\n",
    "y_pred_baseline = np.full_like(y_pred, np.mean(y_true))\n",
    "\n",
    "rmse = np.sqrt(mean_squared_error(y_true, y_pred_baseline))\n",
    "mae = mean_absolute_error(y_true, y_pred_baseline)\n",
    "print(\"Mean Baseline Test set metrics:\")\n",
    "print(\"\\troot_mean_square_error = \", rmse)\n",
    "print(\"\\tmean_absolute_error = \", mae)\n",
    "\n",
    "rmse = np.sqrt(mean_squared_error(y_true, y_pred))\n",
    "mae = mean_absolute_error(y_true, y_pred)\n",
    "print(\"\\nModel Test set metrics:\")\n",
    "print(\"\\troot_mean_square_error = \", rmse)\n",
    "print(\"\\tmean_absolute_error = \", mae)"
   ]
  },
  {
   "cell_type": "code",
   "execution_count": 198,
   "metadata": {},
   "outputs": [
    {
     "data": {
      "image/png": "[encoded data removed]",
      "text/plain": [
       "<Figure size 432x288 with 1 Axes>"
      ]
     },
     "metadata": {
      "needs_background": "light"
     },
     "output_type": "display_data"
    }
   ],
   "source": [
    "h_true = plt.hist(y_true, bins=30, facecolor=\"green\", alpha=0.5)\n",
    "h_pred = plt.hist(y_pred, bins=30, facecolor=\"blue\", alpha=0.5)\n",
    "plt.xlabel(\"ranking\")\n",
    "plt.ylabel(\"count\")\n",
    "plt.legend((\"True\", \"Predicted\"))\n",
    "plt.show()"
   ]
  },
  {
   "cell_type": "code",
   "execution_count": null,
   "metadata": {},
   "outputs": [],
   "source": []
  },
  {
   "cell_type": "code",
   "execution_count": null,
   "metadata": {},
   "outputs": [],
   "source": [
    "# Case 2\n",
    "\n",
    "#Case 1\n",
    "#1 increase epochs\n",
    "#2 change dropout rate\n",
    "#3 change num_samples,hidden layer sizer(layer_sizes)"
   ]
  },
  {
   "cell_type": "code",
   "execution_count": 164,
   "metadata": {},
   "outputs": [],
   "source": [
    "epochs_3 = 30"
   ]
  },
  {
   "cell_type": "code",
   "execution_count": 165,
   "metadata": {},
   "outputs": [],
   "source": [
    "num_samples_3 = [12, 8]"
   ]
  },
  {
   "cell_type": "code",
   "execution_count": 177,
   "metadata": {},
   "outputs": [],
   "source": [
    "generator_3 = HinSAGELinkGenerator(\n",
    "    G, batch_size, num_samples_3, head_node_types=[\"business\", \"user\"]\n",
    ")\n",
    "train_gen_3 = generator_3.flow(edgelist_train, labels_train, shuffle=True)\n",
    "test_gen_3 = generator_3.flow(edgelist_test, labels_test)"
   ]
  },
  {
   "cell_type": "code",
   "execution_count": 178,
   "metadata": {},
   "outputs": [
    {
     "data": {
      "text/plain": [
       "[('business', [2]),\n",
       " ('user', [3]),\n",
       " ('user', [4]),\n",
       " ('business', [5]),\n",
       " ('business', []),\n",
       " ('user', [])]"
      ]
     },
     "execution_count": 178,
     "metadata": {},
     "output_type": "execute_result"
    }
   ],
   "source": [
    "generator_3.schema.type_adjacency_list(generator_3.head_node_types, len(num_samples_3))"
   ]
  },
  {
   "cell_type": "code",
   "execution_count": 179,
   "metadata": {},
   "outputs": [
    {
     "data": {
      "text/plain": [
       "{'user': [EdgeType(n1='user', rel='default', n2='business')],\n",
       " 'business': [EdgeType(n1='business', rel='default', n2='user')]}"
      ]
     },
     "execution_count": 179,
     "metadata": {},
     "output_type": "execute_result"
    }
   ],
   "source": [
    "generator_3.schema.schema"
   ]
  },
  {
   "cell_type": "code",
   "execution_count": 180,
   "metadata": {},
   "outputs": [],
   "source": [
    "hinsage_layer_sizes_3 = [52, 52]\n",
    "assert len(hinsage_layer_sizes_3) == len(num_samples_3)\n",
    "\n",
    "hinsage_3 = HinSAGE(\n",
    "    layer_sizes=hinsage_layer_sizes_3, generator=generator_3, bias=True, dropout=0.2\n",
    ")"
   ]
  },
  {
   "cell_type": "code",
   "execution_count": 181,
   "metadata": {},
   "outputs": [],
   "source": [
    "x_inp_3, x_out_3 = hinsage_3.in_out_tensors()"
   ]
  },
  {
   "cell_type": "code",
   "execution_count": 182,
   "metadata": {},
   "outputs": [
    {
     "name": "stdout",
     "output_type": "stream",
     "text": [
      "link_regression: using 'concat' method to combine node embeddings into edge embeddings\n"
     ]
    }
   ],
   "source": [
    "score_prediction_3 = link_regression(edge_embedding_method=\"concat\")(x_out_3)"
   ]
  },
  {
   "cell_type": "code",
   "execution_count": 183,
   "metadata": {},
   "outputs": [],
   "source": [
    "model_3 = Model(inputs=x_inp_3, outputs=score_prediction_3)\n",
    "model_3.compile(\n",
    "    optimizer=optimizers.Adam(lr=1e-2),\n",
    "    loss=losses.mean_squared_error,\n",
    "    metrics=[root_mean_square_error, metrics.mae],\n",
    ")"
   ]
  },
  {
   "cell_type": "code",
   "execution_count": 184,
   "metadata": {},
   "outputs": [
    {
     "name": "stdout",
     "output_type": "stream",
     "text": [
      "Model: \"model_15\"\n",
      "__________________________________________________________________________________________________\n",
      "Layer (type)                    Output Shape         Param #     Connected to                     \n",
      "==================================================================================================\n",
      "input_51 (InputLayer)           [(None, 12, 2)]      0                                            \n",
      "__________________________________________________________________________________________________\n",
      "input_53 (InputLayer)           [(None, 96, 2)]      0                                            \n",
      "__________________________________________________________________________________________________\n",
      "input_54 (InputLayer)           [(None, 96, 2)]      0                                            \n",
      "__________________________________________________________________________________________________\n",
      "input_49 (InputLayer)           [(None, 1, 2)]       0                                            \n",
      "__________________________________________________________________________________________________\n",
      "reshape_72 (Reshape)            (None, 1, 12, 2)     0           input_51[0][0]                   \n",
      "__________________________________________________________________________________________________\n",
      "reshape_74 (Reshape)            (None, 12, 8, 2)     0           input_53[0][0]                   \n",
      "__________________________________________________________________________________________________\n",
      "input_52 (InputLayer)           [(None, 12, 2)]      0                                            \n",
      "__________________________________________________________________________________________________\n",
      "reshape_75 (Reshape)            (None, 12, 8, 2)     0           input_54[0][0]                   \n",
      "__________________________________________________________________________________________________\n",
      "dropout_97 (Dropout)            (None, 1, 2)         0           input_49[0][0]                   \n",
      "__________________________________________________________________________________________________\n",
      "dropout_96 (Dropout)            (None, 1, 12, 2)     0           reshape_72[0][0]                 \n",
      "__________________________________________________________________________________________________\n",
      "dropout_101 (Dropout)           (None, 12, 2)        0           input_51[0][0]                   \n",
      "__________________________________________________________________________________________________\n",
      "dropout_100 (Dropout)           (None, 12, 8, 2)     0           reshape_74[0][0]                 \n",
      "__________________________________________________________________________________________________\n",
      "input_50 (InputLayer)           [(None, 1, 2)]       0                                            \n",
      "__________________________________________________________________________________________________\n",
      "reshape_73 (Reshape)            (None, 1, 12, 2)     0           input_52[0][0]                   \n",
      "__________________________________________________________________________________________________\n",
      "dropout_103 (Dropout)           (None, 12, 2)        0           input_52[0][0]                   \n",
      "__________________________________________________________________________________________________\n",
      "dropout_102 (Dropout)           (None, 12, 8, 2)     0           reshape_75[0][0]                 \n",
      "__________________________________________________________________________________________________\n",
      "mean_hin_aggregator_36 (MeanHin multiple             156         dropout_97[0][0]                 \n",
      "                                                                 dropout_96[0][0]                 \n",
      "                                                                 dropout_103[0][0]                \n",
      "                                                                 dropout_102[0][0]                \n",
      "__________________________________________________________________________________________________\n",
      "mean_hin_aggregator_37 (MeanHin multiple             156         dropout_99[0][0]                 \n",
      "                                                                 dropout_98[0][0]                 \n",
      "                                                                 dropout_101[0][0]                \n",
      "                                                                 dropout_100[0][0]                \n",
      "__________________________________________________________________________________________________\n",
      "dropout_99 (Dropout)            (None, 1, 2)         0           input_50[0][0]                   \n",
      "__________________________________________________________________________________________________\n",
      "dropout_98 (Dropout)            (None, 1, 12, 2)     0           reshape_73[0][0]                 \n",
      "__________________________________________________________________________________________________\n",
      "reshape_76 (Reshape)            (None, 1, 12, 52)    0           mean_hin_aggregator_37[1][0]     \n",
      "__________________________________________________________________________________________________\n",
      "reshape_77 (Reshape)            (None, 1, 12, 52)    0           mean_hin_aggregator_36[1][0]     \n",
      "__________________________________________________________________________________________________\n",
      "dropout_105 (Dropout)           (None, 1, 52)        0           mean_hin_aggregator_36[0][0]     \n",
      "__________________________________________________________________________________________________\n",
      "dropout_104 (Dropout)           (None, 1, 12, 52)    0           reshape_76[0][0]                 \n",
      "__________________________________________________________________________________________________\n",
      "dropout_107 (Dropout)           (None, 1, 52)        0           mean_hin_aggregator_37[0][0]     \n",
      "__________________________________________________________________________________________________\n",
      "dropout_106 (Dropout)           (None, 1, 12, 52)    0           reshape_77[0][0]                 \n",
      "__________________________________________________________________________________________________\n",
      "mean_hin_aggregator_38 (MeanHin (None, 1, 52)        2756        dropout_105[0][0]                \n",
      "                                                                 dropout_104[0][0]                \n",
      "__________________________________________________________________________________________________\n",
      "mean_hin_aggregator_39 (MeanHin (None, 1, 52)        2756        dropout_107[0][0]                \n",
      "                                                                 dropout_106[0][0]                \n",
      "__________________________________________________________________________________________________\n",
      "reshape_78 (Reshape)            (None, 52)           0           mean_hin_aggregator_38[0][0]     \n",
      "__________________________________________________________________________________________________\n",
      "reshape_79 (Reshape)            (None, 52)           0           mean_hin_aggregator_39[0][0]     \n",
      "__________________________________________________________________________________________________\n",
      "lambda_9 (Lambda)               (None, 52)           0           reshape_78[0][0]                 \n",
      "                                                                 reshape_79[0][0]                 \n",
      "__________________________________________________________________________________________________\n",
      "link_embedding_8 (LinkEmbedding (None, 104)          0           lambda_9[0][0]                   \n",
      "                                                                 lambda_9[1][0]                   \n",
      "__________________________________________________________________________________________________\n",
      "dense_8 (Dense)                 (None, 1)            105         link_embedding_8[0][0]           \n",
      "__________________________________________________________________________________________________\n",
      "reshape_80 (Reshape)            (None, 1)            0           dense_8[0][0]                    \n",
      "==================================================================================================\n",
      "Total params: 5,929\n",
      "Trainable params: 5,929\n",
      "Non-trainable params: 0\n",
      "__________________________________________________________________________________________________\n"
     ]
    }
   ],
   "source": [
    "model_3.summary()"
   ]
  },
  {
   "cell_type": "code",
   "execution_count": 185,
   "metadata": {},
   "outputs": [],
   "source": [
    "num_workers_3 = 4"
   ]
  },
  {
   "cell_type": "code",
   "execution_count": 187,
   "metadata": {},
   "outputs": [
    {
     "name": "stdout",
     "output_type": "stream",
     "text": [
      "59/59 [==============================] - 13s 181ms/step - loss: 15.1598 - root_mean_square_error: 3.8915 - mean_absolute_error: 3.60639s - loss: 15.2225 - root_mean_square_error: 3.9006 -  - ETA: 3s - loss: 15.1778 - root_mean_square_error: 3.8948 - mean_absolute_error\n",
      "Untrained model's Test Evaluation:\n",
      "\tloss: 15.1598\n",
      "\troot_mean_square_error: 3.8915\n",
      "\tmean_absolute_error: 3.6063\n"
     ]
    }
   ],
   "source": [
    "test_metrics_3 = model_3.evaluate(\n",
    "    test_gen_3, verbose=1, use_multiprocessing=False, workers=num_workers\n",
    ")\n",
    "\n",
    "print(\"Untrained model's Test Evaluation:\")\n",
    "for name, val in zip(model_3.metrics_names, test_metrics_3):\n",
    "    print(\"\\t{}: {:0.4f}\".format(name, val))"
   ]
  },
  {
   "cell_type": "code",
   "execution_count": 191,
   "metadata": {},
   "outputs": [
    {
     "name": "stdout",
     "output_type": "stream",
     "text": [
      "Epoch 1/30\n",
      "137/137 [==============================] - 47s 339ms/step - loss: 1.7917 - root_mean_square_error: 1.3374 - mean_absolute_error: 1.1131 - val_loss: 1.7871 - val_root_mean_square_error: 1.3364 - val_mean_absolute_error: 1.1456: 1.7685 - root_mean_square_error: 1.3284 - mean_abso - ETA: 28s - loss: 1.7721 - root_mean_square_error: 1.3298 - mean_absolute_error - ETA: 26s - loss: 1.7534 - root_mean_square_error: 1.3228 - mean_absolute_er - ETA: 22s - loss: 1.7670 - root_mean_square_error: 1.3279 - mean_absolute_e - ETA: 18s - loss: 1.7828 - root_mean_square_error: 1.3338 - mean_abso - ETA: 13s - loss: 1.7944 - root_mean_square_error - ETA: 7s - loss: 1.7866 - root_mean_square_error:  - ETA: 3s - loss: 1.7910 - root_mean_square_error: 1.3371 - mean_absolute_error:  - ETA: 2s - loss: 1.7921 - root_mean_square_error: 1.3375 - mean_absolute_error\n",
      "Epoch 2/30\n",
      "137/137 [==============================] - 50s 357ms/step - loss: 1.7811 - root_mean_square_error: 1.3333 - mean_absolute_error: 1.1085 - val_loss: 1.8211 - val_root_mean_square_error: 1.3492 - val_mean_absolute_error: 1.1771- loss: 1.8939 - root_mean_square_error: 1.3749 - mean_absolute_error - ETA: 32s - loss: 1.8903 - root_mean_square_error: 1 - ETA: 20s - loss: 1.7881 - root_mean_square_error: 1.3357 - mean_absolute_error - ETA: 18s - loss: 1.7817 - root_mean_square_error: 1.3333 - mean_absolute - ETA: 15s - loss: 1.7786 - root_mean_square_error: 1.3321 - mean_abs - ETA: 10s - loss: 1.7761 - root_mean_squar - ETA: 4s - loss: 1.7833 - root_mean_square_error: 1.3340 - mean_\n",
      "Epoch 3/30\n",
      "137/137 [==============================] - 51s 370ms/step - loss: 1.7573 - root_mean_square_error: 1.3243 - mean_absolute_error: 1.0984 - val_loss: 1.8516 - val_root_mean_square_error: 1.3602 - val_mean_absolute_error: 1.1850 - loss: 1.7826 - root_mean_square_error: 1.3340 - mean_absolute_error: 1 - ETA: 37s - loss: 1.7598 - root_mean_square_error: 1.3255 - mean_absolute_error: 1. - ETA: 33s - loss: 1.7528 - root_mean_square_error: 1.3228 - mean_absolut - ETA: 27s - loss: 1.7730 - root_mean_square_error: 1.3304 - mean_absolute_error: 1.1 - ETA: 26s - loss: 1.7835 - root_mean_square_error: 1.3342 - mean_absolute_error - ETA: 23s - loss: 1.7764 - root_mean_square_error: 1.3 - ETA: 14s - loss: 1.7723 - root_mean_square_error: 1.3299 - mean_absolute_erro - ETA: 12s - loss: 1.7755 - root_mean_square_error: 1.3311 - mean_absolute_error: 1. - ETA: 11s - loss: 1.7763 - root_mean_square_error: 1.3314 - mean_absol - ETA: 8s - loss: 1.7688 - root_mean_square_error: 1.3286 - mean_absolute - ETA: 6s - loss: 1.7612 - root_mean_square_error: 1. - ETA: 1s - loss: 1.7591 - root_mean_square_error: 1.3250 - mean_absolute_error\n",
      "Epoch 4/30\n",
      "137/137 [==============================] - 53s 380ms/step - loss: 1.7705 - root_mean_square_error: 1.3291 - mean_absolute_error: 1.1030 - val_loss: 1.8798 - val_root_mean_square_error: 1.3707 - val_mean_absolute_error: 1.2081oss: 1.8818 - root_mean_square_error: 1.3697 - mean_absolute_error: 1.13 - ETA: 34s - loss: 1.8611 - root_mean_square_error: 1.3622 - mean_absolute_ - ETA: 27s - loss: 1.8212 - root_mean_square_error: 1.3480 - mean_absolute_error: 1.11 - ETA: 27s - loss: 1.8266 - root_mean_square_error: 1.3500 - mean_absolute_error: 1.11 - ETA: 26s - loss: 1.8254 - root_mean_square_error: 1.3496 - mean_absolute_error: - ETA: 24s - loss: 1.7906 - root_mean_square_error: 1.3363 - mean_absolute_error: 1.105 - ETA: 24s - loss: 1.7906 - root_mean_square_error: 1.3363 - mean_absolute_err - ETA: 20s - loss: 1.7907 - root_mean_square_error: 1.3363 - mean_absolute_error - ETA: 18s - loss: 1.7820 - root_mean_square_error: 1.3332 - mean_absolute_er - ETA: 15s - loss: 1.7825 - root_mean_square_error: 1.3334 - mean_absolute_error: 1.1 - ETA: 15s - loss: 1.7793 - root_mean_square_error: 1.3323 - mean_absolute_erro - ETA: 12s - loss: 1.7794 - root_mean_square_error: 1.3324 - mean_absolute_error: 1.105 - ETA: 12s - loss: 1.7753 - root_mean_square_error: 1.3308 - mean_absolute_error: 1.10 - ETA: 11s - loss: 1.7727 - root_mean_square_error: 1.3298 - mean - ETA: 8s - loss: 1.7645 - root_mean_square_error: 1.3267 - mean_absolute_error: 1. - ETA: 7s - loss: 1.7652 - root_mean_square_error: 1.32 - ETA: 3s - loss: 1.7748 - root_mean_square_error: 1.3306 - mean_absolu\n",
      "Epoch 5/30\n",
      "137/137 [==============================] - 64s 457ms/step - loss: 1.7729 - root_mean_square_error: 1.3302 - mean_absolute_error: 1.1051 - val_loss: 1.8694 - val_root_mean_square_error: 1.3669 - val_mean_absolute_error: 1.2043.7491 - root_mean_square_error: 1.3212 - mean_absolute_error: 1. - ETA: 36s - loss: 1.7314 - root_mean_square_error: 1.3145 - mean_absolute_ - ETA: 26s - loss: 1.7629 - root_mean_square_error: 1.3264 - mean_absolute_ - ETA: 22s - loss: 1.7639 - root_mean_square_erro - ETA: 12s - loss: 1.7710 - root_mean_square_error: 1.3295 - mean_absol - ETA: 8s - loss: 1.7803 - root_mean_square_error: 1.3330 - mean_absolute_e - ETA: 6s - loss: 1.7792 - root_mean_square_error: 1.\n",
      "Epoch 6/30\n",
      "137/137 [==============================] - 64s 466ms/step - loss: 1.7577 - root_mean_square_error: 1.3244 - mean_absolute_error: 1.0979 - val_loss: 1.9320 - val_root_mean_square_error: 1.3893 - val_mean_absolute_error: 1.2227re_error: 1.3319 - mean_absolute_ - ETA: 26s - loss: 1.7676 - root_mean_square_error: 1.3285 - mean_absolute_error: 1.099 - ETA: 26s - loss: 1.7648 - root_mean_square_error: 1.3274 - mean_absolute_error - ETA: 23s - loss: 1.7684 - root_mean_square_error: 1.3288 - mea - ETA: 15s - loss: 1.7597 - root_mean_squar - ETA: 6s - loss: 1.7579 - root_mean_square_error: 1.3245 - mean_absolute - ETA: 3s - loss: 1.7611 - root_mean_square_error: 1.3258 - mean_absolute_error: 1. - ETA: 3s - loss: 1.7624 - root_mean_square_error: 1.3263 - mean_absolute_error\n",
      "Epoch 7/30\n",
      "137/137 [==============================] - 56s 398ms/step - loss: 1.7489 - root_mean_square_error: 1.3214 - mean_absolute_error: 1.0939 - val_loss: 1.8238 - val_root_mean_square_error: 1.3500 - val_mean_absolute_error: 1.1789s: 1.7423 - root_mean_square_error: 1.3190 - mean_absolute_error: 1.09 - ETA: 31s - loss: 1.7328 - root_mean_square_error: 1.3154 - mean_absolute_error: 1.095 - ETA: 34s - loss: 1.7290 - root_mean_square_error: 1.3140 - mean_absolute_error: 1.093 - ETA: 34s - loss: 1.7256 - root_mean_square_error: 1.3127 - mean_absolute_erro - ETA: 30s - loss: 1.7293 - root_mean_square_error: 1.3141 - mean_absol - ETA: 24s - loss: 1.7313 - root_mean_square_error: 1.3149 - mean_absolute_error - ETA: 21s - loss: 1.7349 - root_mean_square_error: 1.3163 - mean_absolute_err - ETA: 18s - loss: 1.7268 - root_mean_square_error: 1.3132 - mean_absolute_e - ETA: 14s - loss: 1.7262 - root_mean_square_error: 1.3129 - mean_absolute_error: 1. - ETA: 13s - loss: 1.7324 - root_mean_square_error: 1.3153 - mean_absolute_error: 1.09 - ETA: 12s - loss: 1.7338 - root_mean_square_error: 1.3159 - mean_absolute_error:  - ETA: 11s - loss: 1.7452 - root_mean_square_error: 1.3201 - mean_a - ETA: 7s - loss: 1.7479 - root_mean_square_error: 1.3210 - mean_absolute - ETA: 5s - loss: 1.7458 - root_mean_square_error: 1.3202 - mea\n",
      "Epoch 8/30\n",
      "137/137 [==============================] - 56s 402ms/step - loss: 1.7566 - root_mean_square_error: 1.3242 - mean_absolute_error: 1.0981 - val_loss: 1.9335 - val_root_mean_square_error: 1.3901 - val_mean_absolute_error: 1.23087668 - root_mean_square_error: 1.3279 - mean_absolute_error: 1 - ETA: 29s - loss: 1.7614 - root_mean_square_error: 1.3260 - mean_absolute - ETA: 24s - loss: 1.7620 - root_mean_square_error: 1.3263 - mean_absolute_error: 1.101 - ETA: 24s - loss: 1.7590 - root_mean_square_error: 1.3252 - mean_absolute_error: 1. - ETA: 22s - loss: 1.7608 - root_mean_square_error: 1.3258 - mean_absolute_error: 1.09 - ETA: 22s - loss: 1.7617 - r - ETA: 5s - loss: 1.7574 - root_mean_square_error: 1.3245\n",
      "Epoch 9/30\n"
     ]
    },
    {
     "name": "stdout",
     "output_type": "stream",
     "text": [
      "137/137 [==============================] - 55s 396ms/step - loss: 1.7682 - root_mean_square_error: 1.3282 - mean_absolute_error: 1.1020 - val_loss: 1.9613 - val_root_mean_square_error: 1.4000 - val_mean_absolute_error: 1.2421 - loss: 1.7061 - root_mean_square_error: 1.3049 - mean_absolute_error - ETA: 33s - loss: 1.7070 - root_mean_square_error: 1.3048 - mean_absolute_error: 1.08 - ETA: 41s - loss: 1.7122 - root_mean_square_error: 1.3067 - mean_absolute_error: 1.08 - ETA: 41s - loss: 1.7241 - root_mean_square_error: 1.3112 - mean_absolute_error: 1.085 - ETA: 41s - loss: 1.7289 - root_mean_square_error: 1.3130 - mean_absolute_error - ETA: 39s - loss: 1.7600 - root_mean_square_error: 1.3245 - mean_absolute_ - ETA: 31s - loss: 1.7541 - root_mean_square_error: 1.3225 - mean_absolute_e - ETA: 26s - loss: 1.7686 - root_mean_square_error: 1.3279 - mean_absolut - ETA: 20s - loss: 1.7648 - root_mean_square_error: 1.3265 - mean_absolute_err - ETA: 16s - loss: 1.7679 - root_mean_square_error: 1.3278 - mean_absolute_e - ETA: 12s - loss: 1.7627 - root_mean_square_error: 1.3260 - mean_absolute_error - ETA: 9s - loss: 1.7679 - root_mean_square_error: 1.3279 - mean_absolute_ - ETA: 7s - loss: 1.7731 - root_mean_square_error: 1.3299 - mean_absolute_error:  - ETA: 6s - loss: 1.7721 - root_mean_square_error: 1.3296 - mean_absolute_error: 1.10 - ETA: 6s - loss: 1.7726 - root_mean_square_error: 1.3298 - mean_absolute_error:  - ETA: 5s - loss: 1.7691 - root_mean_square_error: 1.3285 - mean_absolute_error: 1. - ETA: 5s - loss: 1.7680 - root_mean_square_error: 1.3281 - mean_ab\n",
      "Epoch 10/30\n",
      "137/137 [==============================] - 51s 366ms/step - loss: 1.7582 - root_mean_square_error: 1.3247 - mean_absolute_error: 1.1001 - val_loss: 1.8895 - val_root_mean_square_error: 1.3740 - val_mean_absolute_error: 1.20611.7598 - root_mean_square_error: 1.3249 - mean_abs - ETA: 29s - loss: 1.7618 - root_mean_square_error: 1.3260 - mean_absolute_error: - ETA: 26s - loss: 1.7809 - root_mean_square_error: 1.3331 - mean_absolute_error: 1.11 - ETA: 26s - loss: 1.7867 - root_mean_square_error: 1.3353 - mean_absol - ETA: 20s - loss: 1.7656 - root_mean_square_error: 1.3274 - mean_absolute_err - ETA: 16s - loss: 1.7540 - root_mean_square_error: 1.3231 - mean_absolute_error:  - ETA: 15s - loss: 1.7598 - root_mean_square_error: 1.3253 - mean_absol - ETA: 10s - loss: 1.7554 - root_mean_square_error: 1.3237 - mean_absolute_error: 1.098 - ETA: 10s - loss: 1.7571 - root_mean_square_error: 1.3244 - mean_absolu - ETA: 7s - loss: 1.7610 - root_mean_square_error: 1.3258 - mean_absolute_error: 1. - ETA: 7s - loss: 1.7633 - root_mean_square_error:  - ETA: 2s - loss: 1.7582 - root_mean_square_error: 1.3247 - mean_absolute_error\n",
      "Epoch 11/30\n",
      "137/137 [==============================] - 66s 474ms/step - loss: 1.7627 - root_mean_square_error: 1.3265 - mean_absolute_error: 1.1015 - val_loss: 1.8548 - val_root_mean_square_error: 1.3613 - val_mean_absolute_error: 1.1903loss: 1.7545 - root_mean_square_error: 1.3232 - mean_absolute_err - ETA: 28s - loss: 1.7662 - root_mean_square_error: 1. - ETA: 17s - loss: 1.7720 - root_mean_square_error: 1.3298 - mean_absolute_error: 1.103 - ETA: 16s - loss: 1.7718 - root_mean_square_error: 1.3297 - mean_absolute_error: 1.103 - ETA: 16s - loss: 1.7763 - root_mean_square_error: 1.3314 - mean_abs - ETA: 11s - loss: 1.7776 - root_mean_square_error: 1.3320 - mean_absolute_error: 1 - ETA: 9s - loss: 1.7750 - root_mean_square_error: 1.3310 - mean_absolute_error: 1 - ETA: 8s - loss: 1.7731 - root_mean_square_error: 1.3303 - mean_absolu - ETA: 7s - loss: 1.7672 - root_mean_square_e\n",
      "Epoch 12/30\n",
      "137/137 [==============================] - 85s 610ms/step - loss: 1.7509 - root_mean_square_error: 1.3217 - mean_absolute_error: 1.0961 - val_loss: 1.9202 - val_root_mean_square_error: 1.3851 - val_mean_absolute_error: 1.2180- loss: 1.7852 - root_mean_square_error: 1 - ETA: 44s - loss: 1.7719 - root_mean_square_error: 1.3299 - mean_absolute_error: 1.1 - ETA: 41s - loss: 1.7676 - root_mean_square_error: 1.3283 - mean_absolute_error: - ETA: 36s - loss: 1.7751 - root_mean_square_error: 1.3311 - mean_absolute_error: 1.1 - ETA: 34s - loss: 1.7734 - root_mean_square_error: 1.3305 - mean_absolute_error: 1.102 - ETA: 33s - loss: 1.7744 - root_mean_square_error: 1.3309 - mean_absolute_err - ETA: 26s - los\n",
      "Epoch 13/30\n",
      "137/137 [==============================] - 59s 424ms/step - loss: 1.7592 - root_mean_square_error: 1.3250 - mean_absolute_error: 1.0996 - val_loss: 1.8254 - val_root_mean_square_error: 1.3505 - val_mean_absolute_error: 1.1757s - loss: 1.7104 - root_mean_square_error: 1.3060 - mea - ETA: 33s - loss: 1.7448 - root_mean_square_error: 1.3192 - mean_abso - ETA: 25s - loss: 1.7427 - root_mean_square_error: 1.3186 - mean_absolute_error: 1.090 - ETA: 25s - loss: 1.7441 - root_mean_square_error: 1.3192 - mean_absolute_error: 1.09 - ETA: 24s - loss: 1.7433 - root_mean_square_error: 1.3189 - mean_absolute_error: 1 - ETA: 22s - loss: 1.7509 - root_mean_square_error: 1.3218 - mean_absolute_error: 1.093 - ETA: 22s - loss: 1.7492 - root_mean_square_error: 1.3212 - mean_absolute - ETA: 18s - loss: 1.7453 - root_mean_square_error: 1.3196 - mean_absolute_erro - ETA: 15s - loss: 1.7473 - root_mean_square_error: 1.3204 - mean_absolut - ETA: 10s - loss: 1.7465 - root_mean_square_error: 1.3201 - mean_ab - ETA: 7s - loss: 1.7531 - root_mean_square_error: 1.3227 - mean_absolute_error: 1.09 - ETA: 6s - loss: 1.7536 - root_mean_square_error: 1.3229 - mean_absolute - ETA: 4s - loss: 1.7555 - root_mean_square_error: 1.3236 - mean_ab\n",
      "Epoch 14/30\n",
      "137/137 [==============================] - 66s 476ms/step - loss: 1.7595 - root_mean_square_error: 1.3254 - mean_absolute_error: 1.0984 - val_loss: 1.9828 - val_root_mean_square_error: 1.4075 - val_mean_absolute_error: 1.2461 loss: 1.7279 - root_mean_square_error: 1.3133 - mean_absolute_error: 1. - ETA: 44s - loss: 1.7229 - root_mean_square_error: 1.3111 - mean_absolute_error: 1.080 - ETA: 44s - loss: 1.7138 - root_mean_square_error: 1.3077 - mean_absolu - ETA: 28s - loss: 1.7381 - root_mea - ETA: 17s - loss: 1.7624 - root_mean_square_error: 1.3266 - mean_absolute_error: 1.1 - ETA: 15s - loss: 1.7589 - root_mean_square_error: 1.3253 - mean_absolute_error: 1. - ETA: 14s - loss: 1.7596 - root_mean_square_error: 1.3256 - mean_absolute_erro - ETA: 10s - loss: 1.7624 - root_mean_square_error: 1.3265  - ETA: 5s - loss: 1.7549 - root_mean_square_error: 1.3237 - mea\n",
      "Epoch 15/30\n",
      "137/137 [==============================] - 54s 392ms/step - loss: 1.7589 - root_mean_square_error: 1.3250 - mean_absolute_error: 1.0985 - val_loss: 2.1633 - val_root_mean_square_error: 1.4700 - val_mean_absolute_error: 1.3026- loss: 1.7608 - root_mean_square_error: 1.3256 - mean_absolute_error: 1. - ETA: 22s - loss: 1.7540 - root_mean_square_error: 1.3230 - mea - ETA: 16s - loss: 1.7655 - root_mean_square_error: 1.3274 - mean_absolute_error: 1.1 - ETA: 14s - loss: 1.7648 - root_mean_square_error: 1.3272 - mean_absolute_error:  - ETA: 12s - loss: 1.7683 - root_mean_square_error: 1.3286 - mean_absolu - ETA: 9s - loss: 1.7635 - root_mean_square_error: 1.3267 - mean_absolute_error - ETA: 8s - loss: 1.7621 - root_mean_square_error: 1.3262 - mean_absolu - ETA: 5s - loss: 1.7637 - root_mean_square_error: 1.3269 - mean_abso - ETA: 3s - loss: 1.7609 - root_mean_square_error: 1.3258 - mean_absolute_error: 1.10 - ETA: 3s - loss: 1.7609 - root_mean_square_error: 1.3258 - mean_absolute_error\n",
      "Epoch 16/30\n"
     ]
    },
    {
     "name": "stdout",
     "output_type": "stream",
     "text": [
      "137/137 [==============================] - 62s 450ms/step - loss: 1.7621 - root_mean_square_error: 1.3261 - mean_absolute_error: 1.1014 - val_loss: 1.7814 - val_root_mean_square_error: 1.3342 - val_mean_absolute_error: 1.1480- root_mean_square_error: 1.3478 - mean_absolute_error:  - ETA: 41s - loss: 1.7927 - root_mean_square_error: 1.3380 - mea - ETA: 27s - loss: 1.7591 - root_mean_square_error: 1.3253 - mean_absolute - ETA: 22s - loss: 1.7694 - root_mean_square_error: 1.3288 - mean_absolute_error: - ETA: 19s - loss: 1.7765 - root_mean_square_error: 1.3316 - mean_absolute_e - ETA: 16s - loss: 1.7798 - root_mean_square_error: 1.3327 - mean_absolute_error: 1. - ETA: 15s - loss: 1.7776 - root_mean_square_error: 1.3318 - mean_absolute_error: 1.1 - ETA: 14s - loss: 1.7765 - root_mean_ - ETA: 4s - loss: 1.7605 - root_mean_square_error: 1.3254 - mean_absolute_error: 1. - ETA: 3s - loss: 1.7615 - root_mean_square_error: 1.3258 - mean_absolute_error\n",
      "Epoch 17/30\n",
      "137/137 [==============================] - 66s 476ms/step - loss: 1.7712 - root_mean_square_error: 1.3293 - mean_absolute_error: 1.1033 - val_loss: 1.9421 - val_root_mean_square_error: 1.3931 - val_mean_absolute_error: 1.2313 1.8032 - root_mean_square_error: 1.3411 - mea - ETA: 26s - loss: 1.8060 - root_mean_square_error: 1.3423 - mean_absolute_error: 1.1 - ETA: 25s - loss: 1.8118 - root_mean_square_error: 1.3445 - mean_ - ETA: 17s - lo\n",
      "Epoch 18/30\n",
      "137/137 [==============================] - 57s 410ms/step - loss: 1.7488 - root_mean_square_error: 1.3207 - mean_absolute_error: 1.0948 - val_loss: 2.1602 - val_root_mean_square_error: 1.4690 - val_mean_absolute_error: 1.3041 - root_mean_square_error: 1.3201 - mean_absolute_erro - ETA: 27s - loss: 1.7470 - root_mean_square_error: 1.3196 - mean_absolute_error: 1.095 - ETA: 27s - loss: 1.7459 - root_mean_square_error: 1.3193 - mean_absolute_error: 1.094 - ETA: 26s - loss: 1.7467 - root_mean_square_error: 1.3196 - mean_absolute_error: 1.0 - ETA: 25s - loss: 1.7388 - root_mean_square_error: 1.3165 - mean_absolute_ - ETA: 20s - loss: 1.7372 - root_mean_square_error: 1.3159 - mean_absol - ETA: 14s - loss: 1.7432 - root_mean_square_error: 1.3184 - mean_absolute_ - ETA: 10s - loss: 1.7407 - root_mean_square_error: 1.3175 - mean_absolute_er - ETA: 8s - loss: 1.7465 - root_mean_square_error: 1.3197 - mea - ETA: 5s - loss: 1.7490 - root_mean_square_error: 1.3207 - mean_\n",
      "Epoch 19/30\n",
      "137/137 [==============================] - 61s 433ms/step - loss: 1.7529 - root_mean_square_error: 1.3225 - mean_absolute_error: 1.0966 - val_loss: 1.8972 - val_root_mean_square_error: 1.3769 - val_mean_absolute_error: 1.21271s - loss: 1.7688 - root_mean_square_error: 1.3286 - mean_absolute_error: 1.102 - ETA: 40s - loss: 1.7781 - root_mean_square_error: 1.3320 - mean_absolute_error: 1.104 - ETA: 39s - loss: 1.7875 - root_mean_square_error: 1.3355 - mean_absolute_error: 1.105 - ETA: 39s - loss: 1.7852 - root_mean_square_error: 1.3347 - mean_absolute_error: 1. - ETA: 38s - loss: 1.7747 - root_mean_square_error: 1.3309 - mean - ETA: 30s - loss: 1.7444 - root_mean_square_error: 1.3193 - mean_absolute_error:  - ETA: 27s - loss: 1.7477 - root_mean_square_error: 1.3205 - mean_absolute_error: 1 - ETA: 25s - loss: 1.7566 - root_mean_square_error: 1.3239 - mean_absolute_error: 1.0 - ETA: 24s - loss: 1.7548 - root_mean_square_e - ETA: 10s - loss: 1.7452 - root_mean_square_error: - ETA: 4s - loss: 1.7499 - root_mean_square_error: 1.3214 - mean_absolu\n",
      "Epoch 20/30\n",
      "137/137 [==============================] - 58s 417ms/step - loss: 1.7540 - root_mean_square_error: 1.3230 - mean_absolute_error: 1.0954 - val_loss: 2.0046 - val_root_mean_square_error: 1.4153 - val_mean_absolute_error: 1.25617s - loss: 1.7664 - root_mean_ - ETA: 21s - loss: 1.7742 - root_mean_square_error: 1.3306 - mean_abso - ETA: 15s - loss: 1.7636 - root_mean_square_error: 1.3266 - mean_absolute_error: 1.09 - ETA: 15s - loss: 1.7614 - root_mean_square_error: 1.3258 - mean_absolute_error: 1 - ETA: 14s - loss: 1.7653 - root_mean_square_error: 1.3273 - mean_absolute_erro - ETA: 11s - loss: 1.7610 - root\n",
      "Epoch 21/30\n",
      "137/137 [==============================] - 112s 813ms/step - loss: 1.7533 - root_mean_square_error: 1.3224 - mean_absolute_error: 1.0954 - val_loss: 2.2074 - val_root_mean_square_error: 1.4850 - val_mean_absolute_error: 1.3216oss: 1.7692 - root_mean_square_error: 1.3284 - mean_ab - ETA: 35s - loss: 1.7421 - root_mean_square_error: 1.3178 - mean_absolute_error:\n",
      "Epoch 22/30\n",
      "137/137 [==============================] - 118s 847ms/step - loss: 1.7544 - root_mean_square_error: 1.3234 - mean_absolute_error: 1.0970 - val_loss: 1.9131 - val_root_mean_square_error: 1.3828 - val_mean_absolute_error: 1.2280\n",
      "Epoch 23/30\n",
      "137/137 [==============================] - 102s 736ms/step - loss: 1.7566 - root_mean_square_error: 1.3241 - mean_absolute_error: 1.0982 - val_loss: 1.8502 - val_root_mean_square_error: 1.3599 - val_mean_absolute_error: 1.1943rror: 1.3229 - mean_absolu\n",
      "Epoch 24/30\n",
      "137/137 [==============================] - 144s 1s/step - loss: 1.7487 - root_mean_square_error: 1.3211 - mean_absolute_error: 1.0952 - val_loss: 1.8564 - val_root_mean_square_error: 1.3620 - val_mean_absolute_error: 1.1961\n",
      "Epoch 25/30\n",
      "137/137 [==============================] - 113s 792ms/step - loss: 1.7520 - root_mean_square_error: 1.3226 - mean_absolute_error: 1.0948 - val_loss: 1.8862 - val_root_mean_square_error: 1.3729 - val_mean_absolute_error: 1.2101\n",
      "Epoch 26/30\n",
      "137/137 [==============================] - 55s 390ms/step - loss: 1.7526 - root_mean_square_error: 1.3229 - mean_absolute_error: 1.0952 - val_loss: 1.8438 - val_root_mean_square_error: 1.3575 - val_mean_absolute_error: 1.1895root_mean_square_error: 1.3270 - mean_absolute_e - ETA: 36s - loss: 1.7392 - root_mean_square_error: 1.3179 - mean_absolute_error - ETA: 30s - loss: 1.7598 - root_mean_square_error: 1.3255 - mean_absolute_error: 1.0 - ETA: 28s - loss: 1.7620 - root_mean_square_error: 1.3264 - mean_absolute_error: 1.0 - ETA: 26s - loss: 1.7618 - root_mean_square_error: 1.3264 - mean_absolute_error: 1. - ETA: 24s - loss: 1.7645 - root_mean_square_error: 1.3274 - me - ETA: 14s - loss: 1.7539 - root_mean_square_error: 1.3234 - mean_absolute_error: 1.096 - ETA: 13s - loss: 1.7550 - root_mean_square_error: 1.3238 - mean_absolute_error:  - ETA: 11s - loss: 1.7605 - root_mean_square_error: 1.3259 - mean_absolute_error: 1.098 - ETA: 11s - loss: 1.7592 - root_mean_square_error: 1.3253 - mean_absolute_error: 1.097 - ETA: 10s - loss: 1.7578 - root_mean\n",
      "Epoch 27/30\n",
      "137/137 [==============================] - 56s 403ms/step - loss: 1.7596 - root_mean_square_error: 1.3254 - mean_absolute_error: 1.1002 - val_loss: 1.9013 - val_root_mean_square_error: 1.3783 - val_mean_absolute_error: 1.2083ss: 1.7718 - root_mean_square_error: 1.3304 - mean_absolute_error: 1.103 - ETA: 30s - loss: 1.7666 - root_mean_square_error: 1.3284  - ETA: 18s - loss: 1.7609 - root_mean_square_error: 1.3261 - mean_absolute_error: 1.100 - ETA: 18s - loss: 1.7594 - root_mean_square_error: 1.3256 - mean_absolute_error: 1.100 - ETA: 18s - loss: 1.7602 - root_mean_square_error: 1.3259 - mean_absolute_error: 1.10 - ETA: 17s - loss: 1.7605 - root_mean_square_error: 1.3260 - mean_absolut - ETA: 13s - loss: 1.7673 - root_mean_square_error: 1.3284 - mean_absolute_erro - ETA: 11s - loss: 1.7702 - root_mean_square_error: 1.329 - ETA: 6s - loss: 1.7660 - root_mean_square_error: 1.3279 - mean_ - ETA: 4s - loss: 1.7640 - root_mean_square_error: 1.3271 - mean_\n",
      "Epoch 28/30\n",
      "137/137 [==============================] - 134s 969ms/step - loss: 1.7534 - root_mean_square_error: 1.3230 - mean_absolute_error: 1.0957 - val_loss: 1.8335 - val_root_mean_square_error: 1.3537 - val_mean_absolute_error: 1.1835_square_error: 1.3224 - mean_absolute_error: 1.09 - ETA: 18s - loss: 1.7518 - root_mean_square_err\n",
      "Epoch 29/30\n",
      "137/137 [==============================] - 123s 873ms/step - loss: 1.7463 - root_mean_square_error: 1.3203 - mean_absolute_error: 1.0921 - val_loss: 1.9184 - val_root_mean_square_error: 1.3845 - val_mean_absolute_error: 1.2245e_error: 1.3204 - mean_absolute_e\n",
      "Epoch 30/30\n"
     ]
    },
    {
     "name": "stdout",
     "output_type": "stream",
     "text": [
      "137/137 [==============================] - 102s 734ms/step - loss: 1.7540 - root_mean_square_error: 1.3232 - mean_absolute_error: 1.0960 - val_loss: 1.9322 - val_root_mean_square_error: 1.3896 - val_mean_absolute_error: 1.2295: 1.7653 - root_mean_sq - ETA: 17s - loss: 1.7544 - roo\n"
     ]
    }
   ],
   "source": [
    "history_3 = model_3.fit(\n",
    "    train_gen_3,\n",
    "    validation_data=test_gen_3,\n",
    "    epochs=epochs_3,\n",
    "    verbose=1,\n",
    "    shuffle=False,\n",
    "    use_multiprocessing=False,\n",
    "    workers=num_workers_3,\n",
    ")"
   ]
  },
  {
   "cell_type": "code",
   "execution_count": 192,
   "metadata": {},
   "outputs": [
    {
     "data": {
      "image/png": "[encoded data removed]",
      "text/plain": [
       "<Figure size 504x864 with 3 Axes>"
      ]
     },
     "metadata": {
      "needs_background": "light"
     },
     "output_type": "display_data"
    }
   ],
   "source": [
    "sg.utils.plot_history(history_3)"
   ]
  },
  {
   "cell_type": "code",
   "execution_count": 193,
   "metadata": {},
   "outputs": [
    {
     "name": "stdout",
     "output_type": "stream",
     "text": [
      "59/59 [==============================] - 30s 474ms/step - loss: 1.9260 - root_mean_square_error: 1.3872 - mean_absolute_error: 1.2279 20s - loss: 1.9164 - root_mean_square_error: 1.3838 - mean_absolute_error: 1 - ETA: 17s - loss: 1.9039 - root_mean_square_error: 1.379 - ETA: 6s - loss: 1.9166 - root_mean_square_error: 1.3838 - mean_absolute_err - ETA: 3s - loss: 1.9187 - root_mean_square_error: 1.3846 - mean_absolu\n",
      "Test Evaluation:\n",
      "\tloss: 1.9260\n",
      "\troot_mean_square_error: 1.3872\n",
      "\tmean_absolute_error: 1.2279\n"
     ]
    }
   ],
   "source": [
    "test_metrics_3 = model_3.evaluate(\n",
    "    test_gen_3, use_multiprocessing=False, workers=num_workers_3, verbose=1\n",
    ")\n",
    "\n",
    "print(\"Test Evaluation:\")\n",
    "for name, val in zip(model_3.metrics_names, test_metrics_3):\n",
    "    print(\"\\t{}: {:0.4f}\".format(name, val))"
   ]
  },
  {
   "cell_type": "code",
   "execution_count": 195,
   "metadata": {},
   "outputs": [
    {
     "name": "stdout",
     "output_type": "stream",
     "text": [
      "Mean Baseline Test set metrics:\n",
      "\troot_mean_square_error =  1.463703040241648\n",
      "\tmean_absolute_error =  1.2744868861169023\n",
      "\n",
      "Model Test set metrics:\n",
      "\troot_mean_square_error =  1.3889977961737274\n",
      "\tmean_absolute_error =  1.2291692468848348\n"
     ]
    }
   ],
   "source": [
    "y_true = labels_test\n",
    "# Predict the rankings using the model:\n",
    "y_pred = model_3.predict(test_gen_3)\n",
    "# Mean baseline rankings = mean movie ranking:\n",
    "y_pred_baseline = np.full_like(y_pred, np.mean(y_true))\n",
    "\n",
    "rmse = np.sqrt(mean_squared_error(y_true, y_pred_baseline))\n",
    "mae = mean_absolute_error(y_true, y_pred_baseline)\n",
    "print(\"Mean Baseline Test set metrics:\")\n",
    "print(\"\\troot_mean_square_error = \", rmse)\n",
    "print(\"\\tmean_absolute_error = \", mae)\n",
    "\n",
    "rmse = np.sqrt(mean_squared_error(y_true, y_pred))\n",
    "mae = mean_absolute_error(y_true, y_pred)\n",
    "print(\"\\nModel Test set metrics:\")\n",
    "print(\"\\troot_mean_square_error = \", rmse)\n",
    "print(\"\\tmean_absolute_error = \", mae)"
   ]
  },
  {
   "cell_type": "code",
   "execution_count": 196,
   "metadata": {},
   "outputs": [
    {
     "data": {
      "image/png": "[encoded data removed]",
      "text/plain": [
       "<Figure size 432x288 with 1 Axes>"
      ]
     },
     "metadata": {
      "needs_background": "light"
     },
     "output_type": "display_data"
    }
   ],
   "source": [
    "h_true = plt.hist(y_true, bins=30, facecolor=\"green\", alpha=0.5)\n",
    "h_pred = plt.hist(y_pred, bins=30, facecolor=\"blue\", alpha=0.5)\n",
    "plt.xlabel(\"ranking\")\n",
    "plt.ylabel(\"count\")\n",
    "plt.legend((\"True\", \"Predicted\"))\n",
    "plt.show()"
   ]
  },
  {
   "cell_type": "code",
   "execution_count": null,
   "metadata": {},
   "outputs": [],
   "source": []
  }
 ],
 "metadata": {
  "kernelspec": {
   "display_name": "Python 3",
   "language": "python",
   "name": "python3"
  },
  "language_info": {
   "codemirror_mode": {
    "name": "ipython",
    "version": 3
   },
   "file_extension": ".py",
   "mimetype": "text/x-python",
   "name": "python",
   "nbconvert_exporter": "python",
   "pygments_lexer": "ipython3",
   "version": "3.8.3"
  }
 },
 "nbformat": 4,
 "nbformat_minor": 4
}
